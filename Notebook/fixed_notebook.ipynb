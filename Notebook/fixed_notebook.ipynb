{
 "cells": [
  {
   "cell_type": "code",
   "execution_count": 1,
   "id": "f4303746",
   "metadata": {},
   "outputs": [
    {
     "name": "stdout",
     "output_type": "stream",
     "text": [
      "Requirement already satisfied: langchain in /home/tejas.raval@simform.dom/Desktop/ViniGraph/pheonix/lib/python3.10/site-packages (0.3.25)\n",
      "Requirement already satisfied: langsmith<0.4,>=0.1.17 in /home/tejas.raval@simform.dom/Desktop/ViniGraph/pheonix/lib/python3.10/site-packages (from langchain) (0.3.44)\n",
      "Requirement already satisfied: PyYAML>=5.3 in /home/tejas.raval@simform.dom/Desktop/ViniGraph/pheonix/lib/python3.10/site-packages (from langchain) (6.0.2)\n",
      "Requirement already satisfied: langchain-text-splitters<1.0.0,>=0.3.8 in /home/tejas.raval@simform.dom/Desktop/ViniGraph/pheonix/lib/python3.10/site-packages (from langchain) (0.3.8)\n",
      "Requirement already satisfied: langchain-core<1.0.0,>=0.3.58 in /home/tejas.raval@simform.dom/Desktop/ViniGraph/pheonix/lib/python3.10/site-packages (from langchain) (0.3.63)\n",
      "Requirement already satisfied: SQLAlchemy<3,>=1.4 in /home/tejas.raval@simform.dom/Desktop/ViniGraph/pheonix/lib/python3.10/site-packages (from langchain) (2.0.41)\n",
      "Requirement already satisfied: async-timeout<5.0.0,>=4.0.0 in /home/tejas.raval@simform.dom/Desktop/ViniGraph/pheonix/lib/python3.10/site-packages (from langchain) (4.0.3)\n",
      "Requirement already satisfied: pydantic<3.0.0,>=2.7.4 in /home/tejas.raval@simform.dom/Desktop/ViniGraph/pheonix/lib/python3.10/site-packages (from langchain) (2.11.5)\n",
      "Requirement already satisfied: requests<3,>=2 in /home/tejas.raval@simform.dom/Desktop/ViniGraph/pheonix/lib/python3.10/site-packages (from langchain) (2.32.3)\n",
      "Requirement already satisfied: typing-extensions>=4.7 in /home/tejas.raval@simform.dom/Desktop/ViniGraph/pheonix/lib/python3.10/site-packages (from langchain-core<1.0.0,>=0.3.58->langchain) (4.14.0)\n",
      "Requirement already satisfied: jsonpatch<2.0,>=1.33 in /home/tejas.raval@simform.dom/Desktop/ViniGraph/pheonix/lib/python3.10/site-packages (from langchain-core<1.0.0,>=0.3.58->langchain) (1.33)\n",
      "Requirement already satisfied: packaging<25,>=23.2 in /home/tejas.raval@simform.dom/Desktop/ViniGraph/pheonix/lib/python3.10/site-packages (from langchain-core<1.0.0,>=0.3.58->langchain) (24.2)\n",
      "Requirement already satisfied: tenacity!=8.4.0,<10.0.0,>=8.1.0 in /home/tejas.raval@simform.dom/Desktop/ViniGraph/pheonix/lib/python3.10/site-packages (from langchain-core<1.0.0,>=0.3.58->langchain) (9.1.2)\n",
      "Requirement already satisfied: requests-toolbelt<2.0.0,>=1.0.0 in /home/tejas.raval@simform.dom/Desktop/ViniGraph/pheonix/lib/python3.10/site-packages (from langsmith<0.4,>=0.1.17->langchain) (1.0.0)\n",
      "Requirement already satisfied: httpx<1,>=0.23.0 in /home/tejas.raval@simform.dom/Desktop/ViniGraph/pheonix/lib/python3.10/site-packages (from langsmith<0.4,>=0.1.17->langchain) (0.28.1)\n",
      "Requirement already satisfied: orjson<4.0.0,>=3.9.14 in /home/tejas.raval@simform.dom/Desktop/ViniGraph/pheonix/lib/python3.10/site-packages (from langsmith<0.4,>=0.1.17->langchain) (3.10.18)\n",
      "Requirement already satisfied: zstandard<0.24.0,>=0.23.0 in /home/tejas.raval@simform.dom/Desktop/ViniGraph/pheonix/lib/python3.10/site-packages (from langsmith<0.4,>=0.1.17->langchain) (0.23.0)\n",
      "Requirement already satisfied: typing-inspection>=0.4.0 in /home/tejas.raval@simform.dom/Desktop/ViniGraph/pheonix/lib/python3.10/site-packages (from pydantic<3.0.0,>=2.7.4->langchain) (0.4.1)\n",
      "Requirement already satisfied: pydantic-core==2.33.2 in /home/tejas.raval@simform.dom/Desktop/ViniGraph/pheonix/lib/python3.10/site-packages (from pydantic<3.0.0,>=2.7.4->langchain) (2.33.2)\n",
      "Requirement already satisfied: annotated-types>=0.6.0 in /home/tejas.raval@simform.dom/Desktop/ViniGraph/pheonix/lib/python3.10/site-packages (from pydantic<3.0.0,>=2.7.4->langchain) (0.7.0)\n",
      "Requirement already satisfied: idna<4,>=2.5 in /home/tejas.raval@simform.dom/Desktop/ViniGraph/pheonix/lib/python3.10/site-packages (from requests<3,>=2->langchain) (3.10)\n",
      "Requirement already satisfied: urllib3<3,>=1.21.1 in /home/tejas.raval@simform.dom/Desktop/ViniGraph/pheonix/lib/python3.10/site-packages (from requests<3,>=2->langchain) (2.4.0)\n",
      "Requirement already satisfied: certifi>=2017.4.17 in /home/tejas.raval@simform.dom/Desktop/ViniGraph/pheonix/lib/python3.10/site-packages (from requests<3,>=2->langchain) (2025.4.26)\n",
      "Requirement already satisfied: charset-normalizer<4,>=2 in /home/tejas.raval@simform.dom/Desktop/ViniGraph/pheonix/lib/python3.10/site-packages (from requests<3,>=2->langchain) (3.4.2)\n",
      "Requirement already satisfied: greenlet>=1 in /home/tejas.raval@simform.dom/Desktop/ViniGraph/pheonix/lib/python3.10/site-packages (from SQLAlchemy<3,>=1.4->langchain) (3.2.2)\n",
      "Requirement already satisfied: httpcore==1.* in /home/tejas.raval@simform.dom/Desktop/ViniGraph/pheonix/lib/python3.10/site-packages (from httpx<1,>=0.23.0->langsmith<0.4,>=0.1.17->langchain) (1.0.9)\n",
      "Requirement already satisfied: anyio in /home/tejas.raval@simform.dom/Desktop/ViniGraph/pheonix/lib/python3.10/site-packages (from httpx<1,>=0.23.0->langsmith<0.4,>=0.1.17->langchain) (4.9.0)\n",
      "Requirement already satisfied: h11>=0.16 in /home/tejas.raval@simform.dom/Desktop/ViniGraph/pheonix/lib/python3.10/site-packages (from httpcore==1.*->httpx<1,>=0.23.0->langsmith<0.4,>=0.1.17->langchain) (0.16.0)\n",
      "Requirement already satisfied: jsonpointer>=1.9 in /home/tejas.raval@simform.dom/Desktop/ViniGraph/pheonix/lib/python3.10/site-packages (from jsonpatch<2.0,>=1.33->langchain-core<1.0.0,>=0.3.58->langchain) (3.0.0)\n",
      "Requirement already satisfied: sniffio>=1.1 in /home/tejas.raval@simform.dom/Desktop/ViniGraph/pheonix/lib/python3.10/site-packages (from anyio->httpx<1,>=0.23.0->langsmith<0.4,>=0.1.17->langchain) (1.3.1)\n",
      "Requirement already satisfied: exceptiongroup>=1.0.2 in /home/tejas.raval@simform.dom/Desktop/ViniGraph/pheonix/lib/python3.10/site-packages (from anyio->httpx<1,>=0.23.0->langsmith<0.4,>=0.1.17->langchain) (1.3.0)\n",
      "\n",
      "\u001b[1m[\u001b[0m\u001b[34;49mnotice\u001b[0m\u001b[1;39;49m]\u001b[0m\u001b[39;49m A new release of pip is available: \u001b[0m\u001b[31;49m23.0.1\u001b[0m\u001b[39;49m -> \u001b[0m\u001b[32;49m25.1.1\u001b[0m\n",
      "\u001b[1m[\u001b[0m\u001b[34;49mnotice\u001b[0m\u001b[1;39;49m]\u001b[0m\u001b[39;49m To update, run: \u001b[0m\u001b[32;49mpip install --upgrade pip\u001b[0m\n",
      "Note: you may need to restart the kernel to use updated packages.\n"
     ]
    }
   ],
   "source": [
    "%pip install langchain"
   ]
  },
  {
   "cell_type": "code",
   "execution_count": 2,
   "id": "80a82715",
   "metadata": {},
   "outputs": [],
   "source": [
    "import os\n",
    "from dotenv import load_dotenv\n",
    "load_dotenv()\n",
    "key = os.getenv(\"GOOGLE_API_KEY\")"
   ]
  },
  {
   "cell_type": "code",
   "execution_count": null,
   "id": "1d7b34a3",
   "metadata": {},
   "outputs": [],
   "source": []
  },
  {
   "cell_type": "code",
   "execution_count": 3,
   "id": "c6d24ef3",
   "metadata": {},
   "outputs": [],
   "source": [
    "from langgraph.prebuilt import create_react_agent\n",
    "from langchain_google_genai import ChatGoogleGenerativeAI   \n",
    "from langchain.tools import tool     \n"
   ]
  },
  {
   "cell_type": "code",
   "execution_count": 4,
   "id": "4700de75",
   "metadata": {},
   "outputs": [
    {
     "name": "stdout",
     "output_type": "stream",
     "text": [
      "Python 3.10.11\n"
     ]
    }
   ],
   "source": [
    "!python3 --version"
   ]
  },
  {
   "cell_type": "code",
   "execution_count": 5,
   "id": "467ef228",
   "metadata": {},
   "outputs": [],
   "source": [
    "client = ChatGoogleGenerativeAI(\n",
    "    model=\"gemini-2.0-flash\",google_api_key=key)"
   ]
  },
  {
   "cell_type": "code",
   "execution_count": 6,
   "id": "acfbc12b",
   "metadata": {},
   "outputs": [],
   "source": [
    "from langgraph.prebuilt import create_react_agent\n",
    "from langgraph_swarm import create_swarm, create_handoff_tool"
   ]
  },
  {
   "cell_type": "markdown",
   "id": "f973c406",
   "metadata": {},
   "source": [
    "## Tools for agents\n"
   ]
  },
  {
   "cell_type": "code",
   "execution_count": 7,
   "id": "f7b6495f",
   "metadata": {},
   "outputs": [],
   "source": [
    "@tool(description=\"generate_case\", return_direct=True)\n",
    "def generate_case(name: str, date: str) -> str:\n",
    "    \"\"\"\n",
    "    A simple tool that simulates generating an appointment booking case \n",
    "    \n",
    "    Args:\n",
    "        name (str): The name of the person making the appointment.\n",
    "        date (str): The date of the appointment.\n",
    "\n",
    "    Returns:\n",
    "        str: Confirmation message.\n",
    "    \"\"\"\n",
    "    return \"Your case is generated successfully!\"\n",
    "\n",
    "@tool(description=\"book_appointment\", return_direct=True)\n",
    "def book_appointment(name: str, date: str) -> str:\n",
    "    \"\"\"\n",
    "    A simple tool that simulates booking an appointment.\n",
    "    \n",
    "    Args:\n",
    "        name (str): The name of the person making the appointment.\n",
    "        date (str): The date of the appointment.\n",
    "    \n",
    "    Returns:\n",
    "        str: Confirmation message.\n",
    "    \"\"\"\n",
    "    return f\"Appointment booked for {name} on {date} successfully!\"\n",
    "\n",
    "@tool(description=\"medicine_info\", return_direct=True)\n",
    "def medicine_info(medicine_name: str) -> str:\n",
    "    \"\"\"\n",
    "    A simple tool that simulates retrieving information about a medicine.\n",
    "    \n",
    "    Args:\n",
    "        medicine_name (str): The name of the medicine.\n",
    "    \n",
    "    Returns:\n",
    "        str: Information about the medicine.\n",
    "    \"\"\"\n",
    "    return f\"Information about {medicine_name}: [Details about the medicine]\"\n"
   ]
  },
  {
   "cell_type": "markdown",
   "id": "b23627c0",
   "metadata": {},
   "source": [
    "## handoff Tools"
   ]
  },
  {
   "cell_type": "code",
   "execution_count": 8,
   "id": "58e37672",
   "metadata": {},
   "outputs": [],
   "source": [
    "transfer_to_appointment_scheduler = create_handoff_tool(\n",
    "    agent_name=\"appointment_scheduler\",\n",
    "    description=\"Transfer user to the appointment scheduler.\",\n",
    ")\n",
    "transfer_to_case_generator = create_handoff_tool(\n",
    "    agent_name=\"case_generator\",\n",
    "    description=\"Transfer user to the case generator.\",\n",
    ")\n",
    "\n",
    "transfer_to_medicine_inventory = create_handoff_tool(\n",
    "    agent_name=\"medicine_inventory\",\n",
    "    description=\"Transfer user to the medicine inventory assistant.\",\n",
    ")\n",
    "transfer_to_supervisor = create_handoff_tool(\n",
    "    agent_name=\"supervisor\",\n",
    "    description=\"Transfer user to the supervisor.\",\n",
    ")"
   ]
  },
  {
   "cell_type": "markdown",
   "id": "b038b445",
   "metadata": {},
   "source": [
    "## Scheduling Agent"
   ]
  },
  {
   "cell_type": "code",
   "execution_count": 9,
   "id": "7eca543e",
   "metadata": {},
   "outputs": [],
   "source": [
    "appointment_scheduler = create_react_agent(\n",
    "    model=client,\n",
    "    tools=[book_appointment, transfer_to_case_generator, transfer_to_medicine_inventory, transfer_to_supervisor],\n",
    "    prompt=\"You are an appointment scheduler agent that can book appointments for users for medical consultations you can also transfer users to the other agents when your part is done.\", \n",
    "    name=\"appointment_scheduler\"\n",
    ")"
   ]
  },
  {
   "cell_type": "markdown",
   "id": "4ff5a8b5",
   "metadata": {},
   "source": [
    "## Case Generator Agent"
   ]
  },
  {
   "cell_type": "code",
   "execution_count": 10,
   "id": "b3fecfcb",
   "metadata": {},
   "outputs": [],
   "source": [
    "case_generator = create_react_agent(\n",
    "    model=client,\n",
    "    tools=[generate_case, transfer_to_appointment_scheduler, transfer_to_medicine_inventory, transfer_to_supervisor],\n",
    "    prompt=\"You are a case generator that can create new cases . You will analyze the user's request and generate a structured case. You can also transfer users to the other agents when your part is done.\",\n",
    "    name=\"case_generator\"\n",
    ")\n"
   ]
  },
  {
   "cell_type": "markdown",
   "id": "fb907311",
   "metadata": {},
   "source": [
    "## Inventory Management Agent"
   ]
  },
  {
   "cell_type": "code",
   "execution_count": 11,
   "id": "c25c8916",
   "metadata": {},
   "outputs": [],
   "source": [
    "medicine_inventory = create_react_agent(\n",
    "    model=client,\n",
    "    tools=[medicine_info, transfer_to_appointment_scheduler, transfer_to_case_generator, transfer_to_supervisor],\n",
    "    prompt=\"You are a medicine inventory assistant that can provide information about medicines. You can also transfer users to the other agents when your part is done.\",\n",
    "    name=\"medicine_inventory\"\n",
    ")\n"
   ]
  },
  {
   "cell_type": "markdown",
   "id": "ad492542",
   "metadata": {},
   "source": [
    "## Supervisor Agent"
   ]
  },
  {
   "cell_type": "code",
   "execution_count": 12,
   "id": "c0557709",
   "metadata": {},
   "outputs": [],
   "source": [
    "supervisor = create_react_agent(\n",
    "    model=client,\n",
    "    tools=[transfer_to_appointment_scheduler, transfer_to_case_generator, transfer_to_medicine_inventory],\n",
    "    prompt=\"You are a supervisor that can make decisions about which assistant to transfer the user to fullfilling their request. you break the the request down into smaller tasks and decide which assistant is best suited to handle each task.\" ,\n",
    "    name=\"supervisor\"\n",
    ")"
   ]
  },
  {
   "cell_type": "markdown",
   "id": "68ae46e6",
   "metadata": {},
   "source": [
    "## ToolMessage Handler"
   ]
  },
  {
   "cell_type": "code",
   "execution_count": 13,
   "id": "32fc3440",
   "metadata": {},
   "outputs": [],
   "source": [
    "from langchain_core.messages import ToolMessage, AIMessage\n",
    "from typing import Dict, Any\n",
    "\n",
    "def inject_tool_messages(state: Dict[str, Any]) -> Dict[str, Any]:\n",
    "    for agent_name, agent_state in state.items():\n",
    "        if not isinstance(agent_state, dict):\n",
    "            continue\n",
    "        messages = agent_state.get(\"messages\", [])\n",
    "        if not messages:\n",
    "            continue\n",
    "\n",
    "        for msg in reversed(messages):\n",
    "            if isinstance(msg, AIMessage) and msg.tool_calls:\n",
    "                for tool_call in msg.tool_calls:\n",
    "                    # Only inject if not already injected\n",
    "                    if not any(\n",
    "                        isinstance(m, ToolMessage) and m.tool_call_id == tool_call[\"id\"]\n",
    "                        for m in messages\n",
    "                    ):\n",
    "                        messages.append(\n",
    "                            ToolMessage(\n",
    "                                content=f\"Simulated response from tool `{tool_call['name']}`.\",\n",
    "                                name=tool_call[\"name\"],\n",
    "                                tool_call_id=tool_call[\"id\"]\n",
    "                            )\n",
    "                        )\n",
    "                break  # Only handle the most recent tool call\n",
    "\n",
    "        agent_state[\"messages\"] = messages\n",
    "    return state\n"
   ]
  },
  {
   "cell_type": "markdown",
   "id": "1d36a425",
   "metadata": {},
   "source": [
    "## Create checkpointer"
   ]
  },
  {
   "cell_type": "code",
   "execution_count": 14,
   "id": "f8f5500a",
   "metadata": {},
   "outputs": [],
   "source": [
    "from langgraph.checkpoint.memory import InMemorySaver\n",
    "\n",
    "memory = InMemorySaver()\n"
   ]
  },
  {
   "cell_type": "markdown",
   "id": "f0095235",
   "metadata": {},
   "source": [
    "## Create Swarm"
   ]
  },
  {
   "cell_type": "code",
   "execution_count": 15,
   "id": "275c3384",
   "metadata": {},
   "outputs": [],
   "source": [
    "swarm = create_swarm(\n",
    "    agents=[appointment_scheduler, case_generator, medicine_inventory, supervisor],\n",
    "    default_active_agent=\"supervisor\",\n",
    ").compile(checkpointer=memory)"
   ]
  },
  {
   "cell_type": "markdown",
   "id": "5c253700",
   "metadata": {},
   "source": [
    "## configuration to pass while streaming"
   ]
  },
  {
   "cell_type": "code",
   "execution_count": 16,
   "id": "1b993da5",
   "metadata": {},
   "outputs": [],
   "source": [
    "config = {\"configurable\": {\"thread_id\": \"1\"}}"
   ]
  },
  {
   "cell_type": "code",
   "execution_count": 17,
   "id": "b7a5e957",
   "metadata": {},
   "outputs": [],
   "source": [
    "from pprint import pprint"
   ]
  },
  {
   "cell_type": "code",
   "execution_count": 18,
   "id": "fa624b3d",
   "metadata": {},
   "outputs": [
    {
     "name": "stdout",
     "output_type": "stream",
     "text": [
      "Graph state: StateSnapshot(values={}, next=(), config={'configurable': {'thread_id': '1'}}, metadata=None, created_at=None, parent_config=None, tasks=(), interrupts=())\n"
     ]
    }
   ],
   "source": [
    "graph_state = swarm.get_state(config)\n",
    "print(\"Graph state:\", graph_state)"
   ]
  },
  {
   "cell_type": "code",
   "execution_count": 19,
   "id": "54fd3103",
   "metadata": {},
   "outputs": [],
   "source": [
    "state = {\n",
    "   \n",
    "        \"messages\": [\n",
    "            {\"role\": \"user\", \"content\": \"I need to book an appointment for John Doe on 2023-10-15 and check Aspirin availability.\"}\n",
    "        ]\n",
    "    \n",
    "}\n",
    "\n"
   ]
  },
  {
   "cell_type": "code",
   "execution_count": 22,
   "id": "5ce4c73d",
   "metadata": {},
   "outputs": [
    {
     "name": "stdout",
     "output_type": "stream",
     "text": [
      "-----------------------------------------------\n",
      "{}\n",
      "-----------------------------------------------\n"
     ]
    },
    {
     "name": "stderr",
     "output_type": "stream",
     "text": [
      "exception calling callback for <Future at 0x7fd14c687df0 state=finished raised ParentCommand>\n",
      "Traceback (most recent call last):\n",
      "  File \"/usr/local/lib/python3.10/concurrent/futures/_base.py\", line 342, in _invoke_callbacks\n",
      "    callback(self)\n",
      "  File \"/home/tejas.raval@simform.dom/Desktop/ViniGraph/pheonix/lib/python3.10/site-packages/langgraph/pregel/runner.py\", line 107, in on_done\n",
      "    self.callback()(task, _exception(fut))  # type: ignore[misc]\n",
      "  File \"/home/tejas.raval@simform.dom/Desktop/ViniGraph/pheonix/lib/python3.10/site-packages/langgraph/pregel/runner.py\", line 434, in commit\n",
      "    raise exception\n",
      "  File \"/home/tejas.raval@simform.dom/Desktop/ViniGraph/pheonix/lib/python3.10/site-packages/langgraph/pregel/executor.py\", line 80, in done\n",
      "    task.result()\n",
      "  File \"/usr/local/lib/python3.10/concurrent/futures/_base.py\", line 451, in result\n",
      "    return self.__get_result()\n",
      "  File \"/usr/local/lib/python3.10/concurrent/futures/_base.py\", line 403, in __get_result\n",
      "    raise self._exception\n",
      "  File \"/usr/local/lib/python3.10/concurrent/futures/thread.py\", line 58, in run\n",
      "    result = self.fn(*self.args, **self.kwargs)\n",
      "  File \"/home/tejas.raval@simform.dom/Desktop/ViniGraph/pheonix/lib/python3.10/site-packages/langgraph/pregel/retry.py\", line 40, in run_with_retry\n",
      "    return task.proc.invoke(task.input, config)\n",
      "  File \"/home/tejas.raval@simform.dom/Desktop/ViniGraph/pheonix/lib/python3.10/site-packages/langgraph/utils/runnable.py\", line 625, in invoke\n",
      "    input = step.invoke(input, config)\n",
      "  File \"/home/tejas.raval@simform.dom/Desktop/ViniGraph/pheonix/lib/python3.10/site-packages/langgraph/utils/runnable.py\", line 377, in invoke\n",
      "    ret = self.func(*args, **kwargs)\n",
      "  File \"/home/tejas.raval@simform.dom/Desktop/ViniGraph/pheonix/lib/python3.10/site-packages/langgraph/pregel/write.py\", line 99, in _write\n",
      "    self.do_write(\n",
      "  File \"/home/tejas.raval@simform.dom/Desktop/ViniGraph/pheonix/lib/python3.10/site-packages/langgraph/pregel/write.py\", line 142, in do_write\n",
      "    write(_assemble_writes(writes))\n",
      "  File \"/home/tejas.raval@simform.dom/Desktop/ViniGraph/pheonix/lib/python3.10/site-packages/langgraph/pregel/write.py\", line 199, in _assemble_writes\n",
      "    if ww := w.mapper(w.value):\n",
      "  File \"/home/tejas.raval@simform.dom/Desktop/ViniGraph/pheonix/lib/python3.10/site-packages/langgraph/graph/state.py\", line 1066, in _control_branch\n",
      "    raise ParentCommand(command)\n",
      "langgraph.errors.ParentCommand: Command(graph='appointment_scheduler:125f0900-43fb-c137-8b68-147fa717dba7', update={'messages': [HumanMessage(content='I need to book an appointment for John Doe on 2023-10-15 and check Aspirin availability.', additional_kwargs={}, response_metadata={}, id='7f2090f1-4dcf-4b79-9d64-75361d2450cf'), AIMessage(content='', additional_kwargs={'function_call': {'name': 'transfer_to_appointment_scheduler', 'arguments': '{}'}}, response_metadata={'prompt_feedback': {'block_reason': 0, 'safety_ratings': []}, 'finish_reason': 'STOP', 'model_name': 'gemini-2.0-flash', 'safety_ratings': []}, name='supervisor', id='run--37368cb1-b2f7-4cf5-a991-2b949cd14769-0', tool_calls=[{'name': 'transfer_to_appointment_scheduler', 'args': {}, 'id': '1f8061c6-82a6-4ca3-8703-8c3f4cab7eed', 'type': 'tool_call'}], usage_metadata={'input_tokens': 112, 'output_tokens': 7, 'total_tokens': 119, 'input_token_details': {'cache_read': 0}}), ToolMessage(content='Successfully transferred to appointment_scheduler', name='transfer_to_appointment_scheduler', id='efe3b0bb-ac0a-4082-9c7b-f4acd8a162f9', tool_call_id='1f8061c6-82a6-4ca3-8703-8c3f4cab7eed'), AIMessage(content='', additional_kwargs={'function_call': {'name': 'transfer_to_medicine_inventory', 'arguments': '{}'}}, response_metadata={'prompt_feedback': {'block_reason': 0, 'safety_ratings': []}, 'finish_reason': 'STOP', 'model_name': 'gemini-2.0-flash', 'safety_ratings': []}, name='appointment_scheduler', id='run--77dbbfcb-5448-416f-94ca-3828838044d5-0', tool_calls=[{'name': 'book_appointment', 'args': {'date': '2023-10-15', 'name': 'John Doe'}, 'id': '74b5407e-e59f-49e6-9bdc-f58739e8f6f4', 'type': 'tool_call'}, {'name': 'transfer_to_medicine_inventory', 'args': {}, 'id': '338e35e3-98ed-4580-90d6-41265024278b', 'type': 'tool_call'}], usage_metadata={'input_tokens': 131, 'output_tokens': 24, 'total_tokens': 155, 'input_token_details': {'cache_read': 0}}), ToolMessage(content='Successfully transferred to medicine_inventory', name='transfer_to_medicine_inventory', tool_call_id='338e35e3-98ed-4580-90d6-41265024278b')], 'active_agent': 'medicine_inventory'}, goto='medicine_inventory')\n"
     ]
    },
    {
     "ename": "ValueError",
     "evalue": "Found AIMessages with tool_calls that do not have a corresponding ToolMessage. Here are the first few of those tool calls: [{'name': 'book_appointment', 'args': {'date': '2023-10-15', 'name': 'John Doe'}, 'id': '74b5407e-e59f-49e6-9bdc-f58739e8f6f4', 'type': 'tool_call'}].\n\nEvery tool call (LLM requesting to call a tool) in the message history MUST have a corresponding ToolMessage (result of a tool invocation to return to the LLM) - this is required by most LLM providers.\nFor troubleshooting, visit: https://python.langchain.com/docs/troubleshooting/errors/INVALID_CHAT_HISTORY",
     "output_type": "error",
     "traceback": [
      "\u001b[0;31m---------------------------------------------------------------------------\u001b[0m",
      "\u001b[0;31mValueError\u001b[0m                                Traceback (most recent call last)",
      "Cell \u001b[0;32mIn[22], line 44\u001b[0m\n\u001b[1;32m     41\u001b[0m swarm\u001b[38;5;241m.\u001b[39mupdate_state(config, patched_state)\n\u001b[1;32m     43\u001b[0m \u001b[38;5;66;03m# Step 4: Resume execution\u001b[39;00m\n\u001b[0;32m---> 44\u001b[0m res \u001b[38;5;241m=\u001b[39m \u001b[43mswarm\u001b[49m\u001b[38;5;241;43m.\u001b[39;49m\u001b[43minvoke\u001b[49m\u001b[43m(\u001b[49m\u001b[43m \u001b[49m\u001b[43mstate\u001b[49m\u001b[43m,\u001b[49m\u001b[43m \u001b[49m\u001b[43mconfig\u001b[49m\u001b[38;5;241;43m=\u001b[39;49m\u001b[43mconfig\u001b[49m\u001b[43m)\u001b[49m\n\u001b[1;32m     45\u001b[0m pprint(res)\n",
      "File \u001b[0;32m~/Desktop/ViniGraph/pheonix/lib/python3.10/site-packages/langgraph/pregel/__init__.py:2719\u001b[0m, in \u001b[0;36mPregel.invoke\u001b[0;34m(self, input, config, stream_mode, output_keys, interrupt_before, interrupt_after, checkpoint_during, debug, **kwargs)\u001b[0m\n\u001b[1;32m   2716\u001b[0m chunks: \u001b[38;5;28mlist\u001b[39m[Union[\u001b[38;5;28mdict\u001b[39m[\u001b[38;5;28mstr\u001b[39m, Any], Any]] \u001b[38;5;241m=\u001b[39m []\n\u001b[1;32m   2717\u001b[0m interrupts: \u001b[38;5;28mlist\u001b[39m[Interrupt] \u001b[38;5;241m=\u001b[39m []\n\u001b[0;32m-> 2719\u001b[0m \u001b[38;5;28;01mfor\u001b[39;00m chunk \u001b[38;5;129;01min\u001b[39;00m \u001b[38;5;28mself\u001b[39m\u001b[38;5;241m.\u001b[39mstream(\n\u001b[1;32m   2720\u001b[0m     \u001b[38;5;28minput\u001b[39m,\n\u001b[1;32m   2721\u001b[0m     config,\n\u001b[1;32m   2722\u001b[0m     stream_mode\u001b[38;5;241m=\u001b[39mstream_mode,\n\u001b[1;32m   2723\u001b[0m     output_keys\u001b[38;5;241m=\u001b[39moutput_keys,\n\u001b[1;32m   2724\u001b[0m     interrupt_before\u001b[38;5;241m=\u001b[39minterrupt_before,\n\u001b[1;32m   2725\u001b[0m     interrupt_after\u001b[38;5;241m=\u001b[39minterrupt_after,\n\u001b[1;32m   2726\u001b[0m     checkpoint_during\u001b[38;5;241m=\u001b[39mcheckpoint_during,\n\u001b[1;32m   2727\u001b[0m     debug\u001b[38;5;241m=\u001b[39mdebug,\n\u001b[1;32m   2728\u001b[0m     \u001b[38;5;241m*\u001b[39m\u001b[38;5;241m*\u001b[39mkwargs,\n\u001b[1;32m   2729\u001b[0m ):\n\u001b[1;32m   2730\u001b[0m     \u001b[38;5;28;01mif\u001b[39;00m stream_mode \u001b[38;5;241m==\u001b[39m \u001b[38;5;124m\"\u001b[39m\u001b[38;5;124mvalues\u001b[39m\u001b[38;5;124m\"\u001b[39m:\n\u001b[1;32m   2731\u001b[0m         \u001b[38;5;28;01mif\u001b[39;00m (\n\u001b[1;32m   2732\u001b[0m             \u001b[38;5;28misinstance\u001b[39m(chunk, \u001b[38;5;28mdict\u001b[39m)\n\u001b[1;32m   2733\u001b[0m             \u001b[38;5;129;01mand\u001b[39;00m (ints \u001b[38;5;241m:=\u001b[39m chunk\u001b[38;5;241m.\u001b[39mget(INTERRUPT)) \u001b[38;5;129;01mis\u001b[39;00m \u001b[38;5;129;01mnot\u001b[39;00m \u001b[38;5;28;01mNone\u001b[39;00m\n\u001b[1;32m   2734\u001b[0m         ):\n",
      "File \u001b[0;32m~/Desktop/ViniGraph/pheonix/lib/python3.10/site-packages/langgraph/pregel/__init__.py:2436\u001b[0m, in \u001b[0;36mPregel.stream\u001b[0;34m(self, input, config, stream_mode, output_keys, interrupt_before, interrupt_after, checkpoint_during, debug, subgraphs)\u001b[0m\n\u001b[1;32m   2434\u001b[0m         \u001b[38;5;28;01mfor\u001b[39;00m task \u001b[38;5;129;01min\u001b[39;00m loop\u001b[38;5;241m.\u001b[39mmatch_cached_writes():\n\u001b[1;32m   2435\u001b[0m             loop\u001b[38;5;241m.\u001b[39moutput_writes(task\u001b[38;5;241m.\u001b[39mid, task\u001b[38;5;241m.\u001b[39mwrites, cached\u001b[38;5;241m=\u001b[39m\u001b[38;5;28;01mTrue\u001b[39;00m)\n\u001b[0;32m-> 2436\u001b[0m         \u001b[38;5;28;01mfor\u001b[39;00m _ \u001b[38;5;129;01min\u001b[39;00m runner\u001b[38;5;241m.\u001b[39mtick(\n\u001b[1;32m   2437\u001b[0m             [t \u001b[38;5;28;01mfor\u001b[39;00m t \u001b[38;5;129;01min\u001b[39;00m loop\u001b[38;5;241m.\u001b[39mtasks\u001b[38;5;241m.\u001b[39mvalues() \u001b[38;5;28;01mif\u001b[39;00m \u001b[38;5;129;01mnot\u001b[39;00m t\u001b[38;5;241m.\u001b[39mwrites],\n\u001b[1;32m   2438\u001b[0m             timeout\u001b[38;5;241m=\u001b[39m\u001b[38;5;28mself\u001b[39m\u001b[38;5;241m.\u001b[39mstep_timeout,\n\u001b[1;32m   2439\u001b[0m             get_waiter\u001b[38;5;241m=\u001b[39mget_waiter,\n\u001b[1;32m   2440\u001b[0m             schedule_task\u001b[38;5;241m=\u001b[39mloop\u001b[38;5;241m.\u001b[39maccept_push,\n\u001b[1;32m   2441\u001b[0m         ):\n\u001b[1;32m   2442\u001b[0m             \u001b[38;5;66;03m# emit output\u001b[39;00m\n\u001b[1;32m   2443\u001b[0m             \u001b[38;5;28;01myield from\u001b[39;00m output()\n\u001b[1;32m   2444\u001b[0m \u001b[38;5;66;03m# emit output\u001b[39;00m\n",
      "File \u001b[0;32m~/Desktop/ViniGraph/pheonix/lib/python3.10/site-packages/langgraph/pregel/runner.py:161\u001b[0m, in \u001b[0;36mPregelRunner.tick\u001b[0;34m(self, tasks, reraise, timeout, retry_policy, get_waiter, schedule_task)\u001b[0m\n\u001b[1;32m    159\u001b[0m t \u001b[38;5;241m=\u001b[39m tasks[\u001b[38;5;241m0\u001b[39m]\n\u001b[1;32m    160\u001b[0m \u001b[38;5;28;01mtry\u001b[39;00m:\n\u001b[0;32m--> 161\u001b[0m     \u001b[43mrun_with_retry\u001b[49m\u001b[43m(\u001b[49m\n\u001b[1;32m    162\u001b[0m \u001b[43m        \u001b[49m\u001b[43mt\u001b[49m\u001b[43m,\u001b[49m\n\u001b[1;32m    163\u001b[0m \u001b[43m        \u001b[49m\u001b[43mretry_policy\u001b[49m\u001b[43m,\u001b[49m\n\u001b[1;32m    164\u001b[0m \u001b[43m        \u001b[49m\u001b[43mconfigurable\u001b[49m\u001b[38;5;241;43m=\u001b[39;49m\u001b[43m{\u001b[49m\n\u001b[1;32m    165\u001b[0m \u001b[43m            \u001b[49m\u001b[43mCONFIG_KEY_CALL\u001b[49m\u001b[43m:\u001b[49m\u001b[43m \u001b[49m\u001b[43mpartial\u001b[49m\u001b[43m(\u001b[49m\n\u001b[1;32m    166\u001b[0m \u001b[43m                \u001b[49m\u001b[43m_call\u001b[49m\u001b[43m,\u001b[49m\n\u001b[1;32m    167\u001b[0m \u001b[43m                \u001b[49m\u001b[43mweakref\u001b[49m\u001b[38;5;241;43m.\u001b[39;49m\u001b[43mref\u001b[49m\u001b[43m(\u001b[49m\u001b[43mt\u001b[49m\u001b[43m)\u001b[49m\u001b[43m,\u001b[49m\n\u001b[1;32m    168\u001b[0m \u001b[43m                \u001b[49m\u001b[43mretry\u001b[49m\u001b[38;5;241;43m=\u001b[39;49m\u001b[43mretry_policy\u001b[49m\u001b[43m,\u001b[49m\n\u001b[1;32m    169\u001b[0m \u001b[43m                \u001b[49m\u001b[43mfutures\u001b[49m\u001b[38;5;241;43m=\u001b[39;49m\u001b[43mweakref\u001b[49m\u001b[38;5;241;43m.\u001b[39;49m\u001b[43mref\u001b[49m\u001b[43m(\u001b[49m\u001b[43mfutures\u001b[49m\u001b[43m)\u001b[49m\u001b[43m,\u001b[49m\n\u001b[1;32m    170\u001b[0m \u001b[43m                \u001b[49m\u001b[43mschedule_task\u001b[49m\u001b[38;5;241;43m=\u001b[39;49m\u001b[43mschedule_task\u001b[49m\u001b[43m,\u001b[49m\n\u001b[1;32m    171\u001b[0m \u001b[43m                \u001b[49m\u001b[43msubmit\u001b[49m\u001b[38;5;241;43m=\u001b[39;49m\u001b[38;5;28;43mself\u001b[39;49m\u001b[38;5;241;43m.\u001b[39;49m\u001b[43msubmit\u001b[49m\u001b[43m,\u001b[49m\n\u001b[1;32m    172\u001b[0m \u001b[43m            \u001b[49m\u001b[43m)\u001b[49m\u001b[43m,\u001b[49m\n\u001b[1;32m    173\u001b[0m \u001b[43m        \u001b[49m\u001b[43m}\u001b[49m\u001b[43m,\u001b[49m\n\u001b[1;32m    174\u001b[0m \u001b[43m    \u001b[49m\u001b[43m)\u001b[49m\n\u001b[1;32m    175\u001b[0m     \u001b[38;5;28mself\u001b[39m\u001b[38;5;241m.\u001b[39mcommit(t, \u001b[38;5;28;01mNone\u001b[39;00m)\n\u001b[1;32m    176\u001b[0m \u001b[38;5;28;01mexcept\u001b[39;00m \u001b[38;5;167;01mException\u001b[39;00m \u001b[38;5;28;01mas\u001b[39;00m exc:\n",
      "File \u001b[0;32m~/Desktop/ViniGraph/pheonix/lib/python3.10/site-packages/langgraph/pregel/retry.py:40\u001b[0m, in \u001b[0;36mrun_with_retry\u001b[0;34m(task, retry_policy, configurable)\u001b[0m\n\u001b[1;32m     38\u001b[0m     task\u001b[38;5;241m.\u001b[39mwrites\u001b[38;5;241m.\u001b[39mclear()\n\u001b[1;32m     39\u001b[0m     \u001b[38;5;66;03m# run the task\u001b[39;00m\n\u001b[0;32m---> 40\u001b[0m     \u001b[38;5;28;01mreturn\u001b[39;00m \u001b[43mtask\u001b[49m\u001b[38;5;241;43m.\u001b[39;49m\u001b[43mproc\u001b[49m\u001b[38;5;241;43m.\u001b[39;49m\u001b[43minvoke\u001b[49m\u001b[43m(\u001b[49m\u001b[43mtask\u001b[49m\u001b[38;5;241;43m.\u001b[39;49m\u001b[43minput\u001b[49m\u001b[43m,\u001b[49m\u001b[43m \u001b[49m\u001b[43mconfig\u001b[49m\u001b[43m)\u001b[49m\n\u001b[1;32m     41\u001b[0m \u001b[38;5;28;01mexcept\u001b[39;00m ParentCommand \u001b[38;5;28;01mas\u001b[39;00m exc:\n\u001b[1;32m     42\u001b[0m     ns: \u001b[38;5;28mstr\u001b[39m \u001b[38;5;241m=\u001b[39m config[CONF][CONFIG_KEY_CHECKPOINT_NS]\n",
      "File \u001b[0;32m~/Desktop/ViniGraph/pheonix/lib/python3.10/site-packages/langgraph/utils/runnable.py:623\u001b[0m, in \u001b[0;36mRunnableSeq.invoke\u001b[0;34m(self, input, config, **kwargs)\u001b[0m\n\u001b[1;32m    621\u001b[0m     \u001b[38;5;66;03m# run in context\u001b[39;00m\n\u001b[1;32m    622\u001b[0m     \u001b[38;5;28;01mwith\u001b[39;00m set_config_context(config, run) \u001b[38;5;28;01mas\u001b[39;00m context:\n\u001b[0;32m--> 623\u001b[0m         \u001b[38;5;28minput\u001b[39m \u001b[38;5;241m=\u001b[39m \u001b[43mcontext\u001b[49m\u001b[38;5;241;43m.\u001b[39;49m\u001b[43mrun\u001b[49m\u001b[43m(\u001b[49m\u001b[43mstep\u001b[49m\u001b[38;5;241;43m.\u001b[39;49m\u001b[43minvoke\u001b[49m\u001b[43m,\u001b[49m\u001b[43m \u001b[49m\u001b[38;5;28;43minput\u001b[39;49m\u001b[43m,\u001b[49m\u001b[43m \u001b[49m\u001b[43mconfig\u001b[49m\u001b[43m,\u001b[49m\u001b[43m \u001b[49m\u001b[38;5;241;43m*\u001b[39;49m\u001b[38;5;241;43m*\u001b[39;49m\u001b[43mkwargs\u001b[49m\u001b[43m)\u001b[49m\n\u001b[1;32m    624\u001b[0m \u001b[38;5;28;01melse\u001b[39;00m:\n\u001b[1;32m    625\u001b[0m     \u001b[38;5;28minput\u001b[39m \u001b[38;5;241m=\u001b[39m step\u001b[38;5;241m.\u001b[39minvoke(\u001b[38;5;28minput\u001b[39m, config)\n",
      "File \u001b[0;32m~/Desktop/ViniGraph/pheonix/lib/python3.10/site-packages/langgraph/pregel/__init__.py:2719\u001b[0m, in \u001b[0;36mPregel.invoke\u001b[0;34m(self, input, config, stream_mode, output_keys, interrupt_before, interrupt_after, checkpoint_during, debug, **kwargs)\u001b[0m\n\u001b[1;32m   2716\u001b[0m chunks: \u001b[38;5;28mlist\u001b[39m[Union[\u001b[38;5;28mdict\u001b[39m[\u001b[38;5;28mstr\u001b[39m, Any], Any]] \u001b[38;5;241m=\u001b[39m []\n\u001b[1;32m   2717\u001b[0m interrupts: \u001b[38;5;28mlist\u001b[39m[Interrupt] \u001b[38;5;241m=\u001b[39m []\n\u001b[0;32m-> 2719\u001b[0m \u001b[38;5;28;01mfor\u001b[39;00m chunk \u001b[38;5;129;01min\u001b[39;00m \u001b[38;5;28mself\u001b[39m\u001b[38;5;241m.\u001b[39mstream(\n\u001b[1;32m   2720\u001b[0m     \u001b[38;5;28minput\u001b[39m,\n\u001b[1;32m   2721\u001b[0m     config,\n\u001b[1;32m   2722\u001b[0m     stream_mode\u001b[38;5;241m=\u001b[39mstream_mode,\n\u001b[1;32m   2723\u001b[0m     output_keys\u001b[38;5;241m=\u001b[39moutput_keys,\n\u001b[1;32m   2724\u001b[0m     interrupt_before\u001b[38;5;241m=\u001b[39minterrupt_before,\n\u001b[1;32m   2725\u001b[0m     interrupt_after\u001b[38;5;241m=\u001b[39minterrupt_after,\n\u001b[1;32m   2726\u001b[0m     checkpoint_during\u001b[38;5;241m=\u001b[39mcheckpoint_during,\n\u001b[1;32m   2727\u001b[0m     debug\u001b[38;5;241m=\u001b[39mdebug,\n\u001b[1;32m   2728\u001b[0m     \u001b[38;5;241m*\u001b[39m\u001b[38;5;241m*\u001b[39mkwargs,\n\u001b[1;32m   2729\u001b[0m ):\n\u001b[1;32m   2730\u001b[0m     \u001b[38;5;28;01mif\u001b[39;00m stream_mode \u001b[38;5;241m==\u001b[39m \u001b[38;5;124m\"\u001b[39m\u001b[38;5;124mvalues\u001b[39m\u001b[38;5;124m\"\u001b[39m:\n\u001b[1;32m   2731\u001b[0m         \u001b[38;5;28;01mif\u001b[39;00m (\n\u001b[1;32m   2732\u001b[0m             \u001b[38;5;28misinstance\u001b[39m(chunk, \u001b[38;5;28mdict\u001b[39m)\n\u001b[1;32m   2733\u001b[0m             \u001b[38;5;129;01mand\u001b[39;00m (ints \u001b[38;5;241m:=\u001b[39m chunk\u001b[38;5;241m.\u001b[39mget(INTERRUPT)) \u001b[38;5;129;01mis\u001b[39;00m \u001b[38;5;129;01mnot\u001b[39;00m \u001b[38;5;28;01mNone\u001b[39;00m\n\u001b[1;32m   2734\u001b[0m         ):\n",
      "File \u001b[0;32m~/Desktop/ViniGraph/pheonix/lib/python3.10/site-packages/langgraph/pregel/__init__.py:2436\u001b[0m, in \u001b[0;36mPregel.stream\u001b[0;34m(self, input, config, stream_mode, output_keys, interrupt_before, interrupt_after, checkpoint_during, debug, subgraphs)\u001b[0m\n\u001b[1;32m   2434\u001b[0m         \u001b[38;5;28;01mfor\u001b[39;00m task \u001b[38;5;129;01min\u001b[39;00m loop\u001b[38;5;241m.\u001b[39mmatch_cached_writes():\n\u001b[1;32m   2435\u001b[0m             loop\u001b[38;5;241m.\u001b[39moutput_writes(task\u001b[38;5;241m.\u001b[39mid, task\u001b[38;5;241m.\u001b[39mwrites, cached\u001b[38;5;241m=\u001b[39m\u001b[38;5;28;01mTrue\u001b[39;00m)\n\u001b[0;32m-> 2436\u001b[0m         \u001b[38;5;28;01mfor\u001b[39;00m _ \u001b[38;5;129;01min\u001b[39;00m runner\u001b[38;5;241m.\u001b[39mtick(\n\u001b[1;32m   2437\u001b[0m             [t \u001b[38;5;28;01mfor\u001b[39;00m t \u001b[38;5;129;01min\u001b[39;00m loop\u001b[38;5;241m.\u001b[39mtasks\u001b[38;5;241m.\u001b[39mvalues() \u001b[38;5;28;01mif\u001b[39;00m \u001b[38;5;129;01mnot\u001b[39;00m t\u001b[38;5;241m.\u001b[39mwrites],\n\u001b[1;32m   2438\u001b[0m             timeout\u001b[38;5;241m=\u001b[39m\u001b[38;5;28mself\u001b[39m\u001b[38;5;241m.\u001b[39mstep_timeout,\n\u001b[1;32m   2439\u001b[0m             get_waiter\u001b[38;5;241m=\u001b[39mget_waiter,\n\u001b[1;32m   2440\u001b[0m             schedule_task\u001b[38;5;241m=\u001b[39mloop\u001b[38;5;241m.\u001b[39maccept_push,\n\u001b[1;32m   2441\u001b[0m         ):\n\u001b[1;32m   2442\u001b[0m             \u001b[38;5;66;03m# emit output\u001b[39;00m\n\u001b[1;32m   2443\u001b[0m             \u001b[38;5;28;01myield from\u001b[39;00m output()\n\u001b[1;32m   2444\u001b[0m \u001b[38;5;66;03m# emit output\u001b[39;00m\n",
      "File \u001b[0;32m~/Desktop/ViniGraph/pheonix/lib/python3.10/site-packages/langgraph/pregel/runner.py:161\u001b[0m, in \u001b[0;36mPregelRunner.tick\u001b[0;34m(self, tasks, reraise, timeout, retry_policy, get_waiter, schedule_task)\u001b[0m\n\u001b[1;32m    159\u001b[0m t \u001b[38;5;241m=\u001b[39m tasks[\u001b[38;5;241m0\u001b[39m]\n\u001b[1;32m    160\u001b[0m \u001b[38;5;28;01mtry\u001b[39;00m:\n\u001b[0;32m--> 161\u001b[0m     \u001b[43mrun_with_retry\u001b[49m\u001b[43m(\u001b[49m\n\u001b[1;32m    162\u001b[0m \u001b[43m        \u001b[49m\u001b[43mt\u001b[49m\u001b[43m,\u001b[49m\n\u001b[1;32m    163\u001b[0m \u001b[43m        \u001b[49m\u001b[43mretry_policy\u001b[49m\u001b[43m,\u001b[49m\n\u001b[1;32m    164\u001b[0m \u001b[43m        \u001b[49m\u001b[43mconfigurable\u001b[49m\u001b[38;5;241;43m=\u001b[39;49m\u001b[43m{\u001b[49m\n\u001b[1;32m    165\u001b[0m \u001b[43m            \u001b[49m\u001b[43mCONFIG_KEY_CALL\u001b[49m\u001b[43m:\u001b[49m\u001b[43m \u001b[49m\u001b[43mpartial\u001b[49m\u001b[43m(\u001b[49m\n\u001b[1;32m    166\u001b[0m \u001b[43m                \u001b[49m\u001b[43m_call\u001b[49m\u001b[43m,\u001b[49m\n\u001b[1;32m    167\u001b[0m \u001b[43m                \u001b[49m\u001b[43mweakref\u001b[49m\u001b[38;5;241;43m.\u001b[39;49m\u001b[43mref\u001b[49m\u001b[43m(\u001b[49m\u001b[43mt\u001b[49m\u001b[43m)\u001b[49m\u001b[43m,\u001b[49m\n\u001b[1;32m    168\u001b[0m \u001b[43m                \u001b[49m\u001b[43mretry\u001b[49m\u001b[38;5;241;43m=\u001b[39;49m\u001b[43mretry_policy\u001b[49m\u001b[43m,\u001b[49m\n\u001b[1;32m    169\u001b[0m \u001b[43m                \u001b[49m\u001b[43mfutures\u001b[49m\u001b[38;5;241;43m=\u001b[39;49m\u001b[43mweakref\u001b[49m\u001b[38;5;241;43m.\u001b[39;49m\u001b[43mref\u001b[49m\u001b[43m(\u001b[49m\u001b[43mfutures\u001b[49m\u001b[43m)\u001b[49m\u001b[43m,\u001b[49m\n\u001b[1;32m    170\u001b[0m \u001b[43m                \u001b[49m\u001b[43mschedule_task\u001b[49m\u001b[38;5;241;43m=\u001b[39;49m\u001b[43mschedule_task\u001b[49m\u001b[43m,\u001b[49m\n\u001b[1;32m    171\u001b[0m \u001b[43m                \u001b[49m\u001b[43msubmit\u001b[49m\u001b[38;5;241;43m=\u001b[39;49m\u001b[38;5;28;43mself\u001b[39;49m\u001b[38;5;241;43m.\u001b[39;49m\u001b[43msubmit\u001b[49m\u001b[43m,\u001b[49m\n\u001b[1;32m    172\u001b[0m \u001b[43m            \u001b[49m\u001b[43m)\u001b[49m\u001b[43m,\u001b[49m\n\u001b[1;32m    173\u001b[0m \u001b[43m        \u001b[49m\u001b[43m}\u001b[49m\u001b[43m,\u001b[49m\n\u001b[1;32m    174\u001b[0m \u001b[43m    \u001b[49m\u001b[43m)\u001b[49m\n\u001b[1;32m    175\u001b[0m     \u001b[38;5;28mself\u001b[39m\u001b[38;5;241m.\u001b[39mcommit(t, \u001b[38;5;28;01mNone\u001b[39;00m)\n\u001b[1;32m    176\u001b[0m \u001b[38;5;28;01mexcept\u001b[39;00m \u001b[38;5;167;01mException\u001b[39;00m \u001b[38;5;28;01mas\u001b[39;00m exc:\n",
      "File \u001b[0;32m~/Desktop/ViniGraph/pheonix/lib/python3.10/site-packages/langgraph/pregel/retry.py:40\u001b[0m, in \u001b[0;36mrun_with_retry\u001b[0;34m(task, retry_policy, configurable)\u001b[0m\n\u001b[1;32m     38\u001b[0m     task\u001b[38;5;241m.\u001b[39mwrites\u001b[38;5;241m.\u001b[39mclear()\n\u001b[1;32m     39\u001b[0m     \u001b[38;5;66;03m# run the task\u001b[39;00m\n\u001b[0;32m---> 40\u001b[0m     \u001b[38;5;28;01mreturn\u001b[39;00m \u001b[43mtask\u001b[49m\u001b[38;5;241;43m.\u001b[39;49m\u001b[43mproc\u001b[49m\u001b[38;5;241;43m.\u001b[39;49m\u001b[43minvoke\u001b[49m\u001b[43m(\u001b[49m\u001b[43mtask\u001b[49m\u001b[38;5;241;43m.\u001b[39;49m\u001b[43minput\u001b[49m\u001b[43m,\u001b[49m\u001b[43m \u001b[49m\u001b[43mconfig\u001b[49m\u001b[43m)\u001b[49m\n\u001b[1;32m     41\u001b[0m \u001b[38;5;28;01mexcept\u001b[39;00m ParentCommand \u001b[38;5;28;01mas\u001b[39;00m exc:\n\u001b[1;32m     42\u001b[0m     ns: \u001b[38;5;28mstr\u001b[39m \u001b[38;5;241m=\u001b[39m config[CONF][CONFIG_KEY_CHECKPOINT_NS]\n",
      "File \u001b[0;32m~/Desktop/ViniGraph/pheonix/lib/python3.10/site-packages/langgraph/utils/runnable.py:623\u001b[0m, in \u001b[0;36mRunnableSeq.invoke\u001b[0;34m(self, input, config, **kwargs)\u001b[0m\n\u001b[1;32m    621\u001b[0m     \u001b[38;5;66;03m# run in context\u001b[39;00m\n\u001b[1;32m    622\u001b[0m     \u001b[38;5;28;01mwith\u001b[39;00m set_config_context(config, run) \u001b[38;5;28;01mas\u001b[39;00m context:\n\u001b[0;32m--> 623\u001b[0m         \u001b[38;5;28minput\u001b[39m \u001b[38;5;241m=\u001b[39m \u001b[43mcontext\u001b[49m\u001b[38;5;241;43m.\u001b[39;49m\u001b[43mrun\u001b[49m\u001b[43m(\u001b[49m\u001b[43mstep\u001b[49m\u001b[38;5;241;43m.\u001b[39;49m\u001b[43minvoke\u001b[49m\u001b[43m,\u001b[49m\u001b[43m \u001b[49m\u001b[38;5;28;43minput\u001b[39;49m\u001b[43m,\u001b[49m\u001b[43m \u001b[49m\u001b[43mconfig\u001b[49m\u001b[43m,\u001b[49m\u001b[43m \u001b[49m\u001b[38;5;241;43m*\u001b[39;49m\u001b[38;5;241;43m*\u001b[39;49m\u001b[43mkwargs\u001b[49m\u001b[43m)\u001b[49m\n\u001b[1;32m    624\u001b[0m \u001b[38;5;28;01melse\u001b[39;00m:\n\u001b[1;32m    625\u001b[0m     \u001b[38;5;28minput\u001b[39m \u001b[38;5;241m=\u001b[39m step\u001b[38;5;241m.\u001b[39minvoke(\u001b[38;5;28minput\u001b[39m, config)\n",
      "File \u001b[0;32m~/Desktop/ViniGraph/pheonix/lib/python3.10/site-packages/langgraph/utils/runnable.py:370\u001b[0m, in \u001b[0;36mRunnableCallable.invoke\u001b[0;34m(self, input, config, **kwargs)\u001b[0m\n\u001b[1;32m    368\u001b[0m     \u001b[38;5;66;03m# run in context\u001b[39;00m\n\u001b[1;32m    369\u001b[0m     \u001b[38;5;28;01mwith\u001b[39;00m set_config_context(child_config, run) \u001b[38;5;28;01mas\u001b[39;00m context:\n\u001b[0;32m--> 370\u001b[0m         ret \u001b[38;5;241m=\u001b[39m \u001b[43mcontext\u001b[49m\u001b[38;5;241;43m.\u001b[39;49m\u001b[43mrun\u001b[49m\u001b[43m(\u001b[49m\u001b[38;5;28;43mself\u001b[39;49m\u001b[38;5;241;43m.\u001b[39;49m\u001b[43mfunc\u001b[49m\u001b[43m,\u001b[49m\u001b[43m \u001b[49m\u001b[38;5;241;43m*\u001b[39;49m\u001b[43margs\u001b[49m\u001b[43m,\u001b[49m\u001b[43m \u001b[49m\u001b[38;5;241;43m*\u001b[39;49m\u001b[38;5;241;43m*\u001b[39;49m\u001b[43mkwargs\u001b[49m\u001b[43m)\u001b[49m\n\u001b[1;32m    371\u001b[0m \u001b[38;5;28;01mexcept\u001b[39;00m \u001b[38;5;167;01mBaseException\u001b[39;00m \u001b[38;5;28;01mas\u001b[39;00m e:\n\u001b[1;32m    372\u001b[0m     run_manager\u001b[38;5;241m.\u001b[39mon_chain_error(e)\n",
      "File \u001b[0;32m~/Desktop/ViniGraph/pheonix/lib/python3.10/site-packages/langgraph/prebuilt/chat_agent_executor.py:504\u001b[0m, in \u001b[0;36mcreate_react_agent.<locals>.call_model\u001b[0;34m(state, config)\u001b[0m\n\u001b[1;32m    503\u001b[0m \u001b[38;5;28;01mdef\u001b[39;00m\u001b[38;5;250m \u001b[39m\u001b[38;5;21mcall_model\u001b[39m(state: StateSchema, config: RunnableConfig) \u001b[38;5;241m-\u001b[39m\u001b[38;5;241m>\u001b[39m StateSchema:\n\u001b[0;32m--> 504\u001b[0m     state \u001b[38;5;241m=\u001b[39m \u001b[43m_get_model_input_state\u001b[49m\u001b[43m(\u001b[49m\u001b[43mstate\u001b[49m\u001b[43m)\u001b[49m\n\u001b[1;32m    505\u001b[0m     response \u001b[38;5;241m=\u001b[39m cast(AIMessage, model_runnable\u001b[38;5;241m.\u001b[39minvoke(state, config))\n\u001b[1;32m    506\u001b[0m     \u001b[38;5;66;03m# add agent name to the AIMessage\u001b[39;00m\n",
      "File \u001b[0;32m~/Desktop/ViniGraph/pheonix/lib/python3.10/site-packages/langgraph/prebuilt/chat_agent_executor.py:493\u001b[0m, in \u001b[0;36mcreate_react_agent.<locals>._get_model_input_state\u001b[0;34m(state)\u001b[0m\n\u001b[1;32m    490\u001b[0m \u001b[38;5;28;01mif\u001b[39;00m messages \u001b[38;5;129;01mis\u001b[39;00m \u001b[38;5;28;01mNone\u001b[39;00m:\n\u001b[1;32m    491\u001b[0m     \u001b[38;5;28;01mraise\u001b[39;00m \u001b[38;5;167;01mValueError\u001b[39;00m(error_msg)\n\u001b[0;32m--> 493\u001b[0m \u001b[43m_validate_chat_history\u001b[49m\u001b[43m(\u001b[49m\u001b[43mmessages\u001b[49m\u001b[43m)\u001b[49m\n\u001b[1;32m    494\u001b[0m \u001b[38;5;66;03m# we're passing messages under `messages` key, as this is expected by the prompt\u001b[39;00m\n\u001b[1;32m    495\u001b[0m \u001b[38;5;28;01mif\u001b[39;00m \u001b[38;5;28misinstance\u001b[39m(state_schema, \u001b[38;5;28mtype\u001b[39m) \u001b[38;5;129;01mand\u001b[39;00m \u001b[38;5;28missubclass\u001b[39m(state_schema, BaseModel):\n",
      "File \u001b[0;32m~/Desktop/ViniGraph/pheonix/lib/python3.10/site-packages/langgraph/prebuilt/chat_agent_executor.py:238\u001b[0m, in \u001b[0;36m_validate_chat_history\u001b[0;34m(messages)\u001b[0m\n\u001b[1;32m    229\u001b[0m     \u001b[38;5;28;01mreturn\u001b[39;00m\n\u001b[1;32m    231\u001b[0m error_message \u001b[38;5;241m=\u001b[39m create_error_message(\n\u001b[1;32m    232\u001b[0m     message\u001b[38;5;241m=\u001b[39m\u001b[38;5;124m\"\u001b[39m\u001b[38;5;124mFound AIMessages with tool_calls that do not have a corresponding ToolMessage. \u001b[39m\u001b[38;5;124m\"\u001b[39m\n\u001b[1;32m    233\u001b[0m     \u001b[38;5;124mf\u001b[39m\u001b[38;5;124m\"\u001b[39m\u001b[38;5;124mHere are the first few of those tool calls: \u001b[39m\u001b[38;5;132;01m{\u001b[39;00mtool_calls_without_results[:\u001b[38;5;241m3\u001b[39m]\u001b[38;5;132;01m}\u001b[39;00m\u001b[38;5;124m.\u001b[39m\u001b[38;5;130;01m\\n\u001b[39;00m\u001b[38;5;130;01m\\n\u001b[39;00m\u001b[38;5;124m\"\u001b[39m\n\u001b[0;32m   (...)\u001b[0m\n\u001b[1;32m    236\u001b[0m     error_code\u001b[38;5;241m=\u001b[39mErrorCode\u001b[38;5;241m.\u001b[39mINVALID_CHAT_HISTORY,\n\u001b[1;32m    237\u001b[0m )\n\u001b[0;32m--> 238\u001b[0m \u001b[38;5;28;01mraise\u001b[39;00m \u001b[38;5;167;01mValueError\u001b[39;00m(error_message)\n",
      "\u001b[0;31mValueError\u001b[0m: Found AIMessages with tool_calls that do not have a corresponding ToolMessage. Here are the first few of those tool calls: [{'name': 'book_appointment', 'args': {'date': '2023-10-15', 'name': 'John Doe'}, 'id': '74b5407e-e59f-49e6-9bdc-f58739e8f6f4', 'type': 'tool_call'}].\n\nEvery tool call (LLM requesting to call a tool) in the message history MUST have a corresponding ToolMessage (result of a tool invocation to return to the LLM) - this is required by most LLM providers.\nFor troubleshooting, visit: https://python.langchain.com/docs/troubleshooting/errors/INVALID_CHAT_HISTORY"
     ]
    }
   ],
   "source": [
    "# Step 1: Get state and access internal dict\n",
    "graph_state = swarm.get_state(config)\n",
    "graph_state_dict = graph_state.values \n",
    "print(\"-----------------------------------------------\")\n",
    "print(graph_state_dict) # ✅ Correct way\n",
    "print(\"-----------------------------------------------\")\n",
    "\n",
    "# Step 2: Patch tool messages\n",
    "def patch_tool_messages(state):\n",
    "    if state:\n",
    "        messages = state[\"messages\"]\n",
    "        patched_messages = list(messages)\n",
    "    \n",
    "\n",
    "        for msg in reversed(messages):\n",
    "            if isinstance(msg, AIMessage) and msg.tool_calls:\n",
    "                for tool_call in msg.tool_calls:\n",
    "                    call_id = tool_call[\"id\"]\n",
    "\n",
    "                    already_responded = any(\n",
    "                        isinstance(m, ToolMessage) and m.tool_call_id == call_id\n",
    "                        for m in messages\n",
    "                    )\n",
    "\n",
    "                    if not already_responded:\n",
    "                        print(f\"Injecting ToolMessage for tool_call: {tool_call}\")\n",
    "                        patched_messages.append(\n",
    "                            ToolMessage(\n",
    "                                content=f\"Simulated response from {tool_call['name']}.\",\n",
    "                                tool_call_id=call_id,\n",
    "                                name=tool_call[\"name\"]\n",
    "                            )\n",
    "                        )\n",
    "                break\n",
    "\n",
    "        return {\"messages\": patched_messages}\n",
    "    else:\n",
    "        return {\"messages\":[]}\n",
    "# Step 3: Update & resume\n",
    "patched_state = patch_tool_messages(graph_state_dict)\n",
    "swarm.update_state(config, patched_state)\n",
    "\n",
    "# Step 4: Resume execution\n",
    "res = swarm.invoke( state, config=config)\n",
    "pprint(res)\n"
   ]
  },
  {
   "cell_type": "code",
   "execution_count": null,
   "id": "d7d620a0",
   "metadata": {},
   "outputs": [],
   "source": [
    "\n"
   ]
  },
  {
   "cell_type": "code",
   "execution_count": null,
   "id": "0e25d318",
   "metadata": {},
   "outputs": [],
   "source": []
  },
  {
   "cell_type": "code",
   "execution_count": null,
   "id": "b5492972",
   "metadata": {},
   "outputs": [],
   "source": [
    "\n"
   ]
  },
  {
   "cell_type": "code",
   "execution_count": null,
   "id": "b383c61f",
   "metadata": {},
   "outputs": [
    {
     "name": "stdout",
     "output_type": "stream",
     "text": [
      "(\"appointment_scheduler : content='I need to book an appointment for a patient \"\n",
      " 'named John Doe on 2023-10-15. Also, I need to check the availability of '\n",
      " \"Aspirin in the medicine inventory.' additional_kwargs={} \"\n",
      " \"response_metadata={} id='fadf7364-213c-4176-94a2-098cb3556e4e'\")\n",
      "\n",
      "\n",
      "(\"appointment_scheduler : content='I can help you with that. First, I will \"\n",
      " 'transfer you to the appointment scheduler to book the appointment for John '\n",
      " 'Doe. After that, I will transfer you to the medicine inventory assistant to '\n",
      " \"check the availability of Aspirin.' additional_kwargs={'function_call': \"\n",
      " \"{'name': 'transfer_to_appointment_scheduler', 'arguments': '{}'}} \"\n",
      " \"response_metadata={'prompt_feedback': {'block_reason': 0, 'safety_ratings': \"\n",
      " \"[]}, 'finish_reason': 'STOP', 'model_name': 'gemini-2.0-flash', \"\n",
      " \"'safety_ratings': []} name='supervisor' \"\n",
      " \"id='run--48035f99-e1f3-44ce-bd20-376e92818436-0' tool_calls=[{'name': \"\n",
      " \"'transfer_to_appointment_scheduler', 'args': {}, 'id': \"\n",
      " \"'daba567c-a6be-44bb-940f-e4795ef4ee2b', 'type': 'tool_call'}] \"\n",
      " \"usage_metadata={'input_tokens': 126, 'output_tokens': 53, 'total_tokens': \"\n",
      " \"179, 'input_token_details': {'cache_read': 0}}\")\n",
      "\n",
      "\n",
      "(\"appointment_scheduler : content='Successfully transferred to \"\n",
      " \"appointment_scheduler' name='transfer_to_appointment_scheduler' \"\n",
      " \"id='bb0533bb-f444-434a-ab40-eb83a17ea01e' \"\n",
      " \"tool_call_id='daba567c-a6be-44bb-940f-e4795ef4ee2b'\")\n",
      "\n",
      "\n",
      "(\"appointment_scheduler : content='' additional_kwargs={'function_call': \"\n",
      " '{\\'name\\': \\'book_appointment\\', \\'arguments\\': \\'{\"date\": \"2023-10-15\", '\n",
      " '\"name\": \"John Doe\"}\\'}} response_metadata={\\'prompt_feedback\\': '\n",
      " \"{'block_reason': 0, 'safety_ratings': []}, 'finish_reason': 'STOP', \"\n",
      " \"'model_name': 'gemini-2.0-flash', 'safety_ratings': []} \"\n",
      " \"name='appointment_scheduler' \"\n",
      " \"id='run--bb58e7cd-55c3-40f1-be37-c90e13270fe5-0' tool_calls=[{'name': \"\n",
      " \"'book_appointment', 'args': {'date': '2023-10-15', 'name': 'John Doe'}, \"\n",
      " \"'id': '82f0206b-aec1-4f3e-a367-8cf8581b994d', 'type': 'tool_call'}] \"\n",
      " \"usage_metadata={'input_tokens': 158, 'output_tokens': 17, 'total_tokens': \"\n",
      " \"175, 'input_token_details': {'cache_read': 0}}\")\n",
      "\n",
      "\n",
      "(\"appointment_scheduler : content='Appointment booked for John Doe on \"\n",
      " \"2023-10-15 successfully!' name='book_appointment' \"\n",
      " \"id='ff07c493-0374-49ef-921f-3620639bdc46' \"\n",
      " \"tool_call_id='82f0206b-aec1-4f3e-a367-8cf8581b994d'\")\n",
      "\n",
      "\n"
     ]
    }
   ],
   "source": []
  },
  {
   "cell_type": "code",
   "execution_count": null,
   "id": "f1ef245e",
   "metadata": {},
   "outputs": [],
   "source": [
    "from langgraph.checkpoint.memory import InMemorySaver\n",
    "from langgraph.prebuilt import create_react_agent\n",
    "from langgraph_swarm import create_handoff_tool, create_swarm\n",
    "from dotenv import load_dotenv\n",
    "load_dotenv()\n",
    "\n",
    "\n",
    "def add(a: int, b: int) -> int:\n",
    "    '''Add two numbers'''\n",
    "    return a + b\n",
    "\n",
    "alice = create_react_agent(\n",
    "    client,\n",
    "    [add, create_handoff_tool(agent_name=\"Bob\")],\n",
    "    prompt=\"You are Alice, an addition expert.\",\n",
    "    name=\"Alice\",\n",
    ")\n",
    "\n",
    "bob = create_react_agent(\n",
    "    client,\n",
    "    [create_handoff_tool(agent_name=\"Alice\", description=\"Transfer to Alice, she can help with math\")],\n",
    "    prompt=\"You are Bob, you speak like a pirate.\",\n",
    "    name=\"Bob\",\n",
    ")\n",
    "\n",
    "checkpointer = InMemorySaver()\n",
    "workflow = create_swarm(\n",
    "    [alice, bob],\n",
    "    default_active_agent=\"Alice\"\n",
    ")\n",
    "app = workflow.compile(checkpointer=checkpointer)\n",
    "\n",
    "config = {\"configurable\": {\"thread_id\": \"1\"}}\n",
    "turn_1 = app.invoke(\n",
    "    {\"messages\": [{\"role\": \"user\", \"content\": \"i'd like to speak to Bob\"}]},\n",
    "    config,\n",
    ")\n",
    "turn_2 = app.invoke(\n",
    "    {\"messages\": [{\"role\": \"user\", \"content\": \"what's 5 + 7?\"}]},\n",
    "    config,\n",
    ")"
   ]
  },
  {
   "cell_type": "code",
   "execution_count": null,
   "id": "00f65002",
   "metadata": {},
   "outputs": [
    {
     "name": "stdout",
     "output_type": "stream",
     "text": [
      "{'active_agent': 'Bob',\n",
      " 'messages': [HumanMessage(content=\"i'd like to speak to Bob\", additional_kwargs={}, response_metadata={}, id='b17c4a9f-f3a2-429d-889b-bf621276b643'),\n",
      "              AIMessage(content='', additional_kwargs={'function_call': {'name': 'transfer_to_bob', 'arguments': '{}'}}, response_metadata={'prompt_feedback': {'block_reason': 0, 'safety_ratings': []}, 'finish_reason': 'STOP', 'model_name': 'gemini-2.0-flash', 'safety_ratings': []}, name='Alice', id='run--c4dc20cc-4147-4f72-925c-14d4c5567fb0-0', tool_calls=[{'name': 'transfer_to_bob', 'args': {}, 'id': '1769640b-9350-4e8c-9da8-ef0b8ec528de', 'type': 'tool_call'}], usage_metadata={'input_tokens': 39, 'output_tokens': 5, 'total_tokens': 44, 'input_token_details': {'cache_read': 0}}),\n",
      "              ToolMessage(content='Successfully transferred to Bob', name='transfer_to_bob', id='5164b63d-796f-480f-b25e-4276eb4ee833', tool_call_id='1769640b-9350-4e8c-9da8-ef0b8ec528de'),\n",
      "              AIMessage(content='Aye matey! I be Bob! What be on yer mind, savvy?', additional_kwargs={}, response_metadata={'prompt_feedback': {'block_reason': 0, 'safety_ratings': []}, 'finish_reason': 'STOP', 'model_name': 'gemini-2.0-flash', 'safety_ratings': []}, name='Bob', id='run--dd6df438-efe8-48de-a147-3fd057564f7f-0', usage_metadata={'input_tokens': 47, 'output_tokens': 17, 'total_tokens': 64, 'input_token_details': {'cache_read': 0}})]}\n",
      "-----\n",
      "{'active_agent': 'Alice',\n",
      " 'messages': [HumanMessage(content=\"i'd like to speak to Bob\", additional_kwargs={}, response_metadata={}, id='b17c4a9f-f3a2-429d-889b-bf621276b643'),\n",
      "              AIMessage(content='', additional_kwargs={'function_call': {'name': 'transfer_to_bob', 'arguments': '{}'}}, response_metadata={'prompt_feedback': {'block_reason': 0, 'safety_ratings': []}, 'finish_reason': 'STOP', 'model_name': 'gemini-2.0-flash', 'safety_ratings': []}, name='Alice', id='run--c4dc20cc-4147-4f72-925c-14d4c5567fb0-0', tool_calls=[{'name': 'transfer_to_bob', 'args': {}, 'id': '1769640b-9350-4e8c-9da8-ef0b8ec528de', 'type': 'tool_call'}], usage_metadata={'input_tokens': 39, 'output_tokens': 5, 'total_tokens': 44, 'input_token_details': {'cache_read': 0}}),\n",
      "              ToolMessage(content='Successfully transferred to Bob', name='transfer_to_bob', id='5164b63d-796f-480f-b25e-4276eb4ee833', tool_call_id='1769640b-9350-4e8c-9da8-ef0b8ec528de'),\n",
      "              AIMessage(content='Aye matey! I be Bob! What be on yer mind, savvy?', additional_kwargs={}, response_metadata={'prompt_feedback': {'block_reason': 0, 'safety_ratings': []}, 'finish_reason': 'STOP', 'model_name': 'gemini-2.0-flash', 'safety_ratings': []}, name='Bob', id='run--dd6df438-efe8-48de-a147-3fd057564f7f-0', usage_metadata={'input_tokens': 47, 'output_tokens': 17, 'total_tokens': 64, 'input_token_details': {'cache_read': 0}}),\n",
      "              HumanMessage(content=\"what's 5 + 7?\", additional_kwargs={}, response_metadata={}, id='892e3467-9f06-4038-8c52-e3b5af4fb69f'),\n",
      "              AIMessage(content=\"Shiver me timbers! That be a question for Alice, the math whiz. I'll send ye over to her!\", additional_kwargs={'function_call': {'name': 'transfer_to_alice', 'arguments': '{}'}}, response_metadata={'prompt_feedback': {'block_reason': 0, 'safety_ratings': []}, 'finish_reason': 'STOP', 'model_name': 'gemini-2.0-flash', 'safety_ratings': []}, name='Bob', id='run--4648fb40-202a-42e9-8c9c-2ee59d15b6d1-0', tool_calls=[{'name': 'transfer_to_alice', 'args': {}, 'id': '096beb19-ad18-417d-bdba-acda162d5fed', 'type': 'tool_call'}], usage_metadata={'input_tokens': 72, 'output_tokens': 32, 'total_tokens': 104, 'input_token_details': {'cache_read': 0}}),\n",
      "              ToolMessage(content='Successfully transferred to Alice', name='transfer_to_alice', id='fffc9d66-1e25-4e3c-8232-5166cce3c0f4', tool_call_id='096beb19-ad18-417d-bdba-acda162d5fed'),\n",
      "              AIMessage(content=\"Alright, let's add 5 and 7.\", additional_kwargs={'function_call': {'name': 'add', 'arguments': '{\"a\": 5.0, \"b\": 7.0}'}}, response_metadata={'prompt_feedback': {'block_reason': 0, 'safety_ratings': []}, 'finish_reason': 'STOP', 'model_name': 'gemini-2.0-flash', 'safety_ratings': []}, name='Alice', id='run--ca54323e-ff9a-4764-be1c-b91a3ac787ab-0', tool_calls=[{'name': 'add', 'args': {'a': 5.0, 'b': 7.0}, 'id': 'e05ce261-27ac-4b95-be53-42b6d49aa542', 'type': 'tool_call'}], usage_metadata={'input_tokens': 94, 'output_tokens': 18, 'total_tokens': 112, 'input_token_details': {'cache_read': 0}}),\n",
      "              ToolMessage(content='12', name='add', id='0d9fdafc-a7f6-4f55-b644-1210c24aec35', tool_call_id='e05ce261-27ac-4b95-be53-42b6d49aa542'),\n",
      "              AIMessage(content='5 + 7 = 12', additional_kwargs={}, response_metadata={'prompt_feedback': {'block_reason': 0, 'safety_ratings': []}, 'finish_reason': 'STOP', 'model_name': 'gemini-2.0-flash', 'safety_ratings': []}, name='Alice', id='run--318ce6dd-8b73-4767-bb5b-8e34a6ce66ef-0', usage_metadata={'input_tokens': 102, 'output_tokens': 9, 'total_tokens': 111, 'input_token_details': {'cache_read': 0}})]}\n"
     ]
    }
   ],
   "source": [
    "from pprint import pprint\n",
    "pprint(turn_1)\n",
    "print(\"-----\")\n",
    "pprint(turn_2)"
   ]
  },
  {
   "cell_type": "code",
   "execution_count": null,
   "id": "0505ebde",
   "metadata": {},
   "outputs": [],
   "source": []
  }
 ],
 "metadata": {
  "kernelspec": {
   "display_name": "pheonix",
   "language": "python",
   "name": "python3"
  },
  "language_info": {
   "codemirror_mode": {
    "name": "ipython",
    "version": 3
   },
   "file_extension": ".py",
   "mimetype": "text/x-python",
   "name": "python",
   "nbconvert_exporter": "python",
   "pygments_lexer": "ipython3",
   "version": "3.8.10"
  }
 },
 "nbformat": 4,
 "nbformat_minor": 5
}
