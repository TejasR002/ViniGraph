{
 "cells": [
  {
   "cell_type": "code",
   "execution_count": 1,
   "id": "f4303746",
   "metadata": {},
   "outputs": [
    {
     "name": "stdout",
     "output_type": "stream",
     "text": [
      "Requirement already satisfied: langchain in /home/tejas.raval@simform.dom/Desktop/ViniGraph/pheonix/lib/python3.10/site-packages (0.3.25)\n",
      "Requirement already satisfied: langsmith<0.4,>=0.1.17 in /home/tejas.raval@simform.dom/Desktop/ViniGraph/pheonix/lib/python3.10/site-packages (from langchain) (0.3.44)\n",
      "Requirement already satisfied: async-timeout<5.0.0,>=4.0.0 in /home/tejas.raval@simform.dom/Desktop/ViniGraph/pheonix/lib/python3.10/site-packages (from langchain) (4.0.3)\n",
      "Requirement already satisfied: pydantic<3.0.0,>=2.7.4 in /home/tejas.raval@simform.dom/Desktop/ViniGraph/pheonix/lib/python3.10/site-packages (from langchain) (2.11.5)\n",
      "Requirement already satisfied: requests<3,>=2 in /home/tejas.raval@simform.dom/Desktop/ViniGraph/pheonix/lib/python3.10/site-packages (from langchain) (2.32.3)\n",
      "Requirement already satisfied: langchain-core<1.0.0,>=0.3.58 in /home/tejas.raval@simform.dom/Desktop/ViniGraph/pheonix/lib/python3.10/site-packages (from langchain) (0.3.63)\n",
      "Requirement already satisfied: SQLAlchemy<3,>=1.4 in /home/tejas.raval@simform.dom/Desktop/ViniGraph/pheonix/lib/python3.10/site-packages (from langchain) (2.0.41)\n",
      "Requirement already satisfied: langchain-text-splitters<1.0.0,>=0.3.8 in /home/tejas.raval@simform.dom/Desktop/ViniGraph/pheonix/lib/python3.10/site-packages (from langchain) (0.3.8)\n",
      "Requirement already satisfied: PyYAML>=5.3 in /home/tejas.raval@simform.dom/Desktop/ViniGraph/pheonix/lib/python3.10/site-packages (from langchain) (6.0.2)\n",
      "Requirement already satisfied: packaging<25,>=23.2 in /home/tejas.raval@simform.dom/Desktop/ViniGraph/pheonix/lib/python3.10/site-packages (from langchain-core<1.0.0,>=0.3.58->langchain) (24.2)\n",
      "Requirement already satisfied: typing-extensions>=4.7 in /home/tejas.raval@simform.dom/Desktop/ViniGraph/pheonix/lib/python3.10/site-packages (from langchain-core<1.0.0,>=0.3.58->langchain) (4.14.0)\n",
      "Requirement already satisfied: tenacity!=8.4.0,<10.0.0,>=8.1.0 in /home/tejas.raval@simform.dom/Desktop/ViniGraph/pheonix/lib/python3.10/site-packages (from langchain-core<1.0.0,>=0.3.58->langchain) (9.1.2)\n",
      "Requirement already satisfied: jsonpatch<2.0,>=1.33 in /home/tejas.raval@simform.dom/Desktop/ViniGraph/pheonix/lib/python3.10/site-packages (from langchain-core<1.0.0,>=0.3.58->langchain) (1.33)\n",
      "Requirement already satisfied: httpx<1,>=0.23.0 in /home/tejas.raval@simform.dom/Desktop/ViniGraph/pheonix/lib/python3.10/site-packages (from langsmith<0.4,>=0.1.17->langchain) (0.28.1)\n",
      "Requirement already satisfied: requests-toolbelt<2.0.0,>=1.0.0 in /home/tejas.raval@simform.dom/Desktop/ViniGraph/pheonix/lib/python3.10/site-packages (from langsmith<0.4,>=0.1.17->langchain) (1.0.0)\n",
      "Requirement already satisfied: zstandard<0.24.0,>=0.23.0 in /home/tejas.raval@simform.dom/Desktop/ViniGraph/pheonix/lib/python3.10/site-packages (from langsmith<0.4,>=0.1.17->langchain) (0.23.0)\n",
      "Requirement already satisfied: orjson<4.0.0,>=3.9.14 in /home/tejas.raval@simform.dom/Desktop/ViniGraph/pheonix/lib/python3.10/site-packages (from langsmith<0.4,>=0.1.17->langchain) (3.10.18)\n",
      "Requirement already satisfied: annotated-types>=0.6.0 in /home/tejas.raval@simform.dom/Desktop/ViniGraph/pheonix/lib/python3.10/site-packages (from pydantic<3.0.0,>=2.7.4->langchain) (0.7.0)\n",
      "Requirement already satisfied: typing-inspection>=0.4.0 in /home/tejas.raval@simform.dom/Desktop/ViniGraph/pheonix/lib/python3.10/site-packages (from pydantic<3.0.0,>=2.7.4->langchain) (0.4.1)\n",
      "Requirement already satisfied: pydantic-core==2.33.2 in /home/tejas.raval@simform.dom/Desktop/ViniGraph/pheonix/lib/python3.10/site-packages (from pydantic<3.0.0,>=2.7.4->langchain) (2.33.2)\n",
      "Requirement already satisfied: certifi>=2017.4.17 in /home/tejas.raval@simform.dom/Desktop/ViniGraph/pheonix/lib/python3.10/site-packages (from requests<3,>=2->langchain) (2025.4.26)\n",
      "Requirement already satisfied: urllib3<3,>=1.21.1 in /home/tejas.raval@simform.dom/Desktop/ViniGraph/pheonix/lib/python3.10/site-packages (from requests<3,>=2->langchain) (2.4.0)\n",
      "Requirement already satisfied: charset-normalizer<4,>=2 in /home/tejas.raval@simform.dom/Desktop/ViniGraph/pheonix/lib/python3.10/site-packages (from requests<3,>=2->langchain) (3.4.2)\n",
      "Requirement already satisfied: idna<4,>=2.5 in /home/tejas.raval@simform.dom/Desktop/ViniGraph/pheonix/lib/python3.10/site-packages (from requests<3,>=2->langchain) (3.10)\n",
      "Requirement already satisfied: greenlet>=1 in /home/tejas.raval@simform.dom/Desktop/ViniGraph/pheonix/lib/python3.10/site-packages (from SQLAlchemy<3,>=1.4->langchain) (3.2.2)\n",
      "Requirement already satisfied: anyio in /home/tejas.raval@simform.dom/Desktop/ViniGraph/pheonix/lib/python3.10/site-packages (from httpx<1,>=0.23.0->langsmith<0.4,>=0.1.17->langchain) (4.9.0)\n",
      "Requirement already satisfied: httpcore==1.* in /home/tejas.raval@simform.dom/Desktop/ViniGraph/pheonix/lib/python3.10/site-packages (from httpx<1,>=0.23.0->langsmith<0.4,>=0.1.17->langchain) (1.0.9)\n",
      "Requirement already satisfied: h11>=0.16 in /home/tejas.raval@simform.dom/Desktop/ViniGraph/pheonix/lib/python3.10/site-packages (from httpcore==1.*->httpx<1,>=0.23.0->langsmith<0.4,>=0.1.17->langchain) (0.16.0)\n",
      "Requirement already satisfied: jsonpointer>=1.9 in /home/tejas.raval@simform.dom/Desktop/ViniGraph/pheonix/lib/python3.10/site-packages (from jsonpatch<2.0,>=1.33->langchain-core<1.0.0,>=0.3.58->langchain) (3.0.0)\n",
      "Requirement already satisfied: exceptiongroup>=1.0.2 in /home/tejas.raval@simform.dom/Desktop/ViniGraph/pheonix/lib/python3.10/site-packages (from anyio->httpx<1,>=0.23.0->langsmith<0.4,>=0.1.17->langchain) (1.3.0)\n",
      "Requirement already satisfied: sniffio>=1.1 in /home/tejas.raval@simform.dom/Desktop/ViniGraph/pheonix/lib/python3.10/site-packages (from anyio->httpx<1,>=0.23.0->langsmith<0.4,>=0.1.17->langchain) (1.3.1)\n",
      "\n",
      "\u001b[1m[\u001b[0m\u001b[34;49mnotice\u001b[0m\u001b[1;39;49m]\u001b[0m\u001b[39;49m A new release of pip is available: \u001b[0m\u001b[31;49m23.0.1\u001b[0m\u001b[39;49m -> \u001b[0m\u001b[32;49m25.1.1\u001b[0m\n",
      "\u001b[1m[\u001b[0m\u001b[34;49mnotice\u001b[0m\u001b[1;39;49m]\u001b[0m\u001b[39;49m To update, run: \u001b[0m\u001b[32;49mpip install --upgrade pip\u001b[0m\n",
      "Note: you may need to restart the kernel to use updated packages.\n"
     ]
    }
   ],
   "source": [
    "%pip install langchain"
   ]
  },
  {
   "cell_type": "code",
   "execution_count": 2,
   "id": "80a82715",
   "metadata": {},
   "outputs": [],
   "source": [
    "import os\n",
    "from dotenv import load_dotenv\n",
    "load_dotenv()\n",
    "key = os.getenv(\"GOOGLE_API_KEY\")"
   ]
  },
  {
   "cell_type": "code",
   "execution_count": null,
   "id": "1d7b34a3",
   "metadata": {},
   "outputs": [],
   "source": []
  },
  {
   "cell_type": "code",
   "execution_count": 3,
   "id": "c6d24ef3",
   "metadata": {},
   "outputs": [],
   "source": [
    "from langgraph.prebuilt import create_react_agent\n",
    "from langchain_google_genai import ChatGoogleGenerativeAI   \n",
    "from langchain.tools import tool     \n"
   ]
  },
  {
   "cell_type": "code",
   "execution_count": 4,
   "id": "4700de75",
   "metadata": {},
   "outputs": [
    {
     "name": "stdout",
     "output_type": "stream",
     "text": [
      "Python 3.10.11\n"
     ]
    }
   ],
   "source": [
    "!python3 --version"
   ]
  },
  {
   "cell_type": "code",
   "execution_count": 5,
   "id": "467ef228",
   "metadata": {},
   "outputs": [],
   "source": [
    "client = ChatGoogleGenerativeAI(\n",
    "    model=\"gemini-2.0-flash\",google_api_key=key)"
   ]
  },
  {
   "cell_type": "code",
   "execution_count": 6,
   "id": "acfbc12b",
   "metadata": {},
   "outputs": [],
   "source": [
    "from langgraph.prebuilt import create_react_agent\n",
    "from langgraph_swarm import create_swarm, create_handoff_tool"
   ]
  },
  {
   "cell_type": "markdown",
   "id": "f973c406",
   "metadata": {},
   "source": [
    "## Tools for agents\n"
   ]
  },
  {
   "cell_type": "code",
   "execution_count": 7,
   "id": "f7b6495f",
   "metadata": {},
   "outputs": [],
   "source": [
    "@tool(description=\"generate_case\", return_direct=True)\n",
    "def generate_case(name: str, date: str) -> str:\n",
    "    \"\"\"\n",
    "    A simple tool that simulates generating an appointment booking case \n",
    "    \n",
    "    Args:\n",
    "        name (str): The name of the person making the appointment.\n",
    "        date (str): The date of the appointment.\n",
    "\n",
    "    Returns:\n",
    "        str: Confirmation message.\n",
    "    \"\"\"\n",
    "    return \"Your case is generated successfully!\"\n",
    "\n",
    "@tool(description=\"book_appointment\", return_direct=True)\n",
    "def book_appointment(name: str, date: str) -> str:\n",
    "    \"\"\"\n",
    "    A simple tool that simulates booking an appointment.\n",
    "    \n",
    "    Args:\n",
    "        name (str): The name of the person making the appointment.\n",
    "        date (str): The date of the appointment.\n",
    "    \n",
    "    Returns:\n",
    "        str: Confirmation message.\n",
    "    \"\"\"\n",
    "    return f\"Appointment booked for {name} on {date} successfully!\"\n",
    "\n",
    "@tool(description=\"medicine_info\", return_direct=True)\n",
    "def medicine_info(medicine_name: str) -> str:\n",
    "    \"\"\"\n",
    "    A simple tool that simulates retrieving information about a medicine.\n",
    "    \n",
    "    Args:\n",
    "        medicine_name (str): The name of the medicine.\n",
    "    \n",
    "    Returns:\n",
    "        str: Information about the medicine.\n",
    "    \"\"\"\n",
    "    return f\"Information about {medicine_name}: [Details about the medicine]\"\n"
   ]
  },
  {
   "cell_type": "markdown",
   "id": "b23627c0",
   "metadata": {},
   "source": [
    "## handoff Tools"
   ]
  },
  {
   "cell_type": "code",
   "execution_count": 8,
   "id": "58e37672",
   "metadata": {},
   "outputs": [],
   "source": [
    "transfer_to_appointment_scheduler = create_handoff_tool(\n",
    "    agent_name=\"appointment_scheduler\",\n",
    "    description=\"Transfer user to the appointment scheduler.\",\n",
    ")\n",
    "transfer_to_case_generator = create_handoff_tool(\n",
    "    agent_name=\"case_generator\",\n",
    "    description=\"Transfer user to the case generator.\",\n",
    ")\n",
    "\n",
    "transfer_to_medicine_inventory = create_handoff_tool(\n",
    "    agent_name=\"medicine_inventory\",\n",
    "    description=\"Transfer user to the medicine inventory assistant.\",\n",
    ")\n",
    "transfer_to_supervisor = create_handoff_tool(\n",
    "    agent_name=\"supervisor\",\n",
    "    description=\"Transfer user to the supervisor.\",\n",
    ")"
   ]
  },
  {
   "cell_type": "markdown",
   "id": "b038b445",
   "metadata": {},
   "source": [
    "## Scheduling Agent"
   ]
  },
  {
   "cell_type": "code",
   "execution_count": 9,
   "id": "7eca543e",
   "metadata": {},
   "outputs": [],
   "source": [
    "appointment_scheduler = create_react_agent(\n",
    "    model=client,\n",
    "    tools=[book_appointment, transfer_to_case_generator, transfer_to_medicine_inventory, transfer_to_supervisor],\n",
    "    prompt=\"You are an appointment scheduler agent that can book appointments for users for medical consultations you can also transfer users to the other agents when your part is done.\", \n",
    "    name=\"appointment_scheduler\"\n",
    ")"
   ]
  },
  {
   "cell_type": "markdown",
   "id": "4ff5a8b5",
   "metadata": {},
   "source": [
    "## Case Generator Agent"
   ]
  },
  {
   "cell_type": "code",
   "execution_count": 10,
   "id": "b3fecfcb",
   "metadata": {},
   "outputs": [],
   "source": [
    "case_generator = create_react_agent(\n",
    "    model=client,\n",
    "    tools=[generate_case, transfer_to_appointment_scheduler, transfer_to_medicine_inventory, transfer_to_supervisor],\n",
    "    prompt=\"You are a case generator that can create new cases . You will analyze the user's request and generate a structured case. You can also transfer users to the other agents when your part is done.\",\n",
    "    name=\"case_generator\"\n",
    ")\n"
   ]
  },
  {
   "cell_type": "markdown",
   "id": "fb907311",
   "metadata": {},
   "source": [
    "## Inventory Management Agent"
   ]
  },
  {
   "cell_type": "code",
   "execution_count": 11,
   "metadata": {},
   "outputs": [],
   "source": [
    "medicine_inventory = create_react_agent(\n",
    "    model=client,\n",
    "    tools=[medicine_info, transfer_to_appointment_scheduler, transfer_to_case_generator, transfer_to_supervisor],\n",
    "    prompt=\"You are a medicine inventory assistant that can provide information about medicines. You can also transfer users to the other agents when your part is done.\",\n",
    "    name=\"medicine_inventory\"\n",
    ")\n"
   ]
  },
  {
   "cell_type": "markdown",
   "id": "ad492542",
   "metadata": {},
   "source": [
    "## Supervisor Agent"
   ]
  },
  {
   "cell_type": "code",
   "execution_count": 12,
   "id": "c0557709",
   "metadata": {},
   "outputs": [],
   "source": [
    "supervisor = create_react_agent(\n",
    "    model=client,\n",
    "    tools=[transfer_to_appointment_scheduler, transfer_to_case_generator, transfer_to_medicine_inventory],\n",
    "    prompt=\"You are a supervisor that can make decisions about which assistant to transfer the user to fullfilling their request. you break the the request down into smaller tasks and decide which assistant is best suited to handle each task.\" ,\n",
    "    name=\"supervisor\"\n",
    ")"
   ]
  },
  {
   "cell_type": "markdown",
   "id": "f0095235",
   "metadata": {},
   "source": [
    "## Create Swarm"
   ]
  },
  {
   "cell_type": "code",
   "execution_count": 13,
   "id": "275c3384",
   "metadata": {},
   "outputs": [],
   "source": [
    "swarm = create_swarm(\n",
    "    agents=[appointment_scheduler, case_generator, medicine_inventory, supervisor],\n",
    "    default_active_agent=\"supervisor\",\n",
    "    #handoff_tools=[ transfer_to_appointment_scheduler, transfer_to_case_generator, transfer_to_medicine_inventory, transfer_to_supervisor]    \n",
    ").compile()"
   ]
  },
  {
   "cell_type": "code",
   "execution_count": 14,
   "id": "b7a5e957",
   "metadata": {},
   "outputs": [],
   "source": [
    "from pprint import pprint"
   ]
  },
  {
   "cell_type": "code",
   "execution_count": 15,
   "id": "0e25d318",
   "metadata": {},
   "outputs": [
    {
     "name": "stderr",
     "output_type": "stream",
     "text": [
      "exception calling callback for <Future at 0x7f10cc577580 state=finished raised ParentCommand>\n",
      "Traceback (most recent call last):\n",
      "  File \"/usr/local/lib/python3.10/concurrent/futures/_base.py\", line 342, in _invoke_callbacks\n",
      "    callback(self)\n",
      "  File \"/home/tejas.raval@simform.dom/Desktop/ViniGraph/pheonix/lib/python3.10/site-packages/langgraph/pregel/runner.py\", line 107, in on_done\n",
      "    self.callback()(task, _exception(fut))  # type: ignore[misc]\n",
      "  File \"/home/tejas.raval@simform.dom/Desktop/ViniGraph/pheonix/lib/python3.10/site-packages/langgraph/pregel/runner.py\", line 434, in commit\n",
      "    raise exception\n",
      "  File \"/home/tejas.raval@simform.dom/Desktop/ViniGraph/pheonix/lib/python3.10/site-packages/langgraph/pregel/executor.py\", line 80, in done\n",
      "    task.result()\n",
      "  File \"/usr/local/lib/python3.10/concurrent/futures/_base.py\", line 451, in result\n",
      "    return self.__get_result()\n",
      "  File \"/usr/local/lib/python3.10/concurrent/futures/_base.py\", line 403, in __get_result\n",
      "    raise self._exception\n",
      "  File \"/usr/local/lib/python3.10/concurrent/futures/thread.py\", line 58, in run\n",
      "    result = self.fn(*self.args, **self.kwargs)\n",
      "  File \"/home/tejas.raval@simform.dom/Desktop/ViniGraph/pheonix/lib/python3.10/site-packages/langgraph/pregel/retry.py\", line 40, in run_with_retry\n",
      "    return task.proc.invoke(task.input, config)\n",
      "  File \"/home/tejas.raval@simform.dom/Desktop/ViniGraph/pheonix/lib/python3.10/site-packages/langgraph/utils/runnable.py\", line 625, in invoke\n",
      "    input = step.invoke(input, config)\n",
      "  File \"/home/tejas.raval@simform.dom/Desktop/ViniGraph/pheonix/lib/python3.10/site-packages/langgraph/utils/runnable.py\", line 377, in invoke\n",
      "    ret = self.func(*args, **kwargs)\n",
      "  File \"/home/tejas.raval@simform.dom/Desktop/ViniGraph/pheonix/lib/python3.10/site-packages/langgraph/pregel/write.py\", line 99, in _write\n",
      "    self.do_write(\n",
      "  File \"/home/tejas.raval@simform.dom/Desktop/ViniGraph/pheonix/lib/python3.10/site-packages/langgraph/pregel/write.py\", line 142, in do_write\n",
      "    write(_assemble_writes(writes))\n",
      "  File \"/home/tejas.raval@simform.dom/Desktop/ViniGraph/pheonix/lib/python3.10/site-packages/langgraph/pregel/write.py\", line 199, in _assemble_writes\n",
      "    if ww := w.mapper(w.value):\n",
      "  File \"/home/tejas.raval@simform.dom/Desktop/ViniGraph/pheonix/lib/python3.10/site-packages/langgraph/graph/state.py\", line 1066, in _control_branch\n",
      "    raise ParentCommand(command)\n",
      "langgraph.errors.ParentCommand: Command(graph='supervisor:85c0cda0-9d6b-7511-fcb8-402d0b5c881d', update={'messages': [HumanMessage(content='I need to book an appointment for a patient named John Doe on 2023-10-15. Also, I need to check the availability of Aspirin in the medicine inventory.', additional_kwargs={}, response_metadata={}, id='cf950e3e-c2be-49ba-8462-b495a15ffb06'), AIMessage(content='', additional_kwargs={'function_call': {'name': 'transfer_to_medicine_inventory', 'arguments': '{}'}}, response_metadata={'prompt_feedback': {'block_reason': 0, 'safety_ratings': []}, 'finish_reason': 'STOP', 'model_name': 'gemini-2.0-flash', 'safety_ratings': []}, name='supervisor', id='run--e6f960e3-4fa6-40fb-a1cd-779213c2ebe9-0', tool_calls=[{'name': 'transfer_to_appointment_scheduler', 'args': {}, 'id': '550c158d-687b-4ad9-8244-80b074e1397d', 'type': 'tool_call'}, {'name': 'transfer_to_medicine_inventory', 'args': {}, 'id': 'ca6f1552-636c-4063-b624-d63459d723de', 'type': 'tool_call'}], usage_metadata={'input_tokens': 126, 'output_tokens': 14, 'total_tokens': 140, 'input_token_details': {'cache_read': 0}}), ToolMessage(content='Successfully transferred to appointment_scheduler', name='transfer_to_appointment_scheduler', tool_call_id='550c158d-687b-4ad9-8244-80b074e1397d')], 'active_agent': 'appointment_scheduler'}, goto='appointment_scheduler')\n",
      "exception calling callback for <Future at 0x7f10cc576f50 state=finished raised ParentCommand>\n",
      "Traceback (most recent call last):\n",
      "  File \"/usr/local/lib/python3.10/concurrent/futures/_base.py\", line 342, in _invoke_callbacks\n",
      "    callback(self)\n",
      "  File \"/home/tejas.raval@simform.dom/Desktop/ViniGraph/pheonix/lib/python3.10/site-packages/langgraph/pregel/runner.py\", line 107, in on_done\n",
      "    self.callback()(task, _exception(fut))  # type: ignore[misc]\n",
      "  File \"/home/tejas.raval@simform.dom/Desktop/ViniGraph/pheonix/lib/python3.10/site-packages/langgraph/pregel/runner.py\", line 434, in commit\n",
      "    raise exception\n",
      "  File \"/home/tejas.raval@simform.dom/Desktop/ViniGraph/pheonix/lib/python3.10/site-packages/langgraph/pregel/executor.py\", line 80, in done\n",
      "    task.result()\n",
      "  File \"/usr/local/lib/python3.10/concurrent/futures/_base.py\", line 451, in result\n",
      "    return self.__get_result()\n",
      "  File \"/usr/local/lib/python3.10/concurrent/futures/_base.py\", line 403, in __get_result\n",
      "    raise self._exception\n",
      "  File \"/usr/local/lib/python3.10/concurrent/futures/thread.py\", line 58, in run\n",
      "    result = self.fn(*self.args, **self.kwargs)\n",
      "  File \"/home/tejas.raval@simform.dom/Desktop/ViniGraph/pheonix/lib/python3.10/site-packages/langgraph/pregel/retry.py\", line 40, in run_with_retry\n",
      "    return task.proc.invoke(task.input, config)\n",
      "  File \"/home/tejas.raval@simform.dom/Desktop/ViniGraph/pheonix/lib/python3.10/site-packages/langgraph/utils/runnable.py\", line 625, in invoke\n",
      "    input = step.invoke(input, config)\n",
      "  File \"/home/tejas.raval@simform.dom/Desktop/ViniGraph/pheonix/lib/python3.10/site-packages/langgraph/utils/runnable.py\", line 377, in invoke\n",
      "    ret = self.func(*args, **kwargs)\n",
      "  File \"/home/tejas.raval@simform.dom/Desktop/ViniGraph/pheonix/lib/python3.10/site-packages/langgraph/pregel/write.py\", line 99, in _write\n",
      "    self.do_write(\n",
      "  File \"/home/tejas.raval@simform.dom/Desktop/ViniGraph/pheonix/lib/python3.10/site-packages/langgraph/pregel/write.py\", line 142, in do_write\n",
      "    write(_assemble_writes(writes))\n",
      "  File \"/home/tejas.raval@simform.dom/Desktop/ViniGraph/pheonix/lib/python3.10/site-packages/langgraph/pregel/write.py\", line 199, in _assemble_writes\n",
      "    if ww := w.mapper(w.value):\n",
      "  File \"/home/tejas.raval@simform.dom/Desktop/ViniGraph/pheonix/lib/python3.10/site-packages/langgraph/graph/state.py\", line 1066, in _control_branch\n",
      "    raise ParentCommand(command)\n",
      "langgraph.errors.ParentCommand: Command(graph='supervisor:85c0cda0-9d6b-7511-fcb8-402d0b5c881d', update={'messages': [HumanMessage(content='I need to book an appointment for a patient named John Doe on 2023-10-15. Also, I need to check the availability of Aspirin in the medicine inventory.', additional_kwargs={}, response_metadata={}, id='cf950e3e-c2be-49ba-8462-b495a15ffb06'), AIMessage(content='', additional_kwargs={'function_call': {'name': 'transfer_to_medicine_inventory', 'arguments': '{}'}}, response_metadata={'prompt_feedback': {'block_reason': 0, 'safety_ratings': []}, 'finish_reason': 'STOP', 'model_name': 'gemini-2.0-flash', 'safety_ratings': []}, name='supervisor', id='run--e6f960e3-4fa6-40fb-a1cd-779213c2ebe9-0', tool_calls=[{'name': 'transfer_to_appointment_scheduler', 'args': {}, 'id': '550c158d-687b-4ad9-8244-80b074e1397d', 'type': 'tool_call'}, {'name': 'transfer_to_medicine_inventory', 'args': {}, 'id': 'ca6f1552-636c-4063-b624-d63459d723de', 'type': 'tool_call'}], usage_metadata={'input_tokens': 126, 'output_tokens': 14, 'total_tokens': 140, 'input_token_details': {'cache_read': 0}}), ToolMessage(content='Successfully transferred to medicine_inventory', name='transfer_to_medicine_inventory', tool_call_id='ca6f1552-636c-4063-b624-d63459d723de')], 'active_agent': 'medicine_inventory'}, goto='medicine_inventory')\n"
     ]
    },
    {
     "name": "stdout",
     "output_type": "stream",
     "text": [
      "(\"supervisor : content='I need to book an appointment for a patient named John \"\n",
      " 'Doe on 2023-10-15. Also, I need to check the availability of Aspirin in the '\n",
      " \"medicine inventory.' additional_kwargs={} response_metadata={} \"\n",
      " \"id='cf950e3e-c2be-49ba-8462-b495a15ffb06'\")\n",
      "\n",
      "\n",
      "(\"supervisor : content='' additional_kwargs={'function_call': {'name': \"\n",
      " \"'transfer_to_medicine_inventory', 'arguments': '{}'}} \"\n",
      " \"response_metadata={'prompt_feedback': {'block_reason': 0, 'safety_ratings': \"\n",
      " \"[]}, 'finish_reason': 'STOP', 'model_name': 'gemini-2.0-flash', \"\n",
      " \"'safety_ratings': []} name='supervisor' \"\n",
      " \"id='run--e6f960e3-4fa6-40fb-a1cd-779213c2ebe9-0' tool_calls=[{'name': \"\n",
      " \"'transfer_to_appointment_scheduler', 'args': {}, 'id': \"\n",
      " \"'550c158d-687b-4ad9-8244-80b074e1397d', 'type': 'tool_call'}, {'name': \"\n",
      " \"'transfer_to_medicine_inventory', 'args': {}, 'id': \"\n",
      " \"'ca6f1552-636c-4063-b624-d63459d723de', 'type': 'tool_call'}] \"\n",
      " \"usage_metadata={'input_tokens': 126, 'output_tokens': 14, 'total_tokens': \"\n",
      " \"140, 'input_token_details': {'cache_read': 0}}\")\n",
      "\n",
      "\n",
      "(\"supervisor : content='Successfully transferred to appointment_scheduler' \"\n",
      " \"name='transfer_to_appointment_scheduler' \"\n",
      " \"id='9bbe4daa-81bc-4eef-8907-3eb59d7dcd19' \"\n",
      " \"tool_call_id='550c158d-687b-4ad9-8244-80b074e1397d'\")\n",
      "\n",
      "\n"
     ]
    },
    {
     "ename": "ValueError",
     "evalue": "Found AIMessages with tool_calls that do not have a corresponding ToolMessage. Here are the first few of those tool calls: [{'name': 'transfer_to_medicine_inventory', 'args': {}, 'id': 'ca6f1552-636c-4063-b624-d63459d723de', 'type': 'tool_call'}].\n\nEvery tool call (LLM requesting to call a tool) in the message history MUST have a corresponding ToolMessage (result of a tool invocation to return to the LLM) - this is required by most LLM providers.\nFor troubleshooting, visit: https://python.langchain.com/docs/troubleshooting/errors/INVALID_CHAT_HISTORY",
     "output_type": "error",
     "traceback": [
      "\u001b[0;31m---------------------------------------------------------------------------\u001b[0m",
      "\u001b[0;31mValueError\u001b[0m                                Traceback (most recent call last)",
      "Cell \u001b[0;32mIn[15], line 1\u001b[0m\n\u001b[0;32m----> 1\u001b[0m \u001b[38;5;28;01mfor\u001b[39;00m chunk \u001b[38;5;129;01min\u001b[39;00m swarm\u001b[38;5;241m.\u001b[39mstream(\n\u001b[1;32m      2\u001b[0m     {\n\u001b[1;32m      3\u001b[0m         \u001b[38;5;124m\"\u001b[39m\u001b[38;5;124mmessages\u001b[39m\u001b[38;5;124m\"\u001b[39m: [\n\u001b[1;32m      4\u001b[0m             {\n\u001b[1;32m      5\u001b[0m                 \u001b[38;5;124m\"\u001b[39m\u001b[38;5;124mrole\u001b[39m\u001b[38;5;124m\"\u001b[39m: \u001b[38;5;124m\"\u001b[39m\u001b[38;5;124muser\u001b[39m\u001b[38;5;124m\"\u001b[39m,\n\u001b[1;32m      6\u001b[0m                 \u001b[38;5;124m\"\u001b[39m\u001b[38;5;124mcontent\u001b[39m\u001b[38;5;124m\"\u001b[39m: \u001b[38;5;124m\"\u001b[39m\u001b[38;5;124mI need to book an appointment for a patient named John Doe on 2023-10-15. Also, I need to check the availability of Aspirin in the medicine inventory.\u001b[39m\u001b[38;5;124m\"\u001b[39m\n\u001b[1;32m      7\u001b[0m             }\n\u001b[1;32m      8\u001b[0m         ]\n\u001b[1;32m      9\u001b[0m     }\n\u001b[1;32m     10\u001b[0m ):\n\u001b[1;32m     12\u001b[0m     \u001b[38;5;28;01mfor\u001b[39;00m x \u001b[38;5;129;01min\u001b[39;00m chunk\u001b[38;5;241m.\u001b[39mkeys():\n\u001b[1;32m     13\u001b[0m      \u001b[38;5;28;01mfor\u001b[39;00m i \u001b[38;5;129;01min\u001b[39;00m \u001b[38;5;28mrange\u001b[39m(\u001b[38;5;28mlen\u001b[39m(chunk[x][\u001b[38;5;124m'\u001b[39m\u001b[38;5;124mmessages\u001b[39m\u001b[38;5;124m'\u001b[39m])):\n",
      "File \u001b[0;32m~/Desktop/ViniGraph/pheonix/lib/python3.10/site-packages/langgraph/pregel/__init__.py:2436\u001b[0m, in \u001b[0;36mPregel.stream\u001b[0;34m(self, input, config, stream_mode, output_keys, interrupt_before, interrupt_after, checkpoint_during, debug, subgraphs)\u001b[0m\n\u001b[1;32m   2434\u001b[0m         \u001b[38;5;28;01mfor\u001b[39;00m task \u001b[38;5;129;01min\u001b[39;00m loop\u001b[38;5;241m.\u001b[39mmatch_cached_writes():\n\u001b[1;32m   2435\u001b[0m             loop\u001b[38;5;241m.\u001b[39moutput_writes(task\u001b[38;5;241m.\u001b[39mid, task\u001b[38;5;241m.\u001b[39mwrites, cached\u001b[38;5;241m=\u001b[39m\u001b[38;5;28;01mTrue\u001b[39;00m)\n\u001b[0;32m-> 2436\u001b[0m         \u001b[38;5;28;01mfor\u001b[39;00m _ \u001b[38;5;129;01min\u001b[39;00m runner\u001b[38;5;241m.\u001b[39mtick(\n\u001b[1;32m   2437\u001b[0m             [t \u001b[38;5;28;01mfor\u001b[39;00m t \u001b[38;5;129;01min\u001b[39;00m loop\u001b[38;5;241m.\u001b[39mtasks\u001b[38;5;241m.\u001b[39mvalues() \u001b[38;5;28;01mif\u001b[39;00m \u001b[38;5;129;01mnot\u001b[39;00m t\u001b[38;5;241m.\u001b[39mwrites],\n\u001b[1;32m   2438\u001b[0m             timeout\u001b[38;5;241m=\u001b[39m\u001b[38;5;28mself\u001b[39m\u001b[38;5;241m.\u001b[39mstep_timeout,\n\u001b[1;32m   2439\u001b[0m             get_waiter\u001b[38;5;241m=\u001b[39mget_waiter,\n\u001b[1;32m   2440\u001b[0m             schedule_task\u001b[38;5;241m=\u001b[39mloop\u001b[38;5;241m.\u001b[39maccept_push,\n\u001b[1;32m   2441\u001b[0m         ):\n\u001b[1;32m   2442\u001b[0m             \u001b[38;5;66;03m# emit output\u001b[39;00m\n\u001b[1;32m   2443\u001b[0m             \u001b[38;5;28;01myield from\u001b[39;00m output()\n\u001b[1;32m   2444\u001b[0m \u001b[38;5;66;03m# emit output\u001b[39;00m\n",
      "File \u001b[0;32m~/Desktop/ViniGraph/pheonix/lib/python3.10/site-packages/langgraph/pregel/runner.py:161\u001b[0m, in \u001b[0;36mPregelRunner.tick\u001b[0;34m(self, tasks, reraise, timeout, retry_policy, get_waiter, schedule_task)\u001b[0m\n\u001b[1;32m    159\u001b[0m t \u001b[38;5;241m=\u001b[39m tasks[\u001b[38;5;241m0\u001b[39m]\n\u001b[1;32m    160\u001b[0m \u001b[38;5;28;01mtry\u001b[39;00m:\n\u001b[0;32m--> 161\u001b[0m     \u001b[43mrun_with_retry\u001b[49m\u001b[43m(\u001b[49m\n\u001b[1;32m    162\u001b[0m \u001b[43m        \u001b[49m\u001b[43mt\u001b[49m\u001b[43m,\u001b[49m\n\u001b[1;32m    163\u001b[0m \u001b[43m        \u001b[49m\u001b[43mretry_policy\u001b[49m\u001b[43m,\u001b[49m\n\u001b[1;32m    164\u001b[0m \u001b[43m        \u001b[49m\u001b[43mconfigurable\u001b[49m\u001b[38;5;241;43m=\u001b[39;49m\u001b[43m{\u001b[49m\n\u001b[1;32m    165\u001b[0m \u001b[43m            \u001b[49m\u001b[43mCONFIG_KEY_CALL\u001b[49m\u001b[43m:\u001b[49m\u001b[43m \u001b[49m\u001b[43mpartial\u001b[49m\u001b[43m(\u001b[49m\n\u001b[1;32m    166\u001b[0m \u001b[43m                \u001b[49m\u001b[43m_call\u001b[49m\u001b[43m,\u001b[49m\n\u001b[1;32m    167\u001b[0m \u001b[43m                \u001b[49m\u001b[43mweakref\u001b[49m\u001b[38;5;241;43m.\u001b[39;49m\u001b[43mref\u001b[49m\u001b[43m(\u001b[49m\u001b[43mt\u001b[49m\u001b[43m)\u001b[49m\u001b[43m,\u001b[49m\n\u001b[1;32m    168\u001b[0m \u001b[43m                \u001b[49m\u001b[43mretry\u001b[49m\u001b[38;5;241;43m=\u001b[39;49m\u001b[43mretry_policy\u001b[49m\u001b[43m,\u001b[49m\n\u001b[1;32m    169\u001b[0m \u001b[43m                \u001b[49m\u001b[43mfutures\u001b[49m\u001b[38;5;241;43m=\u001b[39;49m\u001b[43mweakref\u001b[49m\u001b[38;5;241;43m.\u001b[39;49m\u001b[43mref\u001b[49m\u001b[43m(\u001b[49m\u001b[43mfutures\u001b[49m\u001b[43m)\u001b[49m\u001b[43m,\u001b[49m\n\u001b[1;32m    170\u001b[0m \u001b[43m                \u001b[49m\u001b[43mschedule_task\u001b[49m\u001b[38;5;241;43m=\u001b[39;49m\u001b[43mschedule_task\u001b[49m\u001b[43m,\u001b[49m\n\u001b[1;32m    171\u001b[0m \u001b[43m                \u001b[49m\u001b[43msubmit\u001b[49m\u001b[38;5;241;43m=\u001b[39;49m\u001b[38;5;28;43mself\u001b[39;49m\u001b[38;5;241;43m.\u001b[39;49m\u001b[43msubmit\u001b[49m\u001b[43m,\u001b[49m\n\u001b[1;32m    172\u001b[0m \u001b[43m            \u001b[49m\u001b[43m)\u001b[49m\u001b[43m,\u001b[49m\n\u001b[1;32m    173\u001b[0m \u001b[43m        \u001b[49m\u001b[43m}\u001b[49m\u001b[43m,\u001b[49m\n\u001b[1;32m    174\u001b[0m \u001b[43m    \u001b[49m\u001b[43m)\u001b[49m\n\u001b[1;32m    175\u001b[0m     \u001b[38;5;28mself\u001b[39m\u001b[38;5;241m.\u001b[39mcommit(t, \u001b[38;5;28;01mNone\u001b[39;00m)\n\u001b[1;32m    176\u001b[0m \u001b[38;5;28;01mexcept\u001b[39;00m \u001b[38;5;167;01mException\u001b[39;00m \u001b[38;5;28;01mas\u001b[39;00m exc:\n",
      "File \u001b[0;32m~/Desktop/ViniGraph/pheonix/lib/python3.10/site-packages/langgraph/pregel/retry.py:40\u001b[0m, in \u001b[0;36mrun_with_retry\u001b[0;34m(task, retry_policy, configurable)\u001b[0m\n\u001b[1;32m     38\u001b[0m     task\u001b[38;5;241m.\u001b[39mwrites\u001b[38;5;241m.\u001b[39mclear()\n\u001b[1;32m     39\u001b[0m     \u001b[38;5;66;03m# run the task\u001b[39;00m\n\u001b[0;32m---> 40\u001b[0m     \u001b[38;5;28;01mreturn\u001b[39;00m \u001b[43mtask\u001b[49m\u001b[38;5;241;43m.\u001b[39;49m\u001b[43mproc\u001b[49m\u001b[38;5;241;43m.\u001b[39;49m\u001b[43minvoke\u001b[49m\u001b[43m(\u001b[49m\u001b[43mtask\u001b[49m\u001b[38;5;241;43m.\u001b[39;49m\u001b[43minput\u001b[49m\u001b[43m,\u001b[49m\u001b[43m \u001b[49m\u001b[43mconfig\u001b[49m\u001b[43m)\u001b[49m\n\u001b[1;32m     41\u001b[0m \u001b[38;5;28;01mexcept\u001b[39;00m ParentCommand \u001b[38;5;28;01mas\u001b[39;00m exc:\n\u001b[1;32m     42\u001b[0m     ns: \u001b[38;5;28mstr\u001b[39m \u001b[38;5;241m=\u001b[39m config[CONF][CONFIG_KEY_CHECKPOINT_NS]\n",
      "File \u001b[0;32m~/Desktop/ViniGraph/pheonix/lib/python3.10/site-packages/langgraph/utils/runnable.py:623\u001b[0m, in \u001b[0;36mRunnableSeq.invoke\u001b[0;34m(self, input, config, **kwargs)\u001b[0m\n\u001b[1;32m    621\u001b[0m     \u001b[38;5;66;03m# run in context\u001b[39;00m\n\u001b[1;32m    622\u001b[0m     \u001b[38;5;28;01mwith\u001b[39;00m set_config_context(config, run) \u001b[38;5;28;01mas\u001b[39;00m context:\n\u001b[0;32m--> 623\u001b[0m         \u001b[38;5;28minput\u001b[39m \u001b[38;5;241m=\u001b[39m \u001b[43mcontext\u001b[49m\u001b[38;5;241;43m.\u001b[39;49m\u001b[43mrun\u001b[49m\u001b[43m(\u001b[49m\u001b[43mstep\u001b[49m\u001b[38;5;241;43m.\u001b[39;49m\u001b[43minvoke\u001b[49m\u001b[43m,\u001b[49m\u001b[43m \u001b[49m\u001b[38;5;28;43minput\u001b[39;49m\u001b[43m,\u001b[49m\u001b[43m \u001b[49m\u001b[43mconfig\u001b[49m\u001b[43m,\u001b[49m\u001b[43m \u001b[49m\u001b[38;5;241;43m*\u001b[39;49m\u001b[38;5;241;43m*\u001b[39;49m\u001b[43mkwargs\u001b[49m\u001b[43m)\u001b[49m\n\u001b[1;32m    624\u001b[0m \u001b[38;5;28;01melse\u001b[39;00m:\n\u001b[1;32m    625\u001b[0m     \u001b[38;5;28minput\u001b[39m \u001b[38;5;241m=\u001b[39m step\u001b[38;5;241m.\u001b[39minvoke(\u001b[38;5;28minput\u001b[39m, config)\n",
      "File \u001b[0;32m~/Desktop/ViniGraph/pheonix/lib/python3.10/site-packages/langgraph/pregel/__init__.py:2719\u001b[0m, in \u001b[0;36mPregel.invoke\u001b[0;34m(self, input, config, stream_mode, output_keys, interrupt_before, interrupt_after, checkpoint_during, debug, **kwargs)\u001b[0m\n\u001b[1;32m   2716\u001b[0m chunks: \u001b[38;5;28mlist\u001b[39m[Union[\u001b[38;5;28mdict\u001b[39m[\u001b[38;5;28mstr\u001b[39m, Any], Any]] \u001b[38;5;241m=\u001b[39m []\n\u001b[1;32m   2717\u001b[0m interrupts: \u001b[38;5;28mlist\u001b[39m[Interrupt] \u001b[38;5;241m=\u001b[39m []\n\u001b[0;32m-> 2719\u001b[0m \u001b[38;5;28;01mfor\u001b[39;00m chunk \u001b[38;5;129;01min\u001b[39;00m \u001b[38;5;28mself\u001b[39m\u001b[38;5;241m.\u001b[39mstream(\n\u001b[1;32m   2720\u001b[0m     \u001b[38;5;28minput\u001b[39m,\n\u001b[1;32m   2721\u001b[0m     config,\n\u001b[1;32m   2722\u001b[0m     stream_mode\u001b[38;5;241m=\u001b[39mstream_mode,\n\u001b[1;32m   2723\u001b[0m     output_keys\u001b[38;5;241m=\u001b[39moutput_keys,\n\u001b[1;32m   2724\u001b[0m     interrupt_before\u001b[38;5;241m=\u001b[39minterrupt_before,\n\u001b[1;32m   2725\u001b[0m     interrupt_after\u001b[38;5;241m=\u001b[39minterrupt_after,\n\u001b[1;32m   2726\u001b[0m     checkpoint_during\u001b[38;5;241m=\u001b[39mcheckpoint_during,\n\u001b[1;32m   2727\u001b[0m     debug\u001b[38;5;241m=\u001b[39mdebug,\n\u001b[1;32m   2728\u001b[0m     \u001b[38;5;241m*\u001b[39m\u001b[38;5;241m*\u001b[39mkwargs,\n\u001b[1;32m   2729\u001b[0m ):\n\u001b[1;32m   2730\u001b[0m     \u001b[38;5;28;01mif\u001b[39;00m stream_mode \u001b[38;5;241m==\u001b[39m \u001b[38;5;124m\"\u001b[39m\u001b[38;5;124mvalues\u001b[39m\u001b[38;5;124m\"\u001b[39m:\n\u001b[1;32m   2731\u001b[0m         \u001b[38;5;28;01mif\u001b[39;00m (\n\u001b[1;32m   2732\u001b[0m             \u001b[38;5;28misinstance\u001b[39m(chunk, \u001b[38;5;28mdict\u001b[39m)\n\u001b[1;32m   2733\u001b[0m             \u001b[38;5;129;01mand\u001b[39;00m (ints \u001b[38;5;241m:=\u001b[39m chunk\u001b[38;5;241m.\u001b[39mget(INTERRUPT)) \u001b[38;5;129;01mis\u001b[39;00m \u001b[38;5;129;01mnot\u001b[39;00m \u001b[38;5;28;01mNone\u001b[39;00m\n\u001b[1;32m   2734\u001b[0m         ):\n",
      "File \u001b[0;32m~/Desktop/ViniGraph/pheonix/lib/python3.10/site-packages/langgraph/pregel/__init__.py:2436\u001b[0m, in \u001b[0;36mPregel.stream\u001b[0;34m(self, input, config, stream_mode, output_keys, interrupt_before, interrupt_after, checkpoint_during, debug, subgraphs)\u001b[0m\n\u001b[1;32m   2434\u001b[0m         \u001b[38;5;28;01mfor\u001b[39;00m task \u001b[38;5;129;01min\u001b[39;00m loop\u001b[38;5;241m.\u001b[39mmatch_cached_writes():\n\u001b[1;32m   2435\u001b[0m             loop\u001b[38;5;241m.\u001b[39moutput_writes(task\u001b[38;5;241m.\u001b[39mid, task\u001b[38;5;241m.\u001b[39mwrites, cached\u001b[38;5;241m=\u001b[39m\u001b[38;5;28;01mTrue\u001b[39;00m)\n\u001b[0;32m-> 2436\u001b[0m         \u001b[38;5;28;01mfor\u001b[39;00m _ \u001b[38;5;129;01min\u001b[39;00m runner\u001b[38;5;241m.\u001b[39mtick(\n\u001b[1;32m   2437\u001b[0m             [t \u001b[38;5;28;01mfor\u001b[39;00m t \u001b[38;5;129;01min\u001b[39;00m loop\u001b[38;5;241m.\u001b[39mtasks\u001b[38;5;241m.\u001b[39mvalues() \u001b[38;5;28;01mif\u001b[39;00m \u001b[38;5;129;01mnot\u001b[39;00m t\u001b[38;5;241m.\u001b[39mwrites],\n\u001b[1;32m   2438\u001b[0m             timeout\u001b[38;5;241m=\u001b[39m\u001b[38;5;28mself\u001b[39m\u001b[38;5;241m.\u001b[39mstep_timeout,\n\u001b[1;32m   2439\u001b[0m             get_waiter\u001b[38;5;241m=\u001b[39mget_waiter,\n\u001b[1;32m   2440\u001b[0m             schedule_task\u001b[38;5;241m=\u001b[39mloop\u001b[38;5;241m.\u001b[39maccept_push,\n\u001b[1;32m   2441\u001b[0m         ):\n\u001b[1;32m   2442\u001b[0m             \u001b[38;5;66;03m# emit output\u001b[39;00m\n\u001b[1;32m   2443\u001b[0m             \u001b[38;5;28;01myield from\u001b[39;00m output()\n\u001b[1;32m   2444\u001b[0m \u001b[38;5;66;03m# emit output\u001b[39;00m\n",
      "File \u001b[0;32m~/Desktop/ViniGraph/pheonix/lib/python3.10/site-packages/langgraph/pregel/runner.py:161\u001b[0m, in \u001b[0;36mPregelRunner.tick\u001b[0;34m(self, tasks, reraise, timeout, retry_policy, get_waiter, schedule_task)\u001b[0m\n\u001b[1;32m    159\u001b[0m t \u001b[38;5;241m=\u001b[39m tasks[\u001b[38;5;241m0\u001b[39m]\n\u001b[1;32m    160\u001b[0m \u001b[38;5;28;01mtry\u001b[39;00m:\n\u001b[0;32m--> 161\u001b[0m     \u001b[43mrun_with_retry\u001b[49m\u001b[43m(\u001b[49m\n\u001b[1;32m    162\u001b[0m \u001b[43m        \u001b[49m\u001b[43mt\u001b[49m\u001b[43m,\u001b[49m\n\u001b[1;32m    163\u001b[0m \u001b[43m        \u001b[49m\u001b[43mretry_policy\u001b[49m\u001b[43m,\u001b[49m\n\u001b[1;32m    164\u001b[0m \u001b[43m        \u001b[49m\u001b[43mconfigurable\u001b[49m\u001b[38;5;241;43m=\u001b[39;49m\u001b[43m{\u001b[49m\n\u001b[1;32m    165\u001b[0m \u001b[43m            \u001b[49m\u001b[43mCONFIG_KEY_CALL\u001b[49m\u001b[43m:\u001b[49m\u001b[43m \u001b[49m\u001b[43mpartial\u001b[49m\u001b[43m(\u001b[49m\n\u001b[1;32m    166\u001b[0m \u001b[43m                \u001b[49m\u001b[43m_call\u001b[49m\u001b[43m,\u001b[49m\n\u001b[1;32m    167\u001b[0m \u001b[43m                \u001b[49m\u001b[43mweakref\u001b[49m\u001b[38;5;241;43m.\u001b[39;49m\u001b[43mref\u001b[49m\u001b[43m(\u001b[49m\u001b[43mt\u001b[49m\u001b[43m)\u001b[49m\u001b[43m,\u001b[49m\n\u001b[1;32m    168\u001b[0m \u001b[43m                \u001b[49m\u001b[43mretry\u001b[49m\u001b[38;5;241;43m=\u001b[39;49m\u001b[43mretry_policy\u001b[49m\u001b[43m,\u001b[49m\n\u001b[1;32m    169\u001b[0m \u001b[43m                \u001b[49m\u001b[43mfutures\u001b[49m\u001b[38;5;241;43m=\u001b[39;49m\u001b[43mweakref\u001b[49m\u001b[38;5;241;43m.\u001b[39;49m\u001b[43mref\u001b[49m\u001b[43m(\u001b[49m\u001b[43mfutures\u001b[49m\u001b[43m)\u001b[49m\u001b[43m,\u001b[49m\n\u001b[1;32m    170\u001b[0m \u001b[43m                \u001b[49m\u001b[43mschedule_task\u001b[49m\u001b[38;5;241;43m=\u001b[39;49m\u001b[43mschedule_task\u001b[49m\u001b[43m,\u001b[49m\n\u001b[1;32m    171\u001b[0m \u001b[43m                \u001b[49m\u001b[43msubmit\u001b[49m\u001b[38;5;241;43m=\u001b[39;49m\u001b[38;5;28;43mself\u001b[39;49m\u001b[38;5;241;43m.\u001b[39;49m\u001b[43msubmit\u001b[49m\u001b[43m,\u001b[49m\n\u001b[1;32m    172\u001b[0m \u001b[43m            \u001b[49m\u001b[43m)\u001b[49m\u001b[43m,\u001b[49m\n\u001b[1;32m    173\u001b[0m \u001b[43m        \u001b[49m\u001b[43m}\u001b[49m\u001b[43m,\u001b[49m\n\u001b[1;32m    174\u001b[0m \u001b[43m    \u001b[49m\u001b[43m)\u001b[49m\n\u001b[1;32m    175\u001b[0m     \u001b[38;5;28mself\u001b[39m\u001b[38;5;241m.\u001b[39mcommit(t, \u001b[38;5;28;01mNone\u001b[39;00m)\n\u001b[1;32m    176\u001b[0m \u001b[38;5;28;01mexcept\u001b[39;00m \u001b[38;5;167;01mException\u001b[39;00m \u001b[38;5;28;01mas\u001b[39;00m exc:\n",
      "File \u001b[0;32m~/Desktop/ViniGraph/pheonix/lib/python3.10/site-packages/langgraph/pregel/retry.py:40\u001b[0m, in \u001b[0;36mrun_with_retry\u001b[0;34m(task, retry_policy, configurable)\u001b[0m\n\u001b[1;32m     38\u001b[0m     task\u001b[38;5;241m.\u001b[39mwrites\u001b[38;5;241m.\u001b[39mclear()\n\u001b[1;32m     39\u001b[0m     \u001b[38;5;66;03m# run the task\u001b[39;00m\n\u001b[0;32m---> 40\u001b[0m     \u001b[38;5;28;01mreturn\u001b[39;00m \u001b[43mtask\u001b[49m\u001b[38;5;241;43m.\u001b[39;49m\u001b[43mproc\u001b[49m\u001b[38;5;241;43m.\u001b[39;49m\u001b[43minvoke\u001b[49m\u001b[43m(\u001b[49m\u001b[43mtask\u001b[49m\u001b[38;5;241;43m.\u001b[39;49m\u001b[43minput\u001b[49m\u001b[43m,\u001b[49m\u001b[43m \u001b[49m\u001b[43mconfig\u001b[49m\u001b[43m)\u001b[49m\n\u001b[1;32m     41\u001b[0m \u001b[38;5;28;01mexcept\u001b[39;00m ParentCommand \u001b[38;5;28;01mas\u001b[39;00m exc:\n\u001b[1;32m     42\u001b[0m     ns: \u001b[38;5;28mstr\u001b[39m \u001b[38;5;241m=\u001b[39m config[CONF][CONFIG_KEY_CHECKPOINT_NS]\n",
      "File \u001b[0;32m~/Desktop/ViniGraph/pheonix/lib/python3.10/site-packages/langgraph/utils/runnable.py:623\u001b[0m, in \u001b[0;36mRunnableSeq.invoke\u001b[0;34m(self, input, config, **kwargs)\u001b[0m\n\u001b[1;32m    621\u001b[0m     \u001b[38;5;66;03m# run in context\u001b[39;00m\n\u001b[1;32m    622\u001b[0m     \u001b[38;5;28;01mwith\u001b[39;00m set_config_context(config, run) \u001b[38;5;28;01mas\u001b[39;00m context:\n\u001b[0;32m--> 623\u001b[0m         \u001b[38;5;28minput\u001b[39m \u001b[38;5;241m=\u001b[39m \u001b[43mcontext\u001b[49m\u001b[38;5;241;43m.\u001b[39;49m\u001b[43mrun\u001b[49m\u001b[43m(\u001b[49m\u001b[43mstep\u001b[49m\u001b[38;5;241;43m.\u001b[39;49m\u001b[43minvoke\u001b[49m\u001b[43m,\u001b[49m\u001b[43m \u001b[49m\u001b[38;5;28;43minput\u001b[39;49m\u001b[43m,\u001b[49m\u001b[43m \u001b[49m\u001b[43mconfig\u001b[49m\u001b[43m,\u001b[49m\u001b[43m \u001b[49m\u001b[38;5;241;43m*\u001b[39;49m\u001b[38;5;241;43m*\u001b[39;49m\u001b[43mkwargs\u001b[49m\u001b[43m)\u001b[49m\n\u001b[1;32m    624\u001b[0m \u001b[38;5;28;01melse\u001b[39;00m:\n\u001b[1;32m    625\u001b[0m     \u001b[38;5;28minput\u001b[39m \u001b[38;5;241m=\u001b[39m step\u001b[38;5;241m.\u001b[39minvoke(\u001b[38;5;28minput\u001b[39m, config)\n",
      "File \u001b[0;32m~/Desktop/ViniGraph/pheonix/lib/python3.10/site-packages/langgraph/utils/runnable.py:370\u001b[0m, in \u001b[0;36mRunnableCallable.invoke\u001b[0;34m(self, input, config, **kwargs)\u001b[0m\n\u001b[1;32m    368\u001b[0m     \u001b[38;5;66;03m# run in context\u001b[39;00m\n\u001b[1;32m    369\u001b[0m     \u001b[38;5;28;01mwith\u001b[39;00m set_config_context(child_config, run) \u001b[38;5;28;01mas\u001b[39;00m context:\n\u001b[0;32m--> 370\u001b[0m         ret \u001b[38;5;241m=\u001b[39m \u001b[43mcontext\u001b[49m\u001b[38;5;241;43m.\u001b[39;49m\u001b[43mrun\u001b[49m\u001b[43m(\u001b[49m\u001b[38;5;28;43mself\u001b[39;49m\u001b[38;5;241;43m.\u001b[39;49m\u001b[43mfunc\u001b[49m\u001b[43m,\u001b[49m\u001b[43m \u001b[49m\u001b[38;5;241;43m*\u001b[39;49m\u001b[43margs\u001b[49m\u001b[43m,\u001b[49m\u001b[43m \u001b[49m\u001b[38;5;241;43m*\u001b[39;49m\u001b[38;5;241;43m*\u001b[39;49m\u001b[43mkwargs\u001b[49m\u001b[43m)\u001b[49m\n\u001b[1;32m    371\u001b[0m \u001b[38;5;28;01mexcept\u001b[39;00m \u001b[38;5;167;01mBaseException\u001b[39;00m \u001b[38;5;28;01mas\u001b[39;00m e:\n\u001b[1;32m    372\u001b[0m     run_manager\u001b[38;5;241m.\u001b[39mon_chain_error(e)\n",
      "File \u001b[0;32m~/Desktop/ViniGraph/pheonix/lib/python3.10/site-packages/langgraph/prebuilt/chat_agent_executor.py:504\u001b[0m, in \u001b[0;36mcreate_react_agent.<locals>.call_model\u001b[0;34m(state, config)\u001b[0m\n\u001b[1;32m    503\u001b[0m \u001b[38;5;28;01mdef\u001b[39;00m\u001b[38;5;250m \u001b[39m\u001b[38;5;21mcall_model\u001b[39m(state: StateSchema, config: RunnableConfig) \u001b[38;5;241m-\u001b[39m\u001b[38;5;241m>\u001b[39m StateSchema:\n\u001b[0;32m--> 504\u001b[0m     state \u001b[38;5;241m=\u001b[39m \u001b[43m_get_model_input_state\u001b[49m\u001b[43m(\u001b[49m\u001b[43mstate\u001b[49m\u001b[43m)\u001b[49m\n\u001b[1;32m    505\u001b[0m     response \u001b[38;5;241m=\u001b[39m cast(AIMessage, model_runnable\u001b[38;5;241m.\u001b[39minvoke(state, config))\n\u001b[1;32m    506\u001b[0m     \u001b[38;5;66;03m# add agent name to the AIMessage\u001b[39;00m\n",
      "File \u001b[0;32m~/Desktop/ViniGraph/pheonix/lib/python3.10/site-packages/langgraph/prebuilt/chat_agent_executor.py:493\u001b[0m, in \u001b[0;36mcreate_react_agent.<locals>._get_model_input_state\u001b[0;34m(state)\u001b[0m\n\u001b[1;32m    490\u001b[0m \u001b[38;5;28;01mif\u001b[39;00m messages \u001b[38;5;129;01mis\u001b[39;00m \u001b[38;5;28;01mNone\u001b[39;00m:\n\u001b[1;32m    491\u001b[0m     \u001b[38;5;28;01mraise\u001b[39;00m \u001b[38;5;167;01mValueError\u001b[39;00m(error_msg)\n\u001b[0;32m--> 493\u001b[0m \u001b[43m_validate_chat_history\u001b[49m\u001b[43m(\u001b[49m\u001b[43mmessages\u001b[49m\u001b[43m)\u001b[49m\n\u001b[1;32m    494\u001b[0m \u001b[38;5;66;03m# we're passing messages under `messages` key, as this is expected by the prompt\u001b[39;00m\n\u001b[1;32m    495\u001b[0m \u001b[38;5;28;01mif\u001b[39;00m \u001b[38;5;28misinstance\u001b[39m(state_schema, \u001b[38;5;28mtype\u001b[39m) \u001b[38;5;129;01mand\u001b[39;00m \u001b[38;5;28missubclass\u001b[39m(state_schema, BaseModel):\n",
      "File \u001b[0;32m~/Desktop/ViniGraph/pheonix/lib/python3.10/site-packages/langgraph/prebuilt/chat_agent_executor.py:238\u001b[0m, in \u001b[0;36m_validate_chat_history\u001b[0;34m(messages)\u001b[0m\n\u001b[1;32m    229\u001b[0m     \u001b[38;5;28;01mreturn\u001b[39;00m\n\u001b[1;32m    231\u001b[0m error_message \u001b[38;5;241m=\u001b[39m create_error_message(\n\u001b[1;32m    232\u001b[0m     message\u001b[38;5;241m=\u001b[39m\u001b[38;5;124m\"\u001b[39m\u001b[38;5;124mFound AIMessages with tool_calls that do not have a corresponding ToolMessage. \u001b[39m\u001b[38;5;124m\"\u001b[39m\n\u001b[1;32m    233\u001b[0m     \u001b[38;5;124mf\u001b[39m\u001b[38;5;124m\"\u001b[39m\u001b[38;5;124mHere are the first few of those tool calls: \u001b[39m\u001b[38;5;132;01m{\u001b[39;00mtool_calls_without_results[:\u001b[38;5;241m3\u001b[39m]\u001b[38;5;132;01m}\u001b[39;00m\u001b[38;5;124m.\u001b[39m\u001b[38;5;130;01m\\n\u001b[39;00m\u001b[38;5;130;01m\\n\u001b[39;00m\u001b[38;5;124m\"\u001b[39m\n\u001b[0;32m   (...)\u001b[0m\n\u001b[1;32m    236\u001b[0m     error_code\u001b[38;5;241m=\u001b[39mErrorCode\u001b[38;5;241m.\u001b[39mINVALID_CHAT_HISTORY,\n\u001b[1;32m    237\u001b[0m )\n\u001b[0;32m--> 238\u001b[0m \u001b[38;5;28;01mraise\u001b[39;00m \u001b[38;5;167;01mValueError\u001b[39;00m(error_message)\n",
      "\u001b[0;31mValueError\u001b[0m: Found AIMessages with tool_calls that do not have a corresponding ToolMessage. Here are the first few of those tool calls: [{'name': 'transfer_to_medicine_inventory', 'args': {}, 'id': 'ca6f1552-636c-4063-b624-d63459d723de', 'type': 'tool_call'}].\n\nEvery tool call (LLM requesting to call a tool) in the message history MUST have a corresponding ToolMessage (result of a tool invocation to return to the LLM) - this is required by most LLM providers.\nFor troubleshooting, visit: https://python.langchain.com/docs/troubleshooting/errors/INVALID_CHAT_HISTORY"
     ]
    }
   ],
   "source": [
    "for chunk in swarm.stream(\n",
    "    {\n",
    "        \"messages\": [\n",
    "            {\n",
    "                \"role\": \"user\",\n",
    "                \"content\": \"I need to book an appointment for a patient named John Doe on 2023-10-15. Also, I need to check the availability of Aspirin in the medicine inventory.\"\n",
    "            }\n",
    "        ]\n",
    "    }\n",
    "):\n",
    "\n",
    "    for x in chunk.keys():\n",
    "     for i in range(len(chunk[x]['messages'])):\n",
    "        pprint(f\"{x} : {chunk[x]['messages'][i]}\")\n",
    "        print('\\n')"
   ]
  },
  {
   "cell_type": "code",
   "execution_count": null,
   "id": "b5492972",
   "metadata": {},
   "outputs": [],
   "source": [
    "\n"
   ]
  },
  {
   "cell_type": "code",
   "execution_count": null,
   "id": "b383c61f",
   "metadata": {},
   "outputs": [],
   "source": []
  },
  {
   "cell_type": "code",
   "execution_count": null,
   "id": "9c5ca754",
   "metadata": {},
   "outputs": [],
   "source": []
  }
 ],
 "metadata": {
  "kernelspec": {
   "display_name": "pheonix",
   "language": "python",
   "name": "python3"
  },
  "language_info": {
   "codemirror_mode": {
    "name": "ipython",
    "version": 3
   },
   "file_extension": ".py",
   "mimetype": "text/x-python",
   "name": "python",
   "nbconvert_exporter": "python",
   "pygments_lexer": "ipython3",
   "version": "3.8.10"
  }
 },
 "nbformat": 4,
 "nbformat_minor": 5
}
