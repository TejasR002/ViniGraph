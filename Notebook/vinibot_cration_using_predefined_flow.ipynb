{
 "cells": [
  {
   "cell_type": "code",
   "execution_count": 56,
   "id": "1f71f89c",
   "metadata": {},
   "outputs": [
    {
     "name": "stdout",
     "output_type": "stream",
     "text": [
      "Requirement already satisfied: pydantic[email] in /home/tejas.raval@simform.dom/Desktop/ViniGraph/pheonix/lib/python3.10/site-packages (2.11.5)\n",
      "Requirement already satisfied: typing-inspection>=0.4.0 in /home/tejas.raval@simform.dom/Desktop/ViniGraph/pheonix/lib/python3.10/site-packages (from pydantic[email]) (0.4.1)\n",
      "Requirement already satisfied: typing-extensions>=4.12.2 in /home/tejas.raval@simform.dom/Desktop/ViniGraph/pheonix/lib/python3.10/site-packages (from pydantic[email]) (4.14.0)\n",
      "Requirement already satisfied: pydantic-core==2.33.2 in /home/tejas.raval@simform.dom/Desktop/ViniGraph/pheonix/lib/python3.10/site-packages (from pydantic[email]) (2.33.2)\n",
      "Requirement already satisfied: annotated-types>=0.6.0 in /home/tejas.raval@simform.dom/Desktop/ViniGraph/pheonix/lib/python3.10/site-packages (from pydantic[email]) (0.7.0)\n",
      "Requirement already satisfied: email-validator>=2.0.0 in /home/tejas.raval@simform.dom/Desktop/ViniGraph/pheonix/lib/python3.10/site-packages (from pydantic[email]) (2.2.0)\n",
      "Requirement already satisfied: dnspython>=2.0.0 in /home/tejas.raval@simform.dom/Desktop/ViniGraph/pheonix/lib/python3.10/site-packages (from email-validator>=2.0.0->pydantic[email]) (2.7.0)\n",
      "Requirement already satisfied: idna>=2.0.0 in /home/tejas.raval@simform.dom/Desktop/ViniGraph/pheonix/lib/python3.10/site-packages (from email-validator>=2.0.0->pydantic[email]) (3.10)\n",
      "\n",
      "\u001b[1m[\u001b[0m\u001b[34;49mnotice\u001b[0m\u001b[1;39;49m]\u001b[0m\u001b[39;49m A new release of pip is available: \u001b[0m\u001b[31;49m23.0.1\u001b[0m\u001b[39;49m -> \u001b[0m\u001b[32;49m25.1.1\u001b[0m\n",
      "\u001b[1m[\u001b[0m\u001b[34;49mnotice\u001b[0m\u001b[1;39;49m]\u001b[0m\u001b[39;49m To update, run: \u001b[0m\u001b[32;49mpip install --upgrade pip\u001b[0m\n",
      "Note: you may need to restart the kernel to use updated packages.\n"
     ]
    }
   ],
   "source": [
    "%pip install pydantic[email]"
   ]
  },
  {
   "cell_type": "code",
   "execution_count": 57,
   "id": "3fbe9e8d",
   "metadata": {},
   "outputs": [
    {
     "name": "stdout",
     "output_type": "stream",
     "text": [
      "Requirement already satisfied: phonenumbers in /home/tejas.raval@simform.dom/Desktop/ViniGraph/pheonix/lib/python3.10/site-packages (9.0.7)\n",
      "\n",
      "\u001b[1m[\u001b[0m\u001b[34;49mnotice\u001b[0m\u001b[1;39;49m]\u001b[0m\u001b[39;49m A new release of pip is available: \u001b[0m\u001b[31;49m23.0.1\u001b[0m\u001b[39;49m -> \u001b[0m\u001b[32;49m25.1.1\u001b[0m\n",
      "\u001b[1m[\u001b[0m\u001b[34;49mnotice\u001b[0m\u001b[1;39;49m]\u001b[0m\u001b[39;49m To update, run: \u001b[0m\u001b[32;49mpip install --upgrade pip\u001b[0m\n",
      "Note: you may need to restart the kernel to use updated packages.\n"
     ]
    }
   ],
   "source": [
    "%pip install phonenumbers"
   ]
  },
  {
   "cell_type": "code",
   "execution_count": 58,
   "id": "7bc5fc77",
   "metadata": {},
   "outputs": [
    {
     "name": "stdout",
     "output_type": "stream",
     "text": [
      "Requirement already satisfied: pydantic-extra-types in /home/tejas.raval@simform.dom/Desktop/ViniGraph/pheonix/lib/python3.10/site-packages (2.10.5)\n",
      "Requirement already satisfied: typing-extensions in /home/tejas.raval@simform.dom/Desktop/ViniGraph/pheonix/lib/python3.10/site-packages (from pydantic-extra-types) (4.14.0)\n",
      "Requirement already satisfied: pydantic>=2.5.2 in /home/tejas.raval@simform.dom/Desktop/ViniGraph/pheonix/lib/python3.10/site-packages (from pydantic-extra-types) (2.11.5)\n",
      "Requirement already satisfied: pydantic-core==2.33.2 in /home/tejas.raval@simform.dom/Desktop/ViniGraph/pheonix/lib/python3.10/site-packages (from pydantic>=2.5.2->pydantic-extra-types) (2.33.2)\n",
      "Requirement already satisfied: annotated-types>=0.6.0 in /home/tejas.raval@simform.dom/Desktop/ViniGraph/pheonix/lib/python3.10/site-packages (from pydantic>=2.5.2->pydantic-extra-types) (0.7.0)\n",
      "Requirement already satisfied: typing-inspection>=0.4.0 in /home/tejas.raval@simform.dom/Desktop/ViniGraph/pheonix/lib/python3.10/site-packages (from pydantic>=2.5.2->pydantic-extra-types) (0.4.1)\n",
      "\n",
      "\u001b[1m[\u001b[0m\u001b[34;49mnotice\u001b[0m\u001b[1;39;49m]\u001b[0m\u001b[39;49m A new release of pip is available: \u001b[0m\u001b[31;49m23.0.1\u001b[0m\u001b[39;49m -> \u001b[0m\u001b[32;49m25.1.1\u001b[0m\n",
      "\u001b[1m[\u001b[0m\u001b[34;49mnotice\u001b[0m\u001b[1;39;49m]\u001b[0m\u001b[39;49m To update, run: \u001b[0m\u001b[32;49mpip install --upgrade pip\u001b[0m\n",
      "Note: you may need to restart the kernel to use updated packages.\n"
     ]
    }
   ],
   "source": [
    "%pip install pydantic-extra-types"
   ]
  },
  {
   "cell_type": "markdown",
   "id": "a9cf9e34",
   "metadata": {},
   "source": [
    "### Necessory Libraries"
   ]
  },
  {
   "cell_type": "code",
   "execution_count": 59,
   "id": "25ffd099",
   "metadata": {},
   "outputs": [],
   "source": [
    "from typing import TypedDict, List, Optional, Union\n",
    "from langgraph.prebuilt import create_react_agent\n",
    "from pydantic import BaseModel, Field,EmailStr,field_validator\n",
    "from langchain.tools import tool\n",
    "from langchain_core.prompts import ChatPromptTemplate\n",
    "from langchain.prompts import MessagesPlaceholder\n",
    "from langchain_core.messages import HumanMessage, AIMessage, SystemMessage,BaseMessage\n",
    "from langchain_google_genai import ChatGoogleGenerativeAI\n",
    "from pydantic_extra_types.phone_numbers import PhoneNumber\n",
    "from langgraph.graph import StateGraph,add_messages,START,END\n",
    "from langchain_core.agents import AgentAction,AgentFinish"
   ]
  },
  {
   "cell_type": "code",
   "execution_count": 60,
   "id": "c3e5e883",
   "metadata": {},
   "outputs": [],
   "source": [
    "from langgraph.prebuilt import ToolNode"
   ]
  },
  {
   "cell_type": "code",
   "execution_count": 61,
   "id": "f955492b",
   "metadata": {},
   "outputs": [
    {
     "data": {
      "text/plain": [
       "True"
      ]
     },
     "execution_count": 61,
     "metadata": {},
     "output_type": "execute_result"
    }
   ],
   "source": [
    "from dotenv import load_dotenv\n",
    "load_dotenv()"
   ]
  },
  {
   "cell_type": "code",
   "execution_count": null,
   "id": "04b3dd9e",
   "metadata": {},
   "outputs": [],
   "source": [
    "llm = ChatGoogleGenerativeAI(model = \"gemini-2.0-flash-001\", temperature=0)"
   ]
  },
  {
   "cell_type": "code",
   "execution_count": 63,
   "id": "9091d0f7",
   "metadata": {},
   "outputs": [],
   "source": [
    "class UserData(BaseModel):\n",
    "    \"\"\"Necessary user data for the agent.\"\"\"\n",
    "    name: str = Field(..., description=\"The name of the user\")\n",
    "    age: int = Field(..., description=\"The age of the user\")\n",
    "    gender: str = Field(..., description=\"The gender of the user\")\n",
    "    address: str = Field(..., description=\"The address of the user\")\n",
    "    email: EmailStr = Field(..., description=\"The email of the user\")\n",
    "    phone_number: PhoneNumber = Field(..., description=\"The phone number of the user\")\n",
    "\n",
    "    @field_validator(\"phone_number\", mode=\"before\")\n",
    "    def preprocess_phone(cls, phone: str) -> str:\n",
    "        \"\"\"Ensures phone number includes country code if missing.\"\"\"\n",
    "        if phone.isdigit() and len(phone) == 10:\n",
    "            phone = \"+91\" + phone  # Append country code\n",
    "        return phone"
   ]
  },
  {
   "cell_type": "code",
   "execution_count": 64,
   "id": "343c69fd",
   "metadata": {},
   "outputs": [],
   "source": [
    "class UserData1(TypedDict):\n",
    "    \"\"\"Necessary user data for the agent.\"\"\"\n",
    "    name: str\n",
    "    age: int\n",
    "    gender: str\n",
    "    address: str\n",
    "    email: str\n",
    "    phone_number: int"
   ]
  },
  {
   "cell_type": "code",
   "execution_count": 65,
   "id": "3452e74e",
   "metadata": {},
   "outputs": [],
   "source": [
    "validator_prompt = ChatPromptTemplate.from_messages(\n",
    "    [\n",
    "        SystemMessage(\n",
    "            content=\"You are a data validation agent. Your task is to validate user data based on the provided schema. you will receive the user input , the user input will be in the string format, and you need to extract the relevant fields from it.and validate them against the schema. If the data is valid, return a message indicating that the data is valid. If the data is invalid, return a message indicating which fields are invalid and why.also return the field names which are not available,\"      \n",
    "        ),\n",
    "        AIMessage(\n",
    "            content=\"Please provide a response in the format: {'valid': True/False, 'message': 'Your message here'}\"\n",
    "        ),\n",
    "        MessagesPlaceholder(variable_name=\"user_input\"),\n",
    "        (\"system\",\"from the given user input, extract the following fields: name, age, gender, location, email, phone number and return in the dictionary format, if any field is not available in the user input, return it as None. The user input will be in the string format, and you need to extract the relevant fields from it. If the data is valid, return a message indicating that the data is valid. If the data is invalid, return a message indicating which fields are invalid and why.also return the field names which are not available. The output should be in the following format: \\n\"\n",
    "        \" 'name': 'name of patient', 'age': 'age of patient',  'gender': 'gender of patient', 'location': 'location of patient', 'email': 'email of patient', 'phone number': 'phone number of patient'\")     \n",
    "\n",
    "    ]\n",
    ")\n"
   ]
  },
  {
   "cell_type": "code",
   "execution_count": 66,
   "id": "ddfc7a77",
   "metadata": {},
   "outputs": [],
   "source": [
    "data_collection_prompt = ChatPromptTemplate.from_messages(\n",
    "    [\n",
    "        SystemMessage(\n",
    "            content=\"You are a data collection agent. Your task is to collect user data based on the provided schema. You will receive the user input, and you need check weather all the fields are present in the user input or not. If any field is not present, you need to ask the user for that field. If all the fields are present, you need to return True.else return False and the field names which are not available. The user input will be in the string format,\"\n",
    "        ),\n",
    "        MessagesPlaceholder(variable_name=\"user_input\"),\n",
    "        (\"system\",\"from the given user input, extract the following fields: name, age, gender, location, email, phone number if any field is not available in the user input, return it as None.\"\n",
    "        \"The fields are:name,age,gender,address,email,phonenumber\")\n",
    "\n",
    "    ]\n",
    ")\n"
   ]
  },
  {
   "cell_type": "code",
   "execution_count": 67,
   "id": "b0a24085",
   "metadata": {},
   "outputs": [],
   "source": [
    "data_chain = data_collection_prompt | llm"
   ]
  },
  {
   "cell_type": "code",
   "execution_count": 68,
   "id": "11f42048",
   "metadata": {},
   "outputs": [],
   "source": [
    "chain = validator_prompt | llm.with_structured_output(UserData)"
   ]
  },
  {
   "cell_type": "code",
   "execution_count": 69,
   "id": "422ff0cb",
   "metadata": {},
   "outputs": [],
   "source": [
    "res = chain.invoke({\"user_input\": [\"hi my name is kiran,i am 20 years old,i live in mumbai,  and my phone number is 1234567890\"]})"
   ]
  },
  {
   "cell_type": "code",
   "execution_count": 70,
   "id": "3a5a905d",
   "metadata": {},
   "outputs": [],
   "source": [
    "res1 = data_chain.invoke({\"user_input\": [\"hi my name is kiran,i am 20 years old,i live in mumbai,  and my phone number is 1234567890\"]})"
   ]
  },
  {
   "cell_type": "code",
   "execution_count": 71,
   "id": "7ebffe5c",
   "metadata": {},
   "outputs": [
    {
     "name": "stdout",
     "output_type": "stream",
     "text": [
      "name='kiran' age=20 gender='male' address='mumbai' email='example@example.com' phone_number='tel:+91-1234-567-890'\n"
     ]
    }
   ],
   "source": [
    "print(res)"
   ]
  },
  {
   "cell_type": "code",
   "execution_count": 72,
   "id": "b49d4adb",
   "metadata": {},
   "outputs": [
    {
     "name": "stdout",
     "output_type": "stream",
     "text": [
      "AIMessage(content='Okay, I need a bit more information to complete your profile. I have the following:\\n\\n*   **name:** kiran\\n*   **age:** 20\\n*   **address:** mumbai\\n*   **phonenumber:** 1234567890\\n\\nI am missing:\\n\\n*   **gender**\\n*   **email**\\n\\nCould you please provide me with your gender and email?', additional_kwargs={}, response_metadata={'prompt_feedback': {'block_reason': 0, 'safety_ratings': []}, 'finish_reason': 'STOP', 'model_name': 'gemini-2.0-flash-001', 'safety_ratings': []}, id='run--9ee34dce-c70d-44f4-aa64-35906f538781-0', usage_metadata={'input_tokens': 188, 'output_tokens': 90, 'total_tokens': 278, 'input_token_details': {'cache_read': 0}})\n"
     ]
    }
   ],
   "source": [
    "from pprint import pprint\n",
    "\n",
    "pprint(res1)"
   ]
  },
  {
   "cell_type": "markdown",
   "id": "2e2a6811",
   "metadata": {},
   "source": [
    "#### sql database for scheduling"
   ]
  },
  {
   "cell_type": "code",
   "execution_count": 73,
   "id": "f57d1aa8",
   "metadata": {},
   "outputs": [],
   "source": [
    "import sqlite3\n",
    "slot_conn = sqlite3.connect(\"slot_status.db\")\n",
    "slot_cursor = slot_conn.cursor()"
   ]
  },
  {
   "cell_type": "code",
   "execution_count": null,
   "id": "69a74c87",
   "metadata": {},
   "outputs": [],
   "source": []
  },
  {
   "cell_type": "code",
   "execution_count": 74,
   "id": "6b6b09ee",
   "metadata": {},
   "outputs": [],
   "source": [
    "import sqlite3\n",
    "from datetime import datetime, timedelta\n",
    "\n",
    "# Connect to SQLite database\n",
    "slot_conn = sqlite3.connect(\"slot_status.db\")\n",
    "slot_cursor = slot_conn.cursor()\n",
    "\n",
    "# Drop old table\n",
    "slot_cursor.execute('DROP TABLE IF EXISTS slots')\n",
    "\n",
    "# Create new table with `date` column\n",
    "slot_cursor.execute('''\n",
    "    CREATE TABLE IF NOT EXISTS slots (\n",
    "        id INTEGER PRIMARY KEY AUTOINCREMENT,\n",
    "        slot TEXT NOT NULL,\n",
    "        status INTEGER NOT NULL,\n",
    "        date TEXT NOT NULL\n",
    "    )\n",
    "''')\n",
    "slot_conn.commit()\n",
    "\n",
    "\n",
    "\n"
   ]
  },
  {
   "cell_type": "code",
   "execution_count": 75,
   "id": "1aa64b17",
   "metadata": {},
   "outputs": [],
   "source": [
    "@tool\n",
    "def view_available_slots() -> List:\n",
    "    \"\"\"Lists todays available slots\"\"\"\n",
    "    available_slots = []\n",
    "    today = datetime.today().date().isoformat()\n",
    "    slot_cursor.execute('SELECT id, slot FROM slots WHERE status = 0 AND date = ?', (today,))\n",
    "    slots = slot_cursor.fetchall()\n",
    "    if not slots:\n",
    "        print(\"❌ No available slots for today.\")\n",
    "        return available_slots\n",
    "    else:\n",
    "        print(f\"📅 Available slots for {today}:\")\n",
    "        for slot in slots:\n",
    "            print(f\"ID: {slot[0]} | Time: {slot[1]}\")\n",
    "            available_slots.append(slot)\n",
    "        return available_slots\n",
    "\n"
   ]
  },
  {
   "cell_type": "code",
   "execution_count": 76,
   "id": "b02bc24c",
   "metadata": {},
   "outputs": [],
   "source": [
    "@tool\n",
    "def book_slot(slot_id):\n",
    "    \"\"\"Books available slot on today using slot_id \"\"\"\n",
    "    today = datetime.today().date().isoformat()\n",
    "    # Check if the slot is free\n",
    "    slot_cursor.execute('SELECT status FROM slots WHERE id = ? AND date = ?', (slot_id, today))\n",
    "    row = slot_cursor.fetchone()\n",
    "    if row is None:\n",
    "        print(f\"❌ Slot ID {slot_id} is invalid for today.\")\n",
    "    elif row[0] == 1:\n",
    "        print(f\"⚠️ Slot ID {slot_id} is already booked.\")\n",
    "    else:\n",
    "        slot_cursor.execute('UPDATE slots SET status = 1 WHERE id = ? AND date = ?', (slot_id, today))\n",
    "        slot_conn.commit()\n",
    "        print(f\"✅ Slot ID {slot_id} booked successfully.\")"
   ]
  },
  {
   "cell_type": "code",
   "execution_count": 77,
   "id": "a640058e",
   "metadata": {},
   "outputs": [],
   "source": [
    "def create_slot(slot, status, date):\n",
    "    slot_cursor.execute('INSERT INTO slots (slot, status, date) VALUES (?, ?, ?)', (slot, status, date))\n",
    "    slot_conn.commit()\n",
    "    print(f\"✅ Slot '{slot}' created for {date} with status {status}\")"
   ]
  },
  {
   "cell_type": "code",
   "execution_count": 112,
   "metadata": {},
   "outputs": [],
   "source": [
    "def generate_daily_slots():\n",
    "    today = datetime.today().date().isoformat()\n",
    "\n",
    "    # Check if today's slots are already created\n",
    "    slot_cursor.execute('SELECT COUNT(*) FROM slots WHERE date = ?', (today,))\n",
    "    if slot_cursor.fetchone()[0] > 0:\n",
    "        print(f\"🟢 Slots for {today} already exist.\")\n",
    "        return\n",
    "\n",
    "    # Generate 20-minute slots from 9:00 AM to 5:00 PM\n",
    "    print(f\"🛠️ Generating slots for {today}...\")\n",
    "    start_time = datetime.strptime(\"09:00\", \"%H:%M\")\n",
    "    end_time = datetime.strptime(\"17:00\", \"%H:%M\")\n",
    "    duration = timedelta(minutes=20)\n",
    "\n",
    "    while start_time < end_time:\n",
    "        slot_label = f\"{start_time.strftime('%I:%M %p')} - {(start_time + duration).strftime('%I:%M %p')}\"\n",
    "        create_slot(slot_label, 0, today)\n",
    "        start_time += duration\n",
    "\n",
    "    print(\"✅ Daily slot generation complete.\")"
   ]
  },
  {
   "cell_type": "code",
   "execution_count": 116,
   "id": "6f51c0be",
   "metadata": {},
   "outputs": [
    {
     "name": "stdout",
     "output_type": "stream",
     "text": [
      "🟢 Slots for 2025-06-12 already exist.\n",
      "📅 Available slots for 2025-06-12:\n",
      "ID: 25 | Time: 09:00 AM - 09:20 AM\n",
      "ID: 26 | Time: 09:20 AM - 09:40 AM\n",
      "ID: 27 | Time: 09:40 AM - 10:00 AM\n",
      "ID: 28 | Time: 10:00 AM - 10:20 AM\n",
      "ID: 29 | Time: 10:20 AM - 10:40 AM\n",
      "ID: 30 | Time: 10:40 AM - 11:00 AM\n",
      "ID: 31 | Time: 11:00 AM - 11:20 AM\n",
      "ID: 32 | Time: 11:20 AM - 11:40 AM\n",
      "ID: 33 | Time: 11:40 AM - 12:00 PM\n",
      "ID: 34 | Time: 12:00 PM - 12:20 PM\n",
      "ID: 35 | Time: 12:20 PM - 12:40 PM\n",
      "ID: 36 | Time: 12:40 PM - 01:00 PM\n",
      "ID: 37 | Time: 01:00 PM - 01:20 PM\n",
      "ID: 38 | Time: 01:20 PM - 01:40 PM\n",
      "ID: 39 | Time: 01:40 PM - 02:00 PM\n",
      "ID: 40 | Time: 02:00 PM - 02:20 PM\n",
      "ID: 41 | Time: 02:20 PM - 02:40 PM\n",
      "ID: 42 | Time: 02:40 PM - 03:00 PM\n",
      "ID: 43 | Time: 03:00 PM - 03:20 PM\n",
      "ID: 44 | Time: 03:20 PM - 03:40 PM\n",
      "ID: 45 | Time: 03:40 PM - 04:00 PM\n",
      "ID: 46 | Time: 04:00 PM - 04:20 PM\n",
      "ID: 47 | Time: 04:20 PM - 04:40 PM\n",
      "ID: 48 | Time: 04:40 PM - 05:00 PM\n",
      "✅ Slot ID 41 booked successfully.\n"
     ]
    }
   ],
   "source": [
    "if __name__ == \"__main__\":\n",
    "    # Generate today's slots (run once per day)\n",
    "    generate_daily_slots()\n",
    "\n",
    "    # Show free slots\n",
    "    view_available_slots({})\n",
    "\n",
    "    # Book a slot (user input example)\n",
    "    try:\n",
    "        slot_id = input(\"Enter the slot ID to book: \")\n",
    "        book_slot(slot_id)\n",
    "    except ValueError:\n",
    "        print(\"❌ Invalid input. Please enter a number.\")\n"
   ]
  },
  {
   "cell_type": "markdown",
   "id": "ae188f69",
   "metadata": {},
   "source": [
    "#### state schema"
   ]
  },
  {
   "cell_type": "code",
   "execution_count": 80,
   "id": "722faa37",
   "metadata": {},
   "outputs": [],
   "source": [
    "from ast import Dict\n",
    "from typing import Annotated\n",
    "\n",
    "\n",
    "class AgentState(TypedDict):\n",
    "    messages: Annotated[List[BaseMessage],add_messages]\n",
    "    data: Dict  "
   ]
  },
  {
   "cell_type": "markdown",
   "id": "c07475cc",
   "metadata": {},
   "source": [
    "#### scheduling agent tools"
   ]
  },
  {
   "cell_type": "code",
   "execution_count": null,
   "id": "de612b00",
   "metadata": {},
   "outputs": [],
   "source": []
  },
  {
   "cell_type": "code",
   "execution_count": 81,
   "id": "a8fc6ca8",
   "metadata": {},
   "outputs": [
    {
     "name": "stdout",
     "output_type": "stream",
     "text": [
      "<class 'langchain_core.tools.structured.StructuredTool'>\n"
     ]
    }
   ],
   "source": [
    "print(type(view_available_slots))"
   ]
  },
  {
   "cell_type": "code",
   "execution_count": 82,
   "id": "32d35e3f",
   "metadata": {},
   "outputs": [],
   "source": [
    "from dis import show_code\n",
    "\n",
    "\n",
    "list_available_slots = ToolNode([view_available_slots])\n",
    "book_available_slot = ToolNode([book_slot])"
   ]
  },
  {
   "cell_type": "code",
   "execution_count": 83,
   "id": "4496e7cb",
   "metadata": {},
   "outputs": [],
   "source": [
    "scheduler_tools= [ list_available_slots,book_available_slot]"
   ]
  },
  {
   "cell_type": "code",
   "execution_count": null,
   "id": "e05b7e60",
   "metadata": {},
   "outputs": [],
   "source": []
  },
  {
   "cell_type": "markdown",
   "id": "93fc70c4",
   "metadata": {},
   "source": [
    "#### scheduing Agent"
   ]
  },
  {
   "cell_type": "code",
   "execution_count": 84,
   "id": "646f1aa9",
   "metadata": {},
   "outputs": [],
   "source": [
    "from urllib import response\n",
    "\n",
    "\n",
    "def scheduler(state:AgentState)-> AgentState:\n",
    "    \n",
    "    prompt = ChatPromptTemplate.from_messages(\n",
    "        [\n",
    "            SystemMessage(content = \"You are appointment scheduling agent for the patient.you shedule the appointment for medical consultation of patient,you schedule appointment from available ,\"),\n",
    "            MessagesPlaceholder(variable_name=\"user_input\"),\n",
    "        ]\n",
    "    )\n",
    "    chain = prompt  | llm\n",
    "    response =  chain.invoke({\"user_input\": state['messages']})\n",
    "\n",
    "    return {\"messages\": state['messages'] + [AIMessage(content=response.content)], \"data\": state.get(\"data\", {})}"
   ]
  },
  {
   "cell_type": "code",
   "execution_count": 96,
   "id": "e4f047e4",
   "metadata": {},
   "outputs": [],
   "source": [
    "graph1 = StateGraph(AgentState)\n",
    "\n",
    "graph1.add_node(\"scheduler\", scheduler)\n",
    "graph1.add_node(\"list_available_slots\", list_available_slots)\n",
    "graph1.add_node(\"book_slot\", book_available_slot)\n",
    "\n",
    "graph1.add_edge(\"scheduler\", \"list_available_slots\")\n",
    "graph1.add_edge( \"list_available_slots\",\"scheduler\")\n",
    "graph1.add_edge(\"scheduler\",\"book_slot\")\n",
    "graph1.add_edge(\"book_slot\",\"scheduler\")\n",
    "graph1.add_edge(\"scheduler\",END)\n",
    "\n",
    "\n",
    "graph1.set_entry_point(\"scheduler\")\n",
    "graph1.set_finish_point(\"scheduler\")\n",
    "\n",
    "\n",
    "app = graph1.compile()"
   ]
  },
  {
   "cell_type": "code",
   "execution_count": 97,
   "id": "cff9aa26",
   "metadata": {},
   "outputs": [],
   "source": [
    "from IPython.display import Image"
   ]
  },
  {
   "cell_type": "code",
   "execution_count": 100,
   "id": "345752ac",
   "metadata": {},
   "outputs": [
    {
     "name": "stdout",
     "output_type": "stream",
     "text": [
      "Collecting grandalf\n",
      "  Downloading grandalf-0.8-py3-none-any.whl (41 kB)\n",
      "\u001b[2K     \u001b[90m━━━━━━━━━━━━━━━━━━━━━━━━━━━━━━━━━━━━━━━━\u001b[0m \u001b[32m41.8/41.8 kB\u001b[0m \u001b[31m1.1 MB/s\u001b[0m eta \u001b[36m0:00:00\u001b[0m\n",
      "\u001b[?25hCollecting pyparsing\n",
      "  Using cached pyparsing-3.2.3-py3-none-any.whl (111 kB)\n",
      "Installing collected packages: pyparsing, grandalf\n",
      "Successfully installed grandalf-0.8 pyparsing-3.2.3\n",
      "\n",
      "\u001b[1m[\u001b[0m\u001b[34;49mnotice\u001b[0m\u001b[1;39;49m]\u001b[0m\u001b[39;49m A new release of pip is available: \u001b[0m\u001b[31;49m23.0.1\u001b[0m\u001b[39;49m -> \u001b[0m\u001b[32;49m25.1.1\u001b[0m\n",
      "\u001b[1m[\u001b[0m\u001b[34;49mnotice\u001b[0m\u001b[1;39;49m]\u001b[0m\u001b[39;49m To update, run: \u001b[0m\u001b[32;49mpip install --upgrade pip\u001b[0m\n",
      "Note: you may need to restart the kernel to use updated packages.\n"
     ]
    }
   ],
   "source": [
    "%pip install grandalf"
   ]
  },
  {
   "cell_type": "code",
   "execution_count": 101,
   "id": "6ad1a452",
   "metadata": {},
   "outputs": [
    {
     "name": "stdout",
     "output_type": "stream",
     "text": [
      "                +-----------+                       \n",
      "                | __start__ |                       \n",
      "                +-----------+                       \n",
      "                      *                             \n",
      "                      *                             \n",
      "                      *                             \n",
      "                +-----------+                       \n",
      "                | scheduler |                       \n",
      "                +-----------+                       \n",
      "              **             ***                    \n",
      "           ***                  **                  \n",
      "         **                       **                \n",
      "+-----------+             +----------------------+  \n",
      "| book_slot |             | list_available_slots |  \n",
      "+-----------+             +----------------------+  \n"
     ]
    }
   ],
   "source": [
    "print(app.get_graph().draw_ascii())"
   ]
  },
  {
   "cell_type": "code",
   "execution_count": 98,
   "id": "5b2e0abf",
   "metadata": {},
   "outputs": [
    {
     "data": {
      "image/png": "[encoded data removed]",
      "text/plain": [
       "<IPython.core.display.Image object>"
      ]
     },
     "metadata": {},
     "output_type": "display_data"
    }
   ],
   "source": [
    "display(Image(app.get_graph().draw_mermaid_png()))"
   ]
  },
  {
   "cell_type": "code",
   "execution_count": 105,
   "id": "f60aa959",
   "metadata": {},
   "outputs": [],
   "source": [
    "x = app.stream({\"user_input\":[HumanMessage(content=\"I want to book an appointment for today\")]})\n",
    "\n"
   ]
  },
  {
   "cell_type": "code",
   "execution_count": 110,
   "id": "d16c6136",
   "metadata": {},
   "outputs": [],
   "source": [
    "res = list(x)"
   ]
  },
  {
   "cell_type": "code",
   "execution_count": 111,
   "id": "27416611",
   "metadata": {},
   "outputs": [
    {
     "name": "stdout",
     "output_type": "stream",
     "text": [
      "[]\n"
     ]
    }
   ],
   "source": [
    "print(res)"
   ]
  },
  {
   "cell_type": "code",
   "execution_count": 109,
   "id": "dd68b13d",
   "metadata": {},
   "outputs": [],
   "source": [
    "for chunk in x :\n",
    "     print(x)"
   ]
  },
  {
   "cell_type": "markdown",
   "id": "59241d10",
   "metadata": {},
   "source": [
    "#### case generation agent"
   ]
  },
  {
   "cell_type": "code",
   "execution_count": null,
   "id": "b1433356",
   "metadata": {},
   "outputs": [],
   "source": []
  },
  {
   "cell_type": "markdown",
   "id": "7fffc260",
   "metadata": {},
   "source": [
    "#### medicin inventory agent"
   ]
  },
  {
   "cell_type": "code",
   "execution_count": null,
   "id": "c1cba548",
   "metadata": {},
   "outputs": [],
   "source": []
  },
  {
   "cell_type": "code",
   "execution_count": null,
   "id": "e1f36ea2",
   "metadata": {},
   "outputs": [],
   "source": []
  },
  {
   "cell_type": "code",
   "execution_count": null,
   "id": "95798cbf",
   "metadata": {},
   "outputs": [],
   "source": []
  },
  {
   "cell_type": "code",
   "execution_count": null,
   "id": "5158c00d",
   "metadata": {},
   "outputs": [],
   "source": []
  },
  {
   "cell_type": "code",
   "execution_count": null,
   "id": "6d016d97",
   "metadata": {},
   "outputs": [],
   "source": []
  },
  {
   "cell_type": "code",
   "execution_count": null,
   "id": "91fc6ce5",
   "metadata": {},
   "outputs": [],
   "source": []
  },
  {
   "cell_type": "code",
   "execution_count": null,
   "id": "3942803d",
   "metadata": {},
   "outputs": [],
   "source": []
  },
  {
   "cell_type": "code",
   "execution_count": null,
   "id": "28d1c05d",
   "metadata": {},
   "outputs": [],
   "source": []
  },
  {
   "cell_type": "code",
   "execution_count": null,
   "id": "1fe04ac8",
   "metadata": {},
   "outputs": [],
   "source": []
  },
  {
   "cell_type": "code",
   "execution_count": null,
   "id": "36377fa9",
   "metadata": {},
   "outputs": [],
   "source": []
  }
 ],
 "metadata": {
  "kernelspec": {
   "display_name": "pheonix",
   "language": "python",
   "name": "python3"
  },
  "language_info": {
   "codemirror_mode": {
    "name": "ipython",
    "version": 3
   },
   "file_extension": ".py",
   "mimetype": "text/x-python",
   "name": "python",
   "nbconvert_exporter": "python",
   "pygments_lexer": "ipython3",
   "version": "3.10.11"
  }
 },
 "nbformat": 4,
 "nbformat_minor": 5
}
