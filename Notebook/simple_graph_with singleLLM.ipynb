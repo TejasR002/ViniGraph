{
 "cells": [
  {
   "cell_type": "code",
   "execution_count": null,
   "id": "7ee40e95",
   "metadata": {},
   "outputs": [],
   "source": [
    "from typing_extensions import TypedDict, List, Optional, Union\n",
    "from langgraph.prebuilt import create_react_agent\n",
    "from typing import Annotated\n",
    "from langchain_core.messages import AnyMessage\n",
    "from langgraph.graph.message import add_messages"
   ]
  },
  {
   "cell_type": "code",
   "execution_count": null,
   "id": "0d5749fe",
   "metadata": {},
   "outputs": [],
   "source": [
    "class State(TypedDict):\n",
    "    messages: Annotated[List[AnyMessage], add_messages]"
   ]
  },
  {
   "cell_type": "code",
   "execution_count": 1,
   "id": "71b07428",
   "metadata": {},
   "outputs": [],
   "source": [
    "from langchain_google_genai import ChatGoogleGenerativeAI "
   ]
  },
  {
   "cell_type": "code",
   "execution_count": 2,
   "id": "0d39c872",
   "metadata": {},
   "outputs": [],
   "source": [
    "from dotenv import load_dotenv\n",
    "load_dotenv()\n",
    "import os\n",
    "key = os.getenv(\"GOOGLE_API_KEY\")"
   ]
  },
  {
   "cell_type": "code",
   "execution_count": 3,
   "id": "f003e9e0",
   "metadata": {},
   "outputs": [],
   "source": [
    "client = ChatGoogleGenerativeAI(\n",
    "    model=\"gemini-2.0-flash\",google_api_key=key)"
   ]
  },
  {
   "cell_type": "code",
   "execution_count": 4,
   "id": "5157e678",
   "metadata": {},
   "outputs": [],
   "source": [
    "from IPython.display import Image, display\n",
    "from langgraph.graph import StateGraph,START,END\n",
    "from langgraph.prebuilt import ToolNode\n",
    "from langgraph.prebuilt import tools_condition"
   ]
  },
  {
   "cell_type": "code",
   "execution_count": null,
   "id": "7eaa13ac",
   "metadata": {},
   "outputs": [],
   "source": []
  }
 ],
 "metadata": {
  "kernelspec": {
   "display_name": "pheonix",
   "language": "python",
   "name": "python3"
  },
  "language_info": {
   "codemirror_mode": {
    "name": "ipython",
    "version": 3
   },
   "file_extension": ".py",
   "mimetype": "text/x-python",
   "name": "python",
   "nbconvert_exporter": "python",
   "pygments_lexer": "ipython3",
   "version": "3.8.10"
  }
 },
 "nbformat": 4,
 "nbformat_minor": 5
}
