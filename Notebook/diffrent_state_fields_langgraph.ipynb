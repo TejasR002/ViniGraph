{
 "cells": [
  {
   "cell_type": "code",
   "execution_count": 16,
   "id": "36c9156b",
   "metadata": {},
   "outputs": [
    {
     "data": {
      "text/plain": [
       "True"
      ]
     },
     "execution_count": 16,
     "metadata": {},
     "output_type": "execute_result"
    }
   ],
   "source": [
    "from typing import TypedDict, List, Optional, Union\n",
    "from langgraph.prebuilt import create_react_agent\n",
    "from pydantic import BaseModel, Field,EmailStr,field_validator\n",
    "from langchain.tools import tool\n",
    "from langchain_core.prompts import ChatPromptTemplate\n",
    "from langchain.prompts import MessagesPlaceholder\n",
    "from langchain_core.messages import HumanMessage, AIMessage, SystemMessage,BaseMessage\n",
    "from langchain_google_genai import ChatGoogleGenerativeAI\n",
    "from pydantic_extra_types.phone_numbers import PhoneNumber\n",
    "from langgraph.graph import StateGraph,add_messages,START,END\n",
    "from langchain_core.agents import AgentAction,AgentFinish\n",
    "from dotenv import load_dotenv\n",
    "load_dotenv()"
   ]
  },
  {
   "cell_type": "code",
   "execution_count": 17,
   "id": "59fc98c4",
   "metadata": {},
   "outputs": [],
   "source": [
    "from pydantic import BaseModel, Field, EmailStr\n",
    "from typing import List, Optional, Dict, Any\n",
    "from langchain_core.messages import BaseMessage\n",
    "import sqlite3\n",
    "\n",
    "class PatientInfo(BaseModel):\n",
    "    name: Optional[str] = None\n",
    "    age: Optional[int] = None\n",
    "    gender: Optional[str] = None\n",
    "    email: Optional[EmailStr] = None\n",
    "    phone_number: Optional[str] = None\n",
    "    address: Optional[str] = None\n",
    "\n",
    "class AgentCall(BaseModel):\n",
    "    tool_name: str\n",
    "    input: Dict[str, Any]\n",
    "    output: Optional[Any] = None\n",
    "    status: str = \"pending\"\n",
    "\n",
    "class AgentState(BaseModel):\n",
    "    messages: List[BaseMessage] = Field(default_factory=list)\n",
    "    agent_calls: List[AgentCall] = Field(default_factory=list)\n",
    "    patient_info: PatientInfo = Field(default_factory=PatientInfo)\n",
    "    current_agent: Optional[str] = \"scheduler\"\n"
   ]
  },
  {
   "cell_type": "code",
   "execution_count": null,
   "id": "4f0affe2",
   "metadata": {},
   "outputs": [],
   "source": [
    "from langchain.tools import tool\n",
    "from datetime import datetime\n",
    "from typing import List\n",
    "\n",
    "\n",
    "\n",
    "@tool\n",
    "def book_slot(slot_id: int):\n",
    "    \"\"\"Books available slot on today using slot_id\"\"\"\n",
    "    # These should be already defined in your file:\n",
    "    slot_conn = sqlite3.connect('slot_status.db')\n",
    "    slot_cursor = slot_conn.cursor()\n",
    "    today = datetime.today().date().isoformat()\n",
    "    slot_cursor.execute('SELECT status FROM slots WHERE id = ? AND date = ?', (slot_id, today))\n",
    "    row = slot_cursor.fetchone()\n",
    "    if row is None:\n",
    "        return f\"❌ Slot ID {slot_id} is invalid for today.\"\n",
    "    elif row[0] == 1:\n",
    "        return f\"⚠️ Slot ID {slot_id} is already booked.\"\n",
    "    else:\n",
    "        slot_cursor.execute('UPDATE slots SET status = 1 WHERE id = ? AND date = ?', (slot_id, today))\n",
    "        slot_conn.commit()\n",
    "        return f\"✅ Slot ID {slot_id} booked successfully.\"\n",
    "\n",
    "@tool\n",
    "def view_available_slots() -> List:\n",
    "    \"\"\"Lists today's available slots\"\"\"\n",
    "    # These should be already defined in your file:\n",
    "    slot_conn = sqlite3.connect('slot_status.db')\n",
    "    slot_cursor = slot_conn.cursor()\n",
    "    today = datetime.today().date().isoformat()\n",
    "    slot_cursor.execute('SELECT id, slot FROM slots WHERE status = 0 AND date = ?', (today,))\n",
    "    slots = slot_cursor.fetchall()\n",
    "    if not slots:\n",
    "        return [\"❌ No available slots for today.\"]\n",
    "    return [{\"id\": slot[0], \"time\": slot[1]} for slot in slots]\n"
   ]
  },
  {
   "cell_type": "code",
   "execution_count": 19,
   "id": "3638a86c",
   "metadata": {},
   "outputs": [
    {
     "data": {
      "text/plain": [
       "[{'id': 25, 'time': '09:00 AM - 09:20 AM'},\n",
       " {'id': 26, 'time': '09:20 AM - 09:40 AM'},\n",
       " {'id': 27, 'time': '09:40 AM - 10:00 AM'},\n",
       " {'id': 28, 'time': '10:00 AM - 10:20 AM'},\n",
       " {'id': 29, 'time': '10:20 AM - 10:40 AM'},\n",
       " {'id': 30, 'time': '10:40 AM - 11:00 AM'},\n",
       " {'id': 31, 'time': '11:00 AM - 11:20 AM'},\n",
       " {'id': 32, 'time': '11:20 AM - 11:40 AM'},\n",
       " {'id': 33, 'time': '11:40 AM - 12:00 PM'},\n",
       " {'id': 34, 'time': '12:00 PM - 12:20 PM'},\n",
       " {'id': 35, 'time': '12:20 PM - 12:40 PM'},\n",
       " {'id': 36, 'time': '12:40 PM - 01:00 PM'},\n",
       " {'id': 37, 'time': '01:00 PM - 01:20 PM'},\n",
       " {'id': 38, 'time': '01:20 PM - 01:40 PM'},\n",
       " {'id': 39, 'time': '01:40 PM - 02:00 PM'},\n",
       " {'id': 40, 'time': '02:00 PM - 02:20 PM'},\n",
       " {'id': 42, 'time': '02:40 PM - 03:00 PM'},\n",
       " {'id': 44, 'time': '03:20 PM - 03:40 PM'},\n",
       " {'id': 45, 'time': '03:40 PM - 04:00 PM'},\n",
       " {'id': 46, 'time': '04:00 PM - 04:20 PM'},\n",
       " {'id': 47, 'time': '04:20 PM - 04:40 PM'},\n",
       " {'id': 48, 'time': '04:40 PM - 05:00 PM'}]"
      ]
     },
     "execution_count": 19,
     "metadata": {},
     "output_type": "execute_result"
    }
   ],
   "source": [
    "view_available_slots(\"entry\")\n"
   ]
  },
  {
   "cell_type": "code",
   "execution_count": null,
   "id": "e9568b8d",
   "metadata": {},
   "outputs": [],
   "source": []
  },
  {
   "cell_type": "code",
   "execution_count": 20,
   "id": "aded3aa4",
   "metadata": {},
   "outputs": [],
   "source": [
    "tools = [view_available_slots,book_slot]"
   ]
  },
  {
   "cell_type": "code",
   "execution_count": 21,
   "id": "097e93dd",
   "metadata": {},
   "outputs": [],
   "source": [
    "llm = ChatGoogleGenerativeAI(model = \"gemini-2.0-flash-001\", temperature=0)"
   ]
  },
  {
   "cell_type": "code",
   "execution_count": 22,
   "id": "d7fc4172",
   "metadata": {},
   "outputs": [],
   "source": [
    "from langgraph.prebuilt import create_react_agent"
   ]
  },
  {
   "cell_type": "code",
   "execution_count": 23,
   "id": "213753ec",
   "metadata": {},
   "outputs": [],
   "source": [
    "system_prompt = \"\"\"You are an intelligent appointment scheduling assistant.\n",
    "\n",
    "You have access to two tools:\n",
    "1. `view_available_slots()` → returns a list of today's available time slots.\n",
    "2. `book_slot(slot_id: int)` → books a slot for today using its ID. It may return:\n",
    "   - '✅ Slot ID slot_id booked successfully.'\n",
    "   - '❌ Slot ID slot_id is invalid for today.'\n",
    "   - '⚠️ Slot ID slot_id is already booked.'\n",
    "\n",
    "Your workflow:\n",
    "- Always start by calling `view_available_slots()` to check today’s free slots.\n",
    "- If no slots are available, inform the user politely.\n",
    "- If exactly one slot is available, automatically call `book_slot(slot_id)` to book it.\n",
    "- If multiple slots are available:\n",
    "   - List them clearly with their `id` and `time`.\n",
    "   - Ask the user to choose a slot ID.\n",
    "- When the user provides a slot ID, call `book_slot(slot_id)` using the integer.\n",
    "\n",
    "Rules:\n",
    "- Only use slot IDs from `view_available_slots()` — never invent or guess.\n",
    "- `slot_id` must be an integer when calling `book_slot(slot_id: int)`.\n",
    "- If the slot is already booked or invalid:\n",
    "   - Notify the user.\n",
    "   - Ask for a valid slot ID from the list.\n",
    "\n",
    "Interaction guidelines:\n",
    "- Clearly present all available slots with IDs and times.\n",
    "- Confirm when a booking is successful.\n",
    "- Handle errors gracefully and helpfully.\n",
    "\n",
    "Always ensure a smooth and helpful experience for the user.\n",
    "\"\"\""
   ]
  },
  {
   "cell_type": "code",
   "execution_count": 24,
   "id": "08067621",
   "metadata": {},
   "outputs": [],
   "source": [
    "agent  = create_react_agent(model = llm , tools= tools , name = \"Schedulare agent\" , prompt=system_prompt , debug=True)"
   ]
  },
  {
   "cell_type": "code",
   "execution_count": 30,
   "id": "322cedf9",
   "metadata": {},
   "outputs": [
    {
     "name": "stdout",
     "output_type": "stream",
     "text": [
      "\u001b[36;1m\u001b[1;3m[-1:checkpoint]\u001b[0m \u001b[1mState at the end of step -1:\n",
      "\u001b[0m{'messages': []}\n",
      "\u001b[36;1m\u001b[1;3m[0:tasks]\u001b[0m \u001b[1mStarting 1 task for step 0:\n",
      "\u001b[0m- \u001b[32;1m\u001b[1;3m__start__\u001b[0m -> {'messages': [{'content': 'i would like to book the id 25 slot',\n",
      "               'role': 'user'}]}\n",
      "\u001b[36;1m\u001b[1;3m[0:writes]\u001b[0m \u001b[1mFinished step 0 with writes to 1 channel:\n",
      "\u001b[0m- \u001b[33;1m\u001b[1;3mmessages\u001b[0m -> [{'content': 'i would like to book the id 25 slot', 'role': 'user'}]\n",
      "\u001b[36;1m\u001b[1;3m[0:checkpoint]\u001b[0m \u001b[1mState at the end of step 0:\n",
      "\u001b[0m{'messages': [HumanMessage(content='i would like to book the id 25 slot', additional_kwargs={}, response_metadata={}, id='8edbc484-cedc-47b6-930e-39466915ce47')]}\n",
      "\u001b[36;1m\u001b[1;3m[1:tasks]\u001b[0m \u001b[1mStarting 1 task for step 1:\n",
      "\u001b[0m- \u001b[32;1m\u001b[1;3magent\u001b[0m -> {'is_last_step': False,\n",
      " 'messages': [HumanMessage(content='i would like to book the id 25 slot', additional_kwargs={}, response_metadata={}, id='8edbc484-cedc-47b6-930e-39466915ce47')],\n",
      " 'remaining_steps': 24}\n",
      "\u001b[36;1m\u001b[1;3m[1:writes]\u001b[0m \u001b[1mFinished step 1 with writes to 1 channel:\n",
      "\u001b[0m- \u001b[33;1m\u001b[1;3mmessages\u001b[0m -> [AIMessage(content='', additional_kwargs={'function_call': {'name': 'book_slot', 'arguments': '{\"slot_id\": 25.0}'}}, response_metadata={'prompt_feedback': {'block_reason': 0, 'safety_ratings': []}, 'finish_reason': 'STOP', 'model_name': 'gemini-2.0-flash-001', 'safety_ratings': []}, name='Schedulare agent', id='run--7d80d9a7-76c0-41c5-bc9b-de3238232ce1-0', tool_calls=[{'name': 'book_slot', 'args': {'slot_id': 25.0}, 'id': '4feadeef-037c-454d-ae43-aff9f13f915a', 'type': 'tool_call'}], usage_metadata={'input_tokens': 397, 'output_tokens': 7, 'total_tokens': 404, 'input_token_details': {'cache_read': 0}})]\n",
      "\u001b[36;1m\u001b[1;3m[1:checkpoint]\u001b[0m \u001b[1mState at the end of step 1:\n",
      "\u001b[0m{'messages': [HumanMessage(content='i would like to book the id 25 slot', additional_kwargs={}, response_metadata={}, id='8edbc484-cedc-47b6-930e-39466915ce47'),\n",
      "              AIMessage(content='', additional_kwargs={'function_call': {'name': 'book_slot', 'arguments': '{\"slot_id\": 25.0}'}}, response_metadata={'prompt_feedback': {'block_reason': 0, 'safety_ratings': []}, 'finish_reason': 'STOP', 'model_name': 'gemini-2.0-flash-001', 'safety_ratings': []}, name='Schedulare agent', id='run--7d80d9a7-76c0-41c5-bc9b-de3238232ce1-0', tool_calls=[{'name': 'book_slot', 'args': {'slot_id': 25.0}, 'id': '4feadeef-037c-454d-ae43-aff9f13f915a', 'type': 'tool_call'}], usage_metadata={'input_tokens': 397, 'output_tokens': 7, 'total_tokens': 404, 'input_token_details': {'cache_read': 0}})]}\n",
      "\u001b[36;1m\u001b[1;3m[2:tasks]\u001b[0m \u001b[1mStarting 1 task for step 2:\n",
      "\u001b[0m- \u001b[32;1m\u001b[1;3mtools\u001b[0m -> [{'args': {'slot_id': 25.0},\n",
      "  'id': '4feadeef-037c-454d-ae43-aff9f13f915a',\n",
      "  'name': 'book_slot',\n",
      "  'type': 'tool_call'}]\n",
      "{'agent': {'messages': [AIMessage(content='', additional_kwargs={'function_call': {'name': 'book_slot', 'arguments': '{\"slot_id\": 25.0}'}}, response_metadata={'prompt_feedback': {'block_reason': 0, 'safety_ratings': []}, 'finish_reason': 'STOP', 'model_name': 'gemini-2.0-flash-001', 'safety_ratings': []}, name='Schedulare agent', id='run--7d80d9a7-76c0-41c5-bc9b-de3238232ce1-0', tool_calls=[{'name': 'book_slot', 'args': {'slot_id': 25.0}, 'id': '4feadeef-037c-454d-ae43-aff9f13f915a', 'type': 'tool_call'}], usage_metadata={'input_tokens': 397, 'output_tokens': 7, 'total_tokens': 404, 'input_token_details': {'cache_read': 0}})]}}\n",
      "\u001b[36;1m\u001b[1;3m[2:writes]\u001b[0m \u001b[1mFinished step 2 with writes to 1 channel:\n",
      "\u001b[0m- \u001b[33;1m\u001b[1;3mmessages\u001b[0m -> [ToolMessage(content='✅ Slot ID 25 booked successfully.', name='book_slot', tool_call_id='4feadeef-037c-454d-ae43-aff9f13f915a')]\n",
      "\u001b[36;1m\u001b[1;3m[2:checkpoint]\u001b[0m \u001b[1mState at the end of step 2:\n",
      "\u001b[0m{'messages': [HumanMessage(content='i would like to book the id 25 slot', additional_kwargs={}, response_metadata={}, id='8edbc484-cedc-47b6-930e-39466915ce47'),\n",
      "              AIMessage(content='', additional_kwargs={'function_call': {'name': 'book_slot', 'arguments': '{\"slot_id\": 25.0}'}}, response_metadata={'prompt_feedback': {'block_reason': 0, 'safety_ratings': []}, 'finish_reason': 'STOP', 'model_name': 'gemini-2.0-flash-001', 'safety_ratings': []}, name='Schedulare agent', id='run--7d80d9a7-76c0-41c5-bc9b-de3238232ce1-0', tool_calls=[{'name': 'book_slot', 'args': {'slot_id': 25.0}, 'id': '4feadeef-037c-454d-ae43-aff9f13f915a', 'type': 'tool_call'}], usage_metadata={'input_tokens': 397, 'output_tokens': 7, 'total_tokens': 404, 'input_token_details': {'cache_read': 0}}),\n",
      "              ToolMessage(content='✅ Slot ID 25 booked successfully.', name='book_slot', id='2b3bdab9-d5d8-47b4-b3bb-a65a94b54fba', tool_call_id='4feadeef-037c-454d-ae43-aff9f13f915a')]}\n",
      "\u001b[36;1m\u001b[1;3m[3:tasks]\u001b[0m \u001b[1mStarting 1 task for step 3:\n",
      "\u001b[0m- \u001b[32;1m\u001b[1;3magent\u001b[0m -> {'is_last_step': False,\n",
      " 'messages': [HumanMessage(content='i would like to book the id 25 slot', additional_kwargs={}, response_metadata={}, id='8edbc484-cedc-47b6-930e-39466915ce47'),\n",
      "              AIMessage(content='', additional_kwargs={'function_call': {'name': 'book_slot', 'arguments': '{\"slot_id\": 25.0}'}}, response_metadata={'prompt_feedback': {'block_reason': 0, 'safety_ratings': []}, 'finish_reason': 'STOP', 'model_name': 'gemini-2.0-flash-001', 'safety_ratings': []}, name='Schedulare agent', id='run--7d80d9a7-76c0-41c5-bc9b-de3238232ce1-0', tool_calls=[{'name': 'book_slot', 'args': {'slot_id': 25.0}, 'id': '4feadeef-037c-454d-ae43-aff9f13f915a', 'type': 'tool_call'}], usage_metadata={'input_tokens': 397, 'output_tokens': 7, 'total_tokens': 404, 'input_token_details': {'cache_read': 0}}),\n",
      "              ToolMessage(content='✅ Slot ID 25 booked successfully.', name='book_slot', id='2b3bdab9-d5d8-47b4-b3bb-a65a94b54fba', tool_call_id='4feadeef-037c-454d-ae43-aff9f13f915a')],\n",
      " 'remaining_steps': 22}\n",
      "{'tools': {'messages': [ToolMessage(content='✅ Slot ID 25 booked successfully.', name='book_slot', id='2b3bdab9-d5d8-47b4-b3bb-a65a94b54fba', tool_call_id='4feadeef-037c-454d-ae43-aff9f13f915a')]}}\n",
      "\u001b[36;1m\u001b[1;3m[3:writes]\u001b[0m \u001b[1mFinished step 3 with writes to 1 channel:\n",
      "\u001b[0m- \u001b[33;1m\u001b[1;3mmessages\u001b[0m -> [AIMessage(content='Great! Slot ID 25 has been successfully booked.', additional_kwargs={}, response_metadata={'prompt_feedback': {'block_reason': 0, 'safety_ratings': []}, 'finish_reason': 'STOP', 'model_name': 'gemini-2.0-flash-001', 'safety_ratings': []}, name='Schedulare agent', id='run--19017c9b-96d0-4b23-8eca-0ea13f3be118-0', usage_metadata={'input_tokens': 417, 'output_tokens': 13, 'total_tokens': 430, 'input_token_details': {'cache_read': 0}})]\n",
      "\u001b[36;1m\u001b[1;3m[3:checkpoint]\u001b[0m \u001b[1mState at the end of step 3:\n",
      "\u001b[0m{'messages': [HumanMessage(content='i would like to book the id 25 slot', additional_kwargs={}, response_metadata={}, id='8edbc484-cedc-47b6-930e-39466915ce47'),\n",
      "              AIMessage(content='', additional_kwargs={'function_call': {'name': 'book_slot', 'arguments': '{\"slot_id\": 25.0}'}}, response_metadata={'prompt_feedback': {'block_reason': 0, 'safety_ratings': []}, 'finish_reason': 'STOP', 'model_name': 'gemini-2.0-flash-001', 'safety_ratings': []}, name='Schedulare agent', id='run--7d80d9a7-76c0-41c5-bc9b-de3238232ce1-0', tool_calls=[{'name': 'book_slot', 'args': {'slot_id': 25.0}, 'id': '4feadeef-037c-454d-ae43-aff9f13f915a', 'type': 'tool_call'}], usage_metadata={'input_tokens': 397, 'output_tokens': 7, 'total_tokens': 404, 'input_token_details': {'cache_read': 0}}),\n",
      "              ToolMessage(content='✅ Slot ID 25 booked successfully.', name='book_slot', id='2b3bdab9-d5d8-47b4-b3bb-a65a94b54fba', tool_call_id='4feadeef-037c-454d-ae43-aff9f13f915a'),\n",
      "              AIMessage(content='Great! Slot ID 25 has been successfully booked.', additional_kwargs={}, response_metadata={'prompt_feedback': {'block_reason': 0, 'safety_ratings': []}, 'finish_reason': 'STOP', 'model_name': 'gemini-2.0-flash-001', 'safety_ratings': []}, name='Schedulare agent', id='run--19017c9b-96d0-4b23-8eca-0ea13f3be118-0', usage_metadata={'input_tokens': 417, 'output_tokens': 13, 'total_tokens': 430, 'input_token_details': {'cache_read': 0}})]}\n",
      "{'agent': {'messages': [AIMessage(content='Great! Slot ID 25 has been successfully booked.', additional_kwargs={}, response_metadata={'prompt_feedback': {'block_reason': 0, 'safety_ratings': []}, 'finish_reason': 'STOP', 'model_name': 'gemini-2.0-flash-001', 'safety_ratings': []}, name='Schedulare agent', id='run--19017c9b-96d0-4b23-8eca-0ea13f3be118-0', usage_metadata={'input_tokens': 417, 'output_tokens': 13, 'total_tokens': 430, 'input_token_details': {'cache_read': 0}})]}}\n"
     ]
    }
   ],
   "source": [
    "user_input = input(\"How can i help you: \")\n",
    "for step in  agent.stream({\n",
    "    \"messages\" : [{\n",
    "        \"role\" : \"user\",\n",
    "        \"content\" : \"i would like to book the id 25 slot\"\n",
    "    }]\n",
    "}):\n",
    "           print(step)"
   ]
  },
  {
   "cell_type": "code",
   "execution_count": 33,
   "id": "9f83d017",
   "metadata": {},
   "outputs": [],
   "source": [
    "\n",
    "while True:\n",
    "    if user_input != \"exit\":\n",
    "           user_input = input(\"what \")\n",
    "    else:\n",
    "          break\n",
    "\n"
   ]
  },
  {
   "cell_type": "code",
   "execution_count": null,
   "metadata": {},
   "outputs": [
    {
     "name": "stdout",
     "output_type": "stream",
     "text": [
      "\u001b[36;1m\u001b[1;3m[-1:checkpoint]\u001b[0m \u001b[1mState at the end of step -1:\n",
      "\u001b[0m{'messages': []}\n",
      "\u001b[36;1m\u001b[1;3m[0:tasks]\u001b[0m \u001b[1mStarting 1 task for step 0:\n",
      "\u001b[0m- \u001b[32;1m\u001b[1;3m__start__\u001b[0m -> {'messages': [{'content': 'i would like to book the id 42 slot',\n",
      "               'role': 'user'}]}\n",
      "\u001b[36;1m\u001b[1;3m[0:writes]\u001b[0m \u001b[1mFinished step 0 with writes to 1 channel:\n",
      "\u001b[0m- \u001b[33;1m\u001b[1;3mmessages\u001b[0m -> [{'content': 'i would like to book the id 42 slot', 'role': 'user'}]\n",
      "\u001b[36;1m\u001b[1;3m[0:checkpoint]\u001b[0m \u001b[1mState at the end of step 0:\n",
      "\u001b[0m{'messages': [HumanMessage(content='i would like to book the id 42 slot', additional_kwargs={}, response_metadata={}, id='a375d34d-f188-4849-996a-0cf992ae966f')]}\n",
      "\u001b[36;1m\u001b[1;3m[1:tasks]\u001b[0m \u001b[1mStarting 1 task for step 1:\n",
      "\u001b[0m- \u001b[32;1m\u001b[1;3magent\u001b[0m -> {'is_last_step': False,\n",
      " 'messages': [HumanMessage(content='i would like to book the id 42 slot', additional_kwargs={}, response_metadata={}, id='a375d34d-f188-4849-996a-0cf992ae966f')],\n",
      " 'remaining_steps': 24}\n",
      "\u001b[36;1m\u001b[1;3m[1:writes]\u001b[0m \u001b[1mFinished step 1 with writes to 1 channel:\n",
      "\u001b[0m- \u001b[33;1m\u001b[1;3mmessages\u001b[0m -> [AIMessage(content='', additional_kwargs={'function_call': {'name': 'book_slot', 'arguments': '{\"slot_id\": 42.0}'}}, response_metadata={'prompt_feedback': {'block_reason': 0, 'safety_ratings': []}, 'finish_reason': 'STOP', 'model_name': 'gemini-2.0-flash-001', 'safety_ratings': []}, name='Schedulare agent', id='run--3cc37783-4521-41aa-a446-cadfef27cd82-0', tool_calls=[{'name': 'book_slot', 'args': {'slot_id': 42.0}, 'id': 'ea35ca5e-8839-4d8c-826c-30762bb33187', 'type': 'tool_call'}], usage_metadata={'input_tokens': 397, 'output_tokens': 7, 'total_tokens': 404, 'input_token_details': {'cache_read': 0}})]\n",
      "\u001b[36;1m\u001b[1;3m[1:checkpoint]\u001b[0m \u001b[1mState at the end of step 1:\n",
      "\u001b[0m{'messages': [HumanMessage(content='i would like to book the id 42 slot', additional_kwargs={}, response_metadata={}, id='a375d34d-f188-4849-996a-0cf992ae966f'),\n",
      "              AIMessage(content='', additional_kwargs={'function_call': {'name': 'book_slot', 'arguments': '{\"slot_id\": 42.0}'}}, response_metadata={'prompt_feedback': {'block_reason': 0, 'safety_ratings': []}, 'finish_reason': 'STOP', 'model_name': 'gemini-2.0-flash-001', 'safety_ratings': []}, name='Schedulare agent', id='run--3cc37783-4521-41aa-a446-cadfef27cd82-0', tool_calls=[{'name': 'book_slot', 'args': {'slot_id': 42.0}, 'id': 'ea35ca5e-8839-4d8c-826c-30762bb33187', 'type': 'tool_call'}], usage_metadata={'input_tokens': 397, 'output_tokens': 7, 'total_tokens': 404, 'input_token_details': {'cache_read': 0}})]}\n",
      "\u001b[36;1m\u001b[1;3m[2:tasks]\u001b[0m \u001b[1mStarting 1 task for step 2:\n",
      "\u001b[0m- \u001b[32;1m\u001b[1;3mtools\u001b[0m -> [{'args': {'slot_id': 42.0},\n",
      "  'id': 'ea35ca5e-8839-4d8c-826c-30762bb33187',\n",
      "  'name': 'book_slot',\n",
      "  'type': 'tool_call'}]\n",
      "\u001b[36;1m\u001b[1;3m[2:writes]\u001b[0m \u001b[1mFinished step 2 with writes to 1 channel:\n",
      "\u001b[0m- \u001b[33;1m\u001b[1;3mmessages\u001b[0m -> [ToolMessage(content='✅ Slot ID 42 booked successfully.', name='book_slot', tool_call_id='ea35ca5e-8839-4d8c-826c-30762bb33187')]\n",
      "\u001b[36;1m\u001b[1;3m[2:checkpoint]\u001b[0m \u001b[1mState at the end of step 2:\n",
      "\u001b[0m{'messages': [HumanMessage(content='i would like to book the id 42 slot', additional_kwargs={}, response_metadata={}, id='a375d34d-f188-4849-996a-0cf992ae966f'),\n",
      "              AIMessage(content='', additional_kwargs={'function_call': {'name': 'book_slot', 'arguments': '{\"slot_id\": 42.0}'}}, response_metadata={'prompt_feedback': {'block_reason': 0, 'safety_ratings': []}, 'finish_reason': 'STOP', 'model_name': 'gemini-2.0-flash-001', 'safety_ratings': []}, name='Schedulare agent', id='run--3cc37783-4521-41aa-a446-cadfef27cd82-0', tool_calls=[{'name': 'book_slot', 'args': {'slot_id': 42.0}, 'id': 'ea35ca5e-8839-4d8c-826c-30762bb33187', 'type': 'tool_call'}], usage_metadata={'input_tokens': 397, 'output_tokens': 7, 'total_tokens': 404, 'input_token_details': {'cache_read': 0}}),\n",
      "              ToolMessage(content='✅ Slot ID 42 booked successfully.', name='book_slot', id='8b247923-6e9f-4e07-989a-ec1cf101b03e', tool_call_id='ea35ca5e-8839-4d8c-826c-30762bb33187')]}\n",
      "\u001b[36;1m\u001b[1;3m[3:tasks]\u001b[0m \u001b[1mStarting 1 task for step 3:\n",
      "\u001b[0m- \u001b[32;1m\u001b[1;3magent\u001b[0m -> {'is_last_step': False,\n",
      " 'messages': [HumanMessage(content='i would like to book the id 42 slot', additional_kwargs={}, response_metadata={}, id='a375d34d-f188-4849-996a-0cf992ae966f'),\n",
      "              AIMessage(content='', additional_kwargs={'function_call': {'name': 'book_slot', 'arguments': '{\"slot_id\": 42.0}'}}, response_metadata={'prompt_feedback': {'block_reason': 0, 'safety_ratings': []}, 'finish_reason': 'STOP', 'model_name': 'gemini-2.0-flash-001', 'safety_ratings': []}, name='Schedulare agent', id='run--3cc37783-4521-41aa-a446-cadfef27cd82-0', tool_calls=[{'name': 'book_slot', 'args': {'slot_id': 42.0}, 'id': 'ea35ca5e-8839-4d8c-826c-30762bb33187', 'type': 'tool_call'}], usage_metadata={'input_tokens': 397, 'output_tokens': 7, 'total_tokens': 404, 'input_token_details': {'cache_read': 0}}),\n",
      "              ToolMessage(content='✅ Slot ID 42 booked successfully.', name='book_slot', id='8b247923-6e9f-4e07-989a-ec1cf101b03e', tool_call_id='ea35ca5e-8839-4d8c-826c-30762bb33187')],\n",
      " 'remaining_steps': 22}\n",
      "\u001b[36;1m\u001b[1;3m[3:writes]\u001b[0m \u001b[1mFinished step 3 with writes to 1 channel:\n",
      "\u001b[0m- \u001b[33;1m\u001b[1;3mmessages\u001b[0m -> [AIMessage(content='Great! Slot ID 42 has been successfully booked.', additional_kwargs={}, response_metadata={'prompt_feedback': {'block_reason': 0, 'safety_ratings': []}, 'finish_reason': 'STOP', 'model_name': 'gemini-2.0-flash-001', 'safety_ratings': []}, name='Schedulare agent', id='run--4afa6602-9fd9-457d-985f-b41b5d7cf79d-0', usage_metadata={'input_tokens': 417, 'output_tokens': 13, 'total_tokens': 430, 'input_token_details': {'cache_read': 0}})]\n",
      "\u001b[36;1m\u001b[1;3m[3:checkpoint]\u001b[0m \u001b[1mState at the end of step 3:\n",
      "\u001b[0m{'messages': [HumanMessage(content='i would like to book the id 42 slot', additional_kwargs={}, response_metadata={}, id='a375d34d-f188-4849-996a-0cf992ae966f'),\n",
      "              AIMessage(content='', additional_kwargs={'function_call': {'name': 'book_slot', 'arguments': '{\"slot_id\": 42.0}'}}, response_metadata={'prompt_feedback': {'block_reason': 0, 'safety_ratings': []}, 'finish_reason': 'STOP', 'model_name': 'gemini-2.0-flash-001', 'safety_ratings': []}, name='Schedulare agent', id='run--3cc37783-4521-41aa-a446-cadfef27cd82-0', tool_calls=[{'name': 'book_slot', 'args': {'slot_id': 42.0}, 'id': 'ea35ca5e-8839-4d8c-826c-30762bb33187', 'type': 'tool_call'}], usage_metadata={'input_tokens': 397, 'output_tokens': 7, 'total_tokens': 404, 'input_token_details': {'cache_read': 0}}),\n",
      "              ToolMessage(content='✅ Slot ID 42 booked successfully.', name='book_slot', id='8b247923-6e9f-4e07-989a-ec1cf101b03e', tool_call_id='ea35ca5e-8839-4d8c-826c-30762bb33187'),\n",
      "              AIMessage(content='Great! Slot ID 42 has been successfully booked.', additional_kwargs={}, response_metadata={'prompt_feedback': {'block_reason': 0, 'safety_ratings': []}, 'finish_reason': 'STOP', 'model_name': 'gemini-2.0-flash-001', 'safety_ratings': []}, name='Schedulare agent', id='run--4afa6602-9fd9-457d-985f-b41b5d7cf79d-0', usage_metadata={'input_tokens': 417, 'output_tokens': 13, 'total_tokens': 430, 'input_token_details': {'cache_read': 0}})]}\n"
     ]
    }
   ],
   "source": [
    "result =  agent.invoke(input={\n",
    "    \"messages\" : [{\n",
    "        \"role\" : \"user\",\n",
    "        \"content\" : \"i would like to book the id 42 slot\"\n",
    "        }]\n",
    "    })\n",
    "\n",
    "\n",
    "    "
   ]
  },
  {
   "cell_type": "code",
   "execution_count": 27,
   "metadata": {},
   "outputs": [
    {
     "name": "stdout",
     "output_type": "stream",
     "text": [
      "{'messages': [HumanMessage(content='hi i want to book an appointment for me , can you tell me which slots are available', additional_kwargs={}, response_metadata={}, id='7bf59ae2-9662-4ff4-b035-3a75cc8ef716'),\n",
      "              AIMessage(content='', additional_kwargs={'function_call': {'name': 'view_available_slots', 'arguments': '{}'}}, response_metadata={'prompt_feedback': {'block_reason': 0, 'safety_ratings': []}, 'finish_reason': 'STOP', 'model_name': 'gemini-2.0-flash-001', 'safety_ratings': []}, name='Schedulare agent', id='run--11462b1c-4db5-4fac-89e2-c923f57cea2f-0', tool_calls=[{'name': 'view_available_slots', 'args': {}, 'id': '3d1e7085-df77-4cbd-875e-b26accfb58ef', 'type': 'tool_call'}], usage_metadata={'input_tokens': 404, 'output_tokens': 5, 'total_tokens': 409, 'input_token_details': {'cache_read': 0}}),\n",
      "              ToolMessage(content='[{\"id\": 25, \"time\": \"09:00 AM - 09:20 AM\"}, {\"id\": 26, \"time\": \"09:20 AM - 09:40 AM\"}, {\"id\": 27, \"time\": \"09:40 AM - 10:00 AM\"}, {\"id\": 28, \"time\": \"10:00 AM - 10:20 AM\"}, {\"id\": 29, \"time\": \"10:20 AM - 10:40 AM\"}, {\"id\": 30, \"time\": \"10:40 AM - 11:00 AM\"}, {\"id\": 31, \"time\": \"11:00 AM - 11:20 AM\"}, {\"id\": 32, \"time\": \"11:20 AM - 11:40 AM\"}, {\"id\": 33, \"time\": \"11:40 AM - 12:00 PM\"}, {\"id\": 34, \"time\": \"12:00 PM - 12:20 PM\"}, {\"id\": 35, \"time\": \"12:20 PM - 12:40 PM\"}, {\"id\": 36, \"time\": \"12:40 PM - 01:00 PM\"}, {\"id\": 37, \"time\": \"01:00 PM - 01:20 PM\"}, {\"id\": 38, \"time\": \"01:20 PM - 01:40 PM\"}, {\"id\": 39, \"time\": \"01:40 PM - 02:00 PM\"}, {\"id\": 40, \"time\": \"02:00 PM - 02:20 PM\"}, {\"id\": 42, \"time\": \"02:40 PM - 03:00 PM\"}, {\"id\": 44, \"time\": \"03:20 PM - 03:40 PM\"}, {\"id\": 45, \"time\": \"03:40 PM - 04:00 PM\"}, {\"id\": 46, \"time\": \"04:00 PM - 04:20 PM\"}, {\"id\": 47, \"time\": \"04:20 PM - 04:40 PM\"}, {\"id\": 48, \"time\": \"04:40 PM - 05:00 PM\"}]', name='view_available_slots', id='084ff933-f590-441c-a2f4-b56ac3eb4ee5', tool_call_id='3d1e7085-df77-4cbd-875e-b26accfb58ef'),\n",
      "              AIMessage(content='We have several slots available today:\\n- Slot 25: 09:00 AM - 09:20 AM\\n- Slot 26: 09:20 AM - 09:40 AM\\n- Slot 27: 09:40 AM - 10:00 AM\\n- Slot 28: 10:00 AM - 10:20 AM\\n- Slot 29: 10:20 AM - 10:40 AM\\n- Slot 30: 10:40 AM - 11:00 AM\\n- Slot 31: 11:00 AM - 11:20 AM\\n- Slot 32: 11:20 AM - 11:40 AM\\n- Slot 33: 11:40 AM - 12:00 PM\\n- Slot 34: 12:00 PM - 12:20 PM\\n- Slot 35: 12:20 PM - 12:40 PM\\n- Slot 36: 12:40 PM - 01:00 PM\\n- Slot 37: 01:00 PM - 01:20 PM\\n- Slot 38: 01:20 PM - 01:40 PM\\n- Slot 39: 01:40 PM - 02:00 PM\\n- Slot 40: 02:00 PM - 02:20 PM\\n- Slot 42: 02:40 PM - 03:00 PM\\n- Slot 44: 03:20 PM - 03:40 PM\\n- Slot 45: 03:40 PM - 04:00 PM\\n- Slot 46: 04:00 PM - 04:20 PM\\n- Slot 47: 04:20 PM - 04:40 PM\\n- Slot 48: 04:40 PM - 05:00 PM\\n\\nPlease, select the `id` of the slot you want to book.', additional_kwargs={}, response_metadata={'prompt_feedback': {'block_reason': 0, 'safety_ratings': []}, 'finish_reason': 'STOP', 'model_name': 'gemini-2.0-flash-001', 'safety_ratings': []}, name='Schedulare agent', id='run--0cc4fbd2-5a29-44b7-8b07-1e506e1d0433-0', usage_metadata={'input_tokens': 789, 'output_tokens': 508, 'total_tokens': 1297, 'input_token_details': {'cache_read': 0}})]}\n"
     ]
    }
   ],
   "source": [
    "import pprint\n",
    "\n",
    "pprint.pprint(result)"
   ]
  },
  {
   "cell_type": "code",
   "execution_count": null,
   "id": "3e4c3eaf",
   "metadata": {},
   "outputs": [],
   "source": [
    "llm_with_tools= llm.bind_tools(tools = tools)"
   ]
  },
  {
   "cell_type": "code",
   "execution_count": null,
   "id": "3b4c0ee8",
   "metadata": {},
   "outputs": [],
   "source": [
    "from langchain_core.prompts import ChatPromptTemplate\n",
    "\n",
    "\n",
    "scheduler_prompt = ChatPromptTemplate.from_messages([\n",
    "    SystemMessage(\n",
    "        content=(\n",
    "            \"You are an intelligent appointment scheduling assistant.\\n\\n\"\n",
    "            \"You have access to two tools:\\n\"\n",
    "            \"{tools}\"\n",
    "            \"1. `view_avadilable_slots()` → returns a list of available for today\"\n",
    "            \n",
    "            \"2. `book_slot(slot_id: int)` → books a slot for today by its ID. It returns messages like:\\n\"\n",
    "            \"   - '✅ Slot ID {slot_id} booked successfully.'\\n\"\n",
    "            \"   - '❌ Slot ID {slot_id} is invalid for today.'\\n\"\n",
    "            \"   - '⚠️ Slot ID {slot_id} is already booked.'\\n\\n\"\n",
    "\n",
    "            \"Your workflow:\\n\"\n",
    "            \"- Always start by calling `view_available_slots()` to check today’s free slots.\\n\"\n",
    "            \"- If no slots are available, inform the user politely.\\n\"\n",
    "            \"- If exactly one slot is available, automatically call `book_slot(slot_id)` to book it.\\n\"\n",
    "            \"- If multiple slots are available, list them with their `id` and `time`, then ask the user to choose a slot ID.\\n\"\n",
    "            \"- When the user replies with a slot ID, call `book_slot(slot_id)` with the correct integer.\\n\\n\"\n",
    "\n",
    "            \"Rules:\\n\"\n",
    "            \"- The `slot_id` must be passed as an integer to `book_slot(slot_id: int)`.\\n\"\n",
    "            \"- Do not guess or invent slot IDs — always rely on what `view_available_slots()` returned.\\n\"\n",
    "            \"- If a slot is already booked or invalid, notify the user and ask for another valid ID from the list.\"\n",
    "        )\n",
    "    ),\n",
    "    AIMessage(\n",
    "        content=\"I'm here to help you book your appointment. Let me first check the available slots for today...\"\n",
    "    ),\n",
    "    MessagesPlaceholder(variable_name=\"user_input\"),\n",
    "    SystemMessage(\n",
    "        content=(\n",
    "            \"Make sure to:\\n\"\n",
    "            \"- Clearly list available time slots with their IDs when offering choices.\\n\"\n",
    "            \"- Confirm with the user once a booking is successful.\\n\"\n",
    "            \"- Handle invalid or already-booked slot IDs gracefully.\\n\\n\"\n",
    "            \"Use the tools responsibly and ensure the interaction is smooth and helpful for the user.\"\n",
    "        )\n",
    "    )\n",
    "])\n"
   ]
  },
  {
   "cell_type": "code",
   "execution_count": null,
   "id": "65e919db",
   "metadata": {},
   "outputs": [
    {
     "name": "stdout",
     "output_type": "stream",
     "text": [
      "AIMessage(content='I have access to the following tools:\\n\\n`default_api`:\\n```python\\ndef view_available_slots(\\n) -> dict:\\n  \"\"\"Lists today\\'s available slots\\n\\n  Args:\\n  \"\"\"\\n\\n\\ndef book_slot(\\n    slot_id: int,\\n) -> dict:\\n  \"\"\"Books available slot on today using slot_id\\n\\n  Args:\\n    slot_id: \\n  \"\"\"\\n```', additional_kwargs={}, response_metadata={'prompt_feedback': {'block_reason': 0, 'safety_ratings': []}, 'finish_reason': 'STOP', 'model_name': 'gemini-2.0-flash-001', 'safety_ratings': []}, id='run--168a48de-3575-41cf-883d-7cc97afc124f-0', usage_metadata={'input_tokens': 37, 'output_tokens': 93, 'total_tokens': 130, 'input_token_details': {'cache_read': 0}})\n"
     ]
    }
   ],
   "source": [
    "res = llm_with_tools.invoke(\"which tools do you have?\")\n",
    "pprint(res)"
   ]
  },
  {
   "cell_type": "code",
   "execution_count": null,
   "id": "30aeb809",
   "metadata": {},
   "outputs": [],
   "source": [
    "chain = scheduler_prompt | llm_with_tools"
   ]
  },
  {
   "cell_type": "code",
   "execution_count": null,
   "id": "1626c51b",
   "metadata": {},
   "outputs": [],
   "source": [
    "from pprint import pprint"
   ]
  },
  {
   "cell_type": "code",
   "execution_count": null,
   "id": "47c65701",
   "metadata": {},
   "outputs": [],
   "source": [
    "user_input = HumanMessage(\"hi i want to book an appointment for me , can you tell me which slots are available\")"
   ]
  },
  {
   "cell_type": "code",
   "execution_count": null,
   "id": "7ad68a36",
   "metadata": {},
   "outputs": [
    {
     "name": "stdout",
     "output_type": "stream",
     "text": [
      "AIMessage(content='', additional_kwargs={'function_call': {'name': 'view_available_slots', 'arguments': '{}'}}, response_metadata={'prompt_feedback': {'block_reason': 0, 'safety_ratings': []}, 'finish_reason': 'STOP', 'model_name': 'gemini-2.0-flash-001', 'safety_ratings': []}, id='run--7b8af6cd-a0b3-49bc-8e32-71d5bba2b921-0', tool_calls=[{'name': 'view_available_slots', 'args': {}, 'id': '1ee06e7a-ec11-43cb-a011-63adfc27c309', 'type': 'tool_call'}], usage_metadata={'input_tokens': 435, 'output_tokens': 5, 'total_tokens': 440, 'input_token_details': {'cache_read': 0}})\n"
     ]
    }
   ],
   "source": [
    "res = chain.invoke([user_input])\n",
    "pprint(res)"
   ]
  },
  {
   "cell_type": "code",
   "execution_count": null,
   "id": "08073e05",
   "metadata": {},
   "outputs": [
    {
     "name": "stdout",
     "output_type": "stream",
     "text": [
      "name='book_slot' description='Books available slot on today using slot_id' args_schema=<class 'langchain_core.utils.pydantic.book_slot'> func=<function book_slot at 0x7febf5bc9cf0>\n",
      "name='view_available_slots' description=\"Lists today's available slots\" args_schema=<class 'langchain_core.utils.pydantic.view_available_slots'> func=<function view_available_slots at 0x7febf5877e20>\n"
     ]
    }
   ],
   "source": [
    "print(book_slot)\n",
    "print(view_available_slots)"
   ]
  },
  {
   "cell_type": "code",
   "execution_count": null,
   "id": "b0f562d4",
   "metadata": {},
   "outputs": [],
   "source": [
    "from langchain_core.runnables import RunnableLambda\n",
    "from langchain_core.messages import AIMessage, HumanMessage\n",
    "\n",
    "def scheduler_logic(state: AgentState) -> AgentState:\n",
    "    last_user_msg = next((m for m in reversed(state.messages) if isinstance(m, HumanMessage)), None)\n",
    "    if last_user_msg:\n",
    "        content = last_user_msg.content.lower()\n",
    "\n",
    "        llm_prompt = \n",
    "\n",
    "        if \"available\" in content:\n",
    "            output = view_available_slots.invoke({})  # ✅ fixed here\n",
    "            state.messages.append(AIMessage(content=str(output)))\n",
    "            state.agent_calls.append(AgentCall(\n",
    "                tool_name=\"view_available_slots\",\n",
    "                input={},\n",
    "                output=output,\n",
    "                status=\"completed\"\n",
    "            ))\n",
    "\n",
    "        elif \"book\" in content:\n",
    "            slot_id = 1  # Placeholder\n",
    "            output = book_slot.invoke({\"slot_id\": slot_id})  # ✅ fixed here\n",
    "            state.messages.append(AIMessage(content=str(output)))\n",
    "            state.agent_calls.append(AgentCall(\n",
    "                tool_name=\"book_slot\",\n",
    "                input={\"slot_id\": slot_id},\n",
    "                output=output,\n",
    "                status=\"completed\"\n",
    "            ))\n",
    "\n",
    "        else:\n",
    "            state.messages.append(AIMessage(content=\"I can help you view or book slots. Try asking: 'What slots are available?'\"))\n",
    "\n",
    "    return state\n",
    "\n",
    "\n"
   ]
  },
  {
   "cell_type": "code",
   "execution_count": null,
   "id": "1add9331",
   "metadata": {},
   "outputs": [],
   "source": [
    "from langgraph.graph import StateGraph, END\n",
    "\n",
    "builder = StateGraph(AgentState)\n",
    "builder.add_node(\"scheduler\", scheduler_logic)\n",
    "builder.set_entry_point(\"scheduler\")\n",
    "builder.set_finish_point(\"scheduler\")\n",
    "graph = builder.compile()\n"
   ]
  },
  {
   "cell_type": "code",
   "execution_count": null,
   "id": "9dfbe102",
   "metadata": {},
   "outputs": [
    {
     "name": "stdout",
     "output_type": "stream",
     "text": [
      "[HumanMessage(content='What slots are available today?, if any available book an appointment in the first available slot.', additional_kwargs={}, response_metadata={}), AIMessage(content=\"[{'id': 25, 'time': '09:00 AM - 09:20 AM'}, {'id': 26, 'time': '09:20 AM - 09:40 AM'}, {'id': 27, 'time': '09:40 AM - 10:00 AM'}, {'id': 28, 'time': '10:00 AM - 10:20 AM'}, {'id': 29, 'time': '10:20 AM - 10:40 AM'}, {'id': 30, 'time': '10:40 AM - 11:00 AM'}, {'id': 31, 'time': '11:00 AM - 11:20 AM'}, {'id': 32, 'time': '11:20 AM - 11:40 AM'}, {'id': 33, 'time': '11:40 AM - 12:00 PM'}, {'id': 34, 'time': '12:00 PM - 12:20 PM'}, {'id': 35, 'time': '12:20 PM - 12:40 PM'}, {'id': 36, 'time': '12:40 PM - 01:00 PM'}, {'id': 37, 'time': '01:00 PM - 01:20 PM'}, {'id': 38, 'time': '01:20 PM - 01:40 PM'}, {'id': 39, 'time': '01:40 PM - 02:00 PM'}, {'id': 40, 'time': '02:00 PM - 02:20 PM'}, {'id': 41, 'time': '02:20 PM - 02:40 PM'}, {'id': 42, 'time': '02:40 PM - 03:00 PM'}, {'id': 43, 'time': '03:00 PM - 03:20 PM'}, {'id': 44, 'time': '03:20 PM - 03:40 PM'}, {'id': 45, 'time': '03:40 PM - 04:00 PM'}, {'id': 46, 'time': '04:00 PM - 04:20 PM'}, {'id': 47, 'time': '04:20 PM - 04:40 PM'}, {'id': 48, 'time': '04:40 PM - 05:00 PM'}]\", additional_kwargs={}, response_metadata={})]\n",
      "[AgentCall(tool_name='view_available_slots', input={}, output=[{'id': 25, 'time': '09:00 AM - 09:20 AM'}, {'id': 26, 'time': '09:20 AM - 09:40 AM'}, {'id': 27, 'time': '09:40 AM - 10:00 AM'}, {'id': 28, 'time': '10:00 AM - 10:20 AM'}, {'id': 29, 'time': '10:20 AM - 10:40 AM'}, {'id': 30, 'time': '10:40 AM - 11:00 AM'}, {'id': 31, 'time': '11:00 AM - 11:20 AM'}, {'id': 32, 'time': '11:20 AM - 11:40 AM'}, {'id': 33, 'time': '11:40 AM - 12:00 PM'}, {'id': 34, 'time': '12:00 PM - 12:20 PM'}, {'id': 35, 'time': '12:20 PM - 12:40 PM'}, {'id': 36, 'time': '12:40 PM - 01:00 PM'}, {'id': 37, 'time': '01:00 PM - 01:20 PM'}, {'id': 38, 'time': '01:20 PM - 01:40 PM'}, {'id': 39, 'time': '01:40 PM - 02:00 PM'}, {'id': 40, 'time': '02:00 PM - 02:20 PM'}, {'id': 41, 'time': '02:20 PM - 02:40 PM'}, {'id': 42, 'time': '02:40 PM - 03:00 PM'}, {'id': 43, 'time': '03:00 PM - 03:20 PM'}, {'id': 44, 'time': '03:20 PM - 03:40 PM'}, {'id': 45, 'time': '03:40 PM - 04:00 PM'}, {'id': 46, 'time': '04:00 PM - 04:20 PM'}, {'id': 47, 'time': '04:20 PM - 04:40 PM'}, {'id': 48, 'time': '04:40 PM - 05:00 PM'}], status='completed')]\n",
      "name=None age=None gender=None email=None phone_number=None address=None\n",
      "scheduler\n"
     ]
    }
   ],
   "source": [
    "from langchain_core.messages import HumanMessage\n",
    "\n",
    "initial_state = AgentState(\n",
    "    messages=[HumanMessage(content=\"What slots are available today?, if any available book an appointment in the first available slot.\")]\n",
    ")\n",
    "\n",
    "final_state = graph.invoke(initial_state)\n",
    "\n",
    "for msg in final_state:\n",
    "    print(final_state[msg])\n"
   ]
  },
  {
   "cell_type": "code",
   "execution_count": null,
   "metadata": {},
   "outputs": [],
   "source": []
  },
  {
   "cell_type": "code",
   "execution_count": null,
   "id": "19db3a31",
   "metadata": {},
   "outputs": [],
   "source": []
  },
  {
   "cell_type": "code",
   "execution_count": null,
   "id": "ea17beb7",
   "metadata": {},
   "outputs": [],
   "source": []
  },
  {
   "cell_type": "code",
   "execution_count": null,
   "id": "891ea199",
   "metadata": {},
   "outputs": [],
   "source": []
  },
  {
   "cell_type": "code",
   "execution_count": null,
   "id": "4f2f1adf",
   "metadata": {},
   "outputs": [],
   "source": []
  },
  {
   "cell_type": "code",
   "execution_count": null,
   "id": "b05afdba",
   "metadata": {},
   "outputs": [],
   "source": []
  }
 ],
 "metadata": {
  "kernelspec": {
   "display_name": "pheonix",
   "language": "python",
   "name": "python3"
  },
  "language_info": {
   "codemirror_mode": {
    "name": "ipython",
    "version": 3
   },
   "file_extension": ".py",
   "mimetype": "text/x-python",
   "name": "python",
   "nbconvert_exporter": "python",
   "pygments_lexer": "ipython3",
   "version": "3.10.11"
  }
 },
 "nbformat": 4,
 "nbformat_minor": 5
}
