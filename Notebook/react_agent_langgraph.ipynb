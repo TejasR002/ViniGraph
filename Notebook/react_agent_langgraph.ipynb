{
 "cells": [
  {
   "cell_type": "code",
   "execution_count": 2,
   "id": "13d2cf1d",
   "metadata": {},
   "outputs": [
    {
     "name": "stdout",
     "output_type": "stream",
     "text": [
      "Collecting langgraph-supervisor\n",
      "  Downloading langgraph_supervisor-0.0.27-py3-none-any.whl (15 kB)\n",
      "Requirement already satisfied: langgraph-prebuilt>=0.1.7 in /home/tejas.raval@simform.dom/Desktop/ViniGraph/pheonix/lib/python3.10/site-packages (from langgraph-supervisor) (0.2.2)\n",
      "Requirement already satisfied: langchain-core>=0.3.40 in /home/tejas.raval@simform.dom/Desktop/ViniGraph/pheonix/lib/python3.10/site-packages (from langgraph-supervisor) (0.3.63)\n",
      "Requirement already satisfied: langgraph>=0.3.5 in /home/tejas.raval@simform.dom/Desktop/ViniGraph/pheonix/lib/python3.10/site-packages (from langgraph-supervisor) (0.4.8)\n",
      "Requirement already satisfied: pydantic>=2.7.4 in /home/tejas.raval@simform.dom/Desktop/ViniGraph/pheonix/lib/python3.10/site-packages (from langchain-core>=0.3.40->langgraph-supervisor) (2.11.5)\n",
      "Requirement already satisfied: tenacity!=8.4.0,<10.0.0,>=8.1.0 in /home/tejas.raval@simform.dom/Desktop/ViniGraph/pheonix/lib/python3.10/site-packages (from langchain-core>=0.3.40->langgraph-supervisor) (9.1.2)\n",
      "Requirement already satisfied: jsonpatch<2.0,>=1.33 in /home/tejas.raval@simform.dom/Desktop/ViniGraph/pheonix/lib/python3.10/site-packages (from langchain-core>=0.3.40->langgraph-supervisor) (1.33)\n",
      "Requirement already satisfied: typing-extensions>=4.7 in /home/tejas.raval@simform.dom/Desktop/ViniGraph/pheonix/lib/python3.10/site-packages (from langchain-core>=0.3.40->langgraph-supervisor) (4.14.0)\n",
      "Requirement already satisfied: PyYAML>=5.3 in /home/tejas.raval@simform.dom/Desktop/ViniGraph/pheonix/lib/python3.10/site-packages (from langchain-core>=0.3.40->langgraph-supervisor) (6.0.2)\n",
      "Requirement already satisfied: packaging<25,>=23.2 in /home/tejas.raval@simform.dom/Desktop/ViniGraph/pheonix/lib/python3.10/site-packages (from langchain-core>=0.3.40->langgraph-supervisor) (24.2)\n",
      "Requirement already satisfied: langsmith<0.4,>=0.1.126 in /home/tejas.raval@simform.dom/Desktop/ViniGraph/pheonix/lib/python3.10/site-packages (from langchain-core>=0.3.40->langgraph-supervisor) (0.3.44)\n",
      "Requirement already satisfied: langgraph-sdk>=0.1.42 in /home/tejas.raval@simform.dom/Desktop/ViniGraph/pheonix/lib/python3.10/site-packages (from langgraph>=0.3.5->langgraph-supervisor) (0.1.70)\n",
      "Requirement already satisfied: xxhash>=3.5.0 in /home/tejas.raval@simform.dom/Desktop/ViniGraph/pheonix/lib/python3.10/site-packages (from langgraph>=0.3.5->langgraph-supervisor) (3.5.0)\n",
      "Requirement already satisfied: langgraph-checkpoint>=2.0.26 in /home/tejas.raval@simform.dom/Desktop/ViniGraph/pheonix/lib/python3.10/site-packages (from langgraph>=0.3.5->langgraph-supervisor) (2.0.26)\n",
      "Requirement already satisfied: jsonpointer>=1.9 in /home/tejas.raval@simform.dom/Desktop/ViniGraph/pheonix/lib/python3.10/site-packages (from jsonpatch<2.0,>=1.33->langchain-core>=0.3.40->langgraph-supervisor) (3.0.0)\n",
      "Requirement already satisfied: ormsgpack<2.0.0,>=1.8.0 in /home/tejas.raval@simform.dom/Desktop/ViniGraph/pheonix/lib/python3.10/site-packages (from langgraph-checkpoint>=2.0.26->langgraph>=0.3.5->langgraph-supervisor) (1.10.0)\n",
      "Requirement already satisfied: orjson>=3.10.1 in /home/tejas.raval@simform.dom/Desktop/ViniGraph/pheonix/lib/python3.10/site-packages (from langgraph-sdk>=0.1.42->langgraph>=0.3.5->langgraph-supervisor) (3.10.18)\n",
      "Requirement already satisfied: httpx>=0.25.2 in /home/tejas.raval@simform.dom/Desktop/ViniGraph/pheonix/lib/python3.10/site-packages (from langgraph-sdk>=0.1.42->langgraph>=0.3.5->langgraph-supervisor) (0.28.1)\n",
      "Requirement already satisfied: requests<3,>=2 in /home/tejas.raval@simform.dom/Desktop/ViniGraph/pheonix/lib/python3.10/site-packages (from langsmith<0.4,>=0.1.126->langchain-core>=0.3.40->langgraph-supervisor) (2.32.3)\n",
      "Requirement already satisfied: zstandard<0.24.0,>=0.23.0 in /home/tejas.raval@simform.dom/Desktop/ViniGraph/pheonix/lib/python3.10/site-packages (from langsmith<0.4,>=0.1.126->langchain-core>=0.3.40->langgraph-supervisor) (0.23.0)\n",
      "Requirement already satisfied: requests-toolbelt<2.0.0,>=1.0.0 in /home/tejas.raval@simform.dom/Desktop/ViniGraph/pheonix/lib/python3.10/site-packages (from langsmith<0.4,>=0.1.126->langchain-core>=0.3.40->langgraph-supervisor) (1.0.0)\n",
      "Requirement already satisfied: typing-inspection>=0.4.0 in /home/tejas.raval@simform.dom/Desktop/ViniGraph/pheonix/lib/python3.10/site-packages (from pydantic>=2.7.4->langchain-core>=0.3.40->langgraph-supervisor) (0.4.1)\n",
      "Requirement already satisfied: pydantic-core==2.33.2 in /home/tejas.raval@simform.dom/Desktop/ViniGraph/pheonix/lib/python3.10/site-packages (from pydantic>=2.7.4->langchain-core>=0.3.40->langgraph-supervisor) (2.33.2)\n",
      "Requirement already satisfied: annotated-types>=0.6.0 in /home/tejas.raval@simform.dom/Desktop/ViniGraph/pheonix/lib/python3.10/site-packages (from pydantic>=2.7.4->langchain-core>=0.3.40->langgraph-supervisor) (0.7.0)\n",
      "Requirement already satisfied: anyio in /home/tejas.raval@simform.dom/Desktop/ViniGraph/pheonix/lib/python3.10/site-packages (from httpx>=0.25.2->langgraph-sdk>=0.1.42->langgraph>=0.3.5->langgraph-supervisor) (4.9.0)\n",
      "Requirement already satisfied: certifi in /home/tejas.raval@simform.dom/Desktop/ViniGraph/pheonix/lib/python3.10/site-packages (from httpx>=0.25.2->langgraph-sdk>=0.1.42->langgraph>=0.3.5->langgraph-supervisor) (2025.4.26)\n",
      "Requirement already satisfied: httpcore==1.* in /home/tejas.raval@simform.dom/Desktop/ViniGraph/pheonix/lib/python3.10/site-packages (from httpx>=0.25.2->langgraph-sdk>=0.1.42->langgraph>=0.3.5->langgraph-supervisor) (1.0.9)\n",
      "Requirement already satisfied: idna in /home/tejas.raval@simform.dom/Desktop/ViniGraph/pheonix/lib/python3.10/site-packages (from httpx>=0.25.2->langgraph-sdk>=0.1.42->langgraph>=0.3.5->langgraph-supervisor) (3.10)\n",
      "Requirement already satisfied: h11>=0.16 in /home/tejas.raval@simform.dom/Desktop/ViniGraph/pheonix/lib/python3.10/site-packages (from httpcore==1.*->httpx>=0.25.2->langgraph-sdk>=0.1.42->langgraph>=0.3.5->langgraph-supervisor) (0.16.0)\n",
      "Requirement already satisfied: urllib3<3,>=1.21.1 in /home/tejas.raval@simform.dom/Desktop/ViniGraph/pheonix/lib/python3.10/site-packages (from requests<3,>=2->langsmith<0.4,>=0.1.126->langchain-core>=0.3.40->langgraph-supervisor) (2.4.0)\n",
      "Requirement already satisfied: charset-normalizer<4,>=2 in /home/tejas.raval@simform.dom/Desktop/ViniGraph/pheonix/lib/python3.10/site-packages (from requests<3,>=2->langsmith<0.4,>=0.1.126->langchain-core>=0.3.40->langgraph-supervisor) (3.4.2)\n",
      "Requirement already satisfied: exceptiongroup>=1.0.2 in /home/tejas.raval@simform.dom/Desktop/ViniGraph/pheonix/lib/python3.10/site-packages (from anyio->httpx>=0.25.2->langgraph-sdk>=0.1.42->langgraph>=0.3.5->langgraph-supervisor) (1.3.0)\n",
      "Requirement already satisfied: sniffio>=1.1 in /home/tejas.raval@simform.dom/Desktop/ViniGraph/pheonix/lib/python3.10/site-packages (from anyio->httpx>=0.25.2->langgraph-sdk>=0.1.42->langgraph>=0.3.5->langgraph-supervisor) (1.3.1)\n",
      "Installing collected packages: langgraph-supervisor\n",
      "Successfully installed langgraph-supervisor-0.0.27\n",
      "\n",
      "\u001b[1m[\u001b[0m\u001b[34;49mnotice\u001b[0m\u001b[1;39;49m]\u001b[0m\u001b[39;49m A new release of pip is available: \u001b[0m\u001b[31;49m23.0.1\u001b[0m\u001b[39;49m -> \u001b[0m\u001b[32;49m25.1.1\u001b[0m\n",
      "\u001b[1m[\u001b[0m\u001b[34;49mnotice\u001b[0m\u001b[1;39;49m]\u001b[0m\u001b[39;49m To update, run: \u001b[0m\u001b[32;49mpip install --upgrade pip\u001b[0m\n",
      "Note: you may need to restart the kernel to use updated packages.\n"
     ]
    }
   ],
   "source": [
    "%pip install langgraph-supervisor"
   ]
  },
  {
   "cell_type": "code",
   "execution_count": null,
   "id": "531ecb87",
   "metadata": {},
   "outputs": [],
   "source": [
    "from typing_extensions import TypedDict, List, Optional, Union,Annotated,Sequence\n",
    "from dotenv import load_dotenv\n",
    "from langchain_core.messages import BaseMessage,ToolMessage,SystemMessage\n",
    "from langchain_google_genai import ChatGoogleGenerativeAI\n",
    "from langchain_core.tools import tool\n",
    "from langgraph.graph.message import add_messages\n",
    "from langgraph.graph import StateGraph,END\n",
    "from langgraph.prebuilt import  ToolNode\n",
    "from langgraph.prebuilt import create_react_agent\n",
    "from langgraph_supervisor import create_supervisor\n",
    "load_dotenv()"
   ]
  },
  {
   "cell_type": "code",
   "execution_count": null,
   "id": "e62a9fa8",
   "metadata": {},
   "outputs": [],
   "source": [
    "llm = ChatGoogleGenerativeAI(\n",
    "    model=\"gemini-2.0-flash\",\n",
    "    temperature=0.2,\n",
    ")"
   ]
  },
  {
   "cell_type": "code",
   "execution_count": null,
   "metadata": {},
   "outputs": [],
   "source": [
    "import operator\n",
    "from langchain_core.agents import AgentAction,AgentFinish"
   ]
  },
  {
   "cell_type": "code",
   "execution_count": null,
   "id": "e7593047",
   "metadata": {},
   "outputs": [],
   "source": [
    "class AgentState(TypedDict):\n",
    "    input: str\n",
    "    agent_outcome:Union[AgentAction, AgentFinish,None]\n",
    "    intermediate_steps: Annotated[list[tuple[AgentAction,str]],operator.add]"
   ]
  },
  {
   "cell_type": "markdown",
   "id": "4309cb2a",
   "metadata": {},
   "source": [
    "### patient db connection"
   ]
  },
  {
   "cell_type": "markdown",
   "id": "4063445c",
   "metadata": {},
   "source": [
    "### medicine db connection"
   ]
  },
  {
   "cell_type": "markdown",
   "id": "146a8d13",
   "metadata": {},
   "source": [
    "### case db connection"
   ]
  },
  {
   "cell_type": "markdown",
   "id": "22ce4e76",
   "metadata": {},
   "source": [
    "## scheduling agent"
   ]
  },
  {
   "cell_type": "code",
   "execution_count": null,
   "id": "539de77a",
   "metadata": {},
   "outputs": [],
   "source": [
    "def scheduler (state:AgentState) ->AgentState:\n",
    "    return {\"messages\": state[\"\"]}\n",
    " "
   ]
  },
  {
   "cell_type": "code",
   "execution_count": null,
   "id": "25c0ca91",
   "metadata": {},
   "outputs": [],
   "source": []
  },
  {
   "cell_type": "code",
   "execution_count": null,
   "id": "db68e0c1",
   "metadata": {},
   "outputs": [],
   "source": []
  },
  {
   "cell_type": "code",
   "execution_count": null,
   "id": "23dfadac",
   "metadata": {},
   "outputs": [],
   "source": []
  },
  {
   "cell_type": "markdown",
   "id": "cb284fe5",
   "metadata": {},
   "source": [
    "# Tools"
   ]
  },
  {
   "cell_type": "markdown",
   "id": "abb722b9",
   "metadata": {},
   "source": [
    "### Appoitment_Scheduling_tools"
   ]
  },
  {
   "cell_type": "code",
   "execution_count": null,
   "id": "c16fbbc2",
   "metadata": {},
   "outputs": [],
   "source": []
  },
  {
   "cell_type": "markdown",
   "id": "497749d7",
   "metadata": {},
   "source": [
    "#### Case_Generation_tools"
   ]
  },
  {
   "cell_type": "code",
   "execution_count": null,
   "id": "a72fec64",
   "metadata": {},
   "outputs": [],
   "source": []
  },
  {
   "cell_type": "markdown",
   "id": "8c878b04",
   "metadata": {},
   "source": [
    "#### Medicine_inventory_tools"
   ]
  },
  {
   "cell_type": "code",
   "execution_count": null,
   "metadata": {},
   "outputs": [],
   "source": []
  },
  {
   "cell_type": "code",
   "execution_count": null,
   "metadata": {},
   "outputs": [],
   "source": []
  },
  {
   "cell_type": "code",
   "execution_count": null,
   "metadata": {},
   "outputs": [],
   "source": []
  },
  {
   "cell_type": "code",
   "execution_count": null,
   "metadata": {},
   "outputs": [],
   "source": []
  },
  {
   "cell_type": "code",
   "execution_count": null,
   "metadata": {},
   "outputs": [],
   "source": []
  },
  {
   "cell_type": "code",
   "execution_count": null,
   "metadata": {},
   "outputs": [],
   "source": []
  },
  {
   "cell_type": "code",
   "execution_count": null,
   "metadata": {},
   "outputs": [],
   "source": []
  },
  {
   "cell_type": "code",
   "execution_count": null,
   "id": "3ebfc7dd",
   "metadata": {},
   "outputs": [],
   "source": []
  },
  {
   "cell_type": "code",
   "execution_count": null,
   "metadata": {},
   "outputs": [],
   "source": []
  },
  {
   "cell_type": "code",
   "execution_count": null,
   "metadata": {},
   "outputs": [],
   "source": []
  },
  {
   "cell_type": "code",
   "execution_count": null,
   "metadata": {},
   "outputs": [],
   "source": []
  },
  {
   "cell_type": "code",
   "execution_count": null,
   "metadata": {},
   "outputs": [],
   "source": []
  }
 ],
 "metadata": {
  "kernelspec": {
   "display_name": "pheonix",
   "language": "python",
   "name": "python3"
  },
  "language_info": {
   "codemirror_mode": {
    "name": "ipython",
    "version": 3
   },
   "file_extension": ".py",
   "mimetype": "text/x-python",
   "name": "python",
   "nbconvert_exporter": "python",
   "pygments_lexer": "ipython3",
   "version": "3.8.10"
  }
 },
 "nbformat": 4,
 "nbformat_minor": 5
}
